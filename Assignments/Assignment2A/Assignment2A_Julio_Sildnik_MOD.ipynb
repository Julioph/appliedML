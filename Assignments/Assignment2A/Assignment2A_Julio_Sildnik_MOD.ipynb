{
 "cells": [
  {
   "cell_type": "code",
   "execution_count": 83,
   "metadata": {
    "pycharm": {
     "is_executing": false
    }
   },
   "outputs": [],
   "source": [
    "import numpy as np\n",
    "import pandas as pd\n",
    "import matplotlib.pyplot as plt\n",
    "from collections import Counter\n",
    "import re\n",
    "from nltk.corpus import stopwords\n",
    "from sklearn.feature_extraction.text import CountVectorizer\n",
    "from sklearn.model_selection import train_test_split\n",
    "from sklearn.naive_bayes import MultinomialNB\n",
    "from sklearn.metrics import accuracy_score, mean_squared_error\n",
    "from sklearn.feature_extraction.text import TfidfVectorizer\n",
    "from sklearn.pipeline import make_pipeline\n",
    "from sklearn.model_selection import train_test_split\n",
    "from sklearn.svm import LinearSVC\n",
    "from sklearn.metrics import f1_score\n",
    "from sklearn.tree import DecisionTreeClassifier\n",
    "from sklearn.ensemble import RandomForestClassifier #0.76 acc score\n",
    "from sklearn.ensemble import GradientBoostingClassifier\n",
    "from sklearn.linear_model import Perceptron\n",
    "from sklearn.linear_model import LogisticRegression\n",
    "from statistics import mean\n",
    "from sklearn import preprocessing\n",
    "from sklearn.model_selection import GridSearchCV\n",
    "from sklearn.model_selection import cross_val_score\n",
    "from sklearn.neural_network import MLPClassifier\n",
    "from sklearn.model_selection import cross_val_score\n",
    "from sklearn.ensemble import AdaBoostClassifier\n",
    "from sklearn.metrics import plot_confusion_matrix"
   ]
  },
  {
   "cell_type": "code",
   "execution_count": 84,
   "metadata": {
    "pycharm": {
     "is_executing": false
    }
   },
   "outputs": [],
   "source": [
    "stop_words = stopwords.words('english')\n",
    "\n",
    "# Returns a boolean value if the word given is a stop word\n",
    "def is_a_stop_word(word):\n",
    "    return word in stop_words\n",
    " \n",
    "# Removes stop words from given text\n",
    "def remove_stop_words(text):\n",
    "    words = text.split()\n",
    "    new_text = \"\"\n",
    "    for word in words:\n",
    "        if not is_a_stop_word(word):\n",
    "            new_text = new_text + word + \" \"\n",
    "    return new_text \n",
    "\n",
    "# Cleans a comment of different emojis, symbols, punctuation etc. and stop words\n",
    "def clean_comments(comment, remove_sw = True):\n",
    "    #first remove apostrphes commas signs...\n",
    "    no_space_replacement = re.compile(r'[.\\'<>,\\\"#)%(’‘–]')\n",
    "    space_replacement = re.compile(r'/')\n",
    "    #Then emojis\n",
    "    emoji_pattern = re.compile(\"[\"\n",
    "                           u\"\\U0001F600-\\U0001F64F\"  # emoticons\n",
    "                           u\"\\U0001F300-\\U0001F5FF\"  # symbols & pictographs\n",
    "                           u\"\\U0001F680-\\U0001F6FF\"  # transport & map symbols\n",
    "                           u\"\\U0001F1E0-\\U0001F1FF\"  # flags (iOS)\n",
    "                           u\"\\U00002702-\\U000027B0\"\n",
    "                           u\"\\U000024C2-\\U0001F251\"\n",
    "                           \"]+\", flags=re.UNICODE)\n",
    "    \n",
    "    clean_comment = no_space_replacement.sub('', comment)\n",
    "    clean_comment = space_replacement.sub(' ', clean_comment)\n",
    "    more_clean = emoji_pattern.sub(r'', clean_comment)\n",
    "    if remove_sw:\n",
    "        more_clean = remove_stop_words(more_clean.lower())\n",
    "    return more_clean\n",
    "    \n",
    "#Have the labeled output in the last column\n",
    "def reorganize_columns(df):\n",
    "    original_col_list = list(df.columns)\n",
    "    new_col_list = original_col_list[::-1]\n",
    "    reorganized_df = df[new_col_list]\n",
    "    return reorganized_df\n",
    "\n",
    "#Deal with annotations... take the most common opinion.\n",
    "def compact_annotations(annotation_list):\n",
    "    most_common_annotations = list()\n",
    "    \n",
    "    for annotation in annotation_list:\n",
    "        string = str(annotation)\n",
    "        opinions = string.split('/')\n",
    "        most_common_opinion = Counter(opinions).most_common(1)[0][0]\n",
    "        most_common_annotations.append(most_common_opinion)\n",
    "    \n",
    "    return most_common_annotations\n",
    "\n",
    "#Measure opinion agreement\n",
    "def consensus(annot_list):\n",
    "    agreement_rates = list()\n",
    "    for annot in annot_list:\n",
    "        opinion_count = Counter(annot).most_common(1)[0][1]\n",
    "        rate = opinion_count/len(annot)\n",
    "\n",
    "        #Which opinion is the most common, divide\n",
    "        #by the total number of opinions and get the rate of the most common one\n",
    "        #and if rate is 0.5, remove those rows\n",
    "        \n",
    "        if rate > 0.5:\n",
    "        \n",
    "            if Counter(annot).most_common(1)[0][0] == '1':\n",
    "                agreement_rates.append(('pro-brexit', rate))\n",
    "            elif Counter(annot).most_common(1)[0][0] == '0':\n",
    "                agreement_rates.append(('anti-brexit', rate))\n",
    "            else:\n",
    "                agreement_rates.append(('non-cat', rate))\n",
    "        \n",
    "        else:\n",
    "            \n",
    "            agreement_rates.append(('contradicting', rate))\n",
    "            \n",
    "    return agreement_rates\n",
    "\n",
    "#Remove comments (rows) with contradicting opinion\n",
    "def remove_conflicts(data_frame):\n",
    "    for row in data_frame.iterrows():\n",
    "        annot = row[1]['Annotations'].split('/') \n",
    "        ctr = Counter(annot)\n",
    "        if (ctr['0'] == ctr['1']) or (ctr.most_common(1)[0][0] == '-1'): #(ctr['0'] == ctr['-1']) or (ctr['1'] == ctr['-1']):\n",
    "            # Drop the row from the dataframe, since the sentiment is not clear\n",
    "            data_frame.drop(index=row[0], inplace=True)\n",
    "        \n",
    "    return data_frame\n",
    "\n",
    "#Remove comments (rows) with contradicting opinion, also filters by rate\n",
    "def remove_conflicts_by_rate(data_frame):\n",
    "    for row in data_frame.iterrows():\n",
    "        annot = row[1]['Annotations'].split('/') \n",
    "        ctr = Counter(annot)\n",
    "        rate = ctr.most_common(1)[0][1]/len(annot)\n",
    "        #If mostly '-1'      DELETE\n",
    "        #If same '0' and '1' DELETE\n",
    "        #If 1/-1   or   0/-1 ?????\n",
    "        if (ctr['0'] == ctr['1']) or (ctr.most_common(1)[0][0] == '-1'): #(ctr['0'] == ctr['-1']) or (ctr['1'] == ctr['-1']):\n",
    "            # Drop the row from the dataframe, since the sentiment is not clear\n",
    "            data_frame.drop(index=row[0], inplace=True)\n",
    "        elif rate < 0.6:\n",
    "            # Drop the row if the majority is too small of a fraction\n",
    "            data_frame.drop(index=row[0], inplace=True)\n",
    "        \n",
    "    return data_frame\n",
    "    "
   ]
  },
  {
   "cell_type": "code",
   "execution_count": 52,
   "metadata": {
    "pycharm": {
     "is_executing": false
    }
   },
   "outputs": [],
   "source": [
    "#Read data\n",
    "df = pd.read_csv('a2a_train_final.tsv', sep='\\t', names = [\"Annotations\", \"Comment\"])\n",
    "\n",
    "#Re-organize data\n",
    "df = reorganize_columns(df)"
   ]
  },
  {
   "cell_type": "code",
   "execution_count": 85,
   "metadata": {
    "pycharm": {
     "is_executing": false
    }
   },
   "outputs": [
    {
     "data": {
      "text/plain": [
       "Text(0.5, 1.0, 'Number of samples in different categories')"
      ]
     },
     "execution_count": 85,
     "metadata": {},
     "output_type": "execute_result"
    },
    {
     "data": {
      "image/png": "[encoded data removed]",
      "text/plain": [
       "<Figure size 648x432 with 1 Axes>"
      ]
     },
     "metadata": {
      "needs_background": "light"
     },
     "output_type": "display_data"
    }
   ],
   "source": [
    "consensus_rate = consensus([str(annotation).split('/') for annotation in df['Annotations']])\n",
    "\n",
    "x = [rate[0] for rate in consensus_rate]\n",
    "fig = plt.figure(figsize=(9,6))\n",
    "ax = fig.add_subplot(111)\n",
    "bars = ax.bar(Counter(x).keys(), Counter(x).values())\n",
    "for rect in bars:\n",
    "    height = rect.get_height()\n",
    "    ax.annotate('{}'.format(height),\n",
    "                xy=(rect.get_x() + rect.get_width() / 2, height),\n",
    "                xytext=(0, 3),  # 3 points vertical offset\n",
    "                textcoords=\"offset points\",\n",
    "                ha='center', va='bottom')\n",
    "plt.title(\"Number of samples in different categories\")\n"
   ]
  },
  {
   "cell_type": "code",
   "execution_count": 86,
   "metadata": {
    "pycharm": {
     "is_executing": false,
     "name": "#%%\n"
    }
   },
   "outputs": [],
   "source": [
    "#Remove contradicting opinions\n",
    "df = remove_conflicts_by_rate(df)"
   ]
  },
  {
   "cell_type": "code",
   "execution_count": 87,
   "metadata": {
    "pycharm": {
     "is_executing": false
    }
   },
   "outputs": [],
   "source": [
    "# Substitute the annotations with the most common one\n",
    "annotations_compacted = compact_annotations(df['Annotations'])\n",
    "\n",
    "df['Annotations'] = annotations_compacted\n",
    "df['Comment'] = df['Comment'].apply(clean_comments, remove_sw=False)\n",
    "\n",
    "# Clean the comments, create a dataframe without stop words\n",
    "df_no_stopwords = pd.DataFrame.copy(df)\n",
    "df_no_stopwords['Comment'] = df_no_stopwords['Comment'].apply(clean_comments, remove_sw=True)"
   ]
  },
  {
   "cell_type": "code",
   "execution_count": 88,
   "metadata": {
    "pycharm": {
     "is_executing": false,
     "name": "#%%\n"
    }
   },
   "outputs": [
    {
     "data": {
      "text/html": [
       "<div>\n",
       "<style scoped>\n",
       "    .dataframe tbody tr th:only-of-type {\n",
       "        vertical-align: middle;\n",
       "    }\n",
       "\n",
       "    .dataframe tbody tr th {\n",
       "        vertical-align: top;\n",
       "    }\n",
       "\n",
       "    .dataframe thead th {\n",
       "        text-align: right;\n",
       "    }\n",
       "</style>\n",
       "<table border=\"1\" class=\"dataframe\">\n",
       "  <thead>\n",
       "    <tr style=\"text-align: right;\">\n",
       "      <th></th>\n",
       "      <th>Comment</th>\n",
       "      <th>Annotations</th>\n",
       "    </tr>\n",
       "  </thead>\n",
       "  <tbody>\n",
       "    <tr>\n",
       "      <th>0</th>\n",
       "      <td>people never voted sneaky way saying brexit vo...</td>\n",
       "      <td>1</td>\n",
       "    </tr>\n",
       "    <tr>\n",
       "      <th>1</th>\n",
       "      <td>member european union bit like going sandwich ...</td>\n",
       "      <td>0</td>\n",
       "    </tr>\n",
       "    <tr>\n",
       "      <th>2</th>\n",
       "      <td>brexit bad immigrants make britain great also ...</td>\n",
       "      <td>0</td>\n",
       "    </tr>\n",
       "    <tr>\n",
       "      <th>3</th>\n",
       "      <td>britain basically pompeii pompeii voted volcan...</td>\n",
       "      <td>0</td>\n",
       "    </tr>\n",
       "    <tr>\n",
       "      <th>4</th>\n",
       "      <td>britains exit huge blow dream united europe en...</td>\n",
       "      <td>1</td>\n",
       "    </tr>\n",
       "  </tbody>\n",
       "</table>\n",
       "</div>"
      ],
      "text/plain": [
       "                                             Comment Annotations\n",
       "0  people never voted sneaky way saying brexit vo...           1\n",
       "1  member european union bit like going sandwich ...           0\n",
       "2  brexit bad immigrants make britain great also ...           0\n",
       "3  britain basically pompeii pompeii voted volcan...           0\n",
       "4  britains exit huge blow dream united europe en...           1"
      ]
     },
     "execution_count": 88,
     "metadata": {},
     "output_type": "execute_result"
    }
   ],
   "source": [
    "df_no_stopwords.head()"
   ]
  },
  {
   "cell_type": "code",
   "execution_count": 89,
   "metadata": {},
   "outputs": [
    {
     "data": {
      "text/html": [
       "<div>\n",
       "<style scoped>\n",
       "    .dataframe tbody tr th:only-of-type {\n",
       "        vertical-align: middle;\n",
       "    }\n",
       "\n",
       "    .dataframe tbody tr th {\n",
       "        vertical-align: top;\n",
       "    }\n",
       "\n",
       "    .dataframe thead th {\n",
       "        text-align: right;\n",
       "    }\n",
       "</style>\n",
       "<table border=\"1\" class=\"dataframe\">\n",
       "  <thead>\n",
       "    <tr style=\"text-align: right;\">\n",
       "      <th></th>\n",
       "      <th>Comment</th>\n",
       "      <th>Annotations</th>\n",
       "    </tr>\n",
       "  </thead>\n",
       "  <tbody>\n",
       "    <tr>\n",
       "      <th>0</th>\n",
       "      <td>people who have NEVER voted sneaky way of say...</td>\n",
       "      <td>1</td>\n",
       "    </tr>\n",
       "    <tr>\n",
       "      <th>1</th>\n",
       "      <td>Being a member of the European Union is a bit ...</td>\n",
       "      <td>0</td>\n",
       "    </tr>\n",
       "    <tr>\n",
       "      <th>2</th>\n",
       "      <td>Brexit is bad Immigrants make Britain great Th...</td>\n",
       "      <td>0</td>\n",
       "    </tr>\n",
       "    <tr>\n",
       "      <th>3</th>\n",
       "      <td>Britain is basically Pompeii if the Pompeii ha...</td>\n",
       "      <td>0</td>\n",
       "    </tr>\n",
       "    <tr>\n",
       "      <th>4</th>\n",
       "      <td>Britains exit is a huge blow to the dream of a...</td>\n",
       "      <td>1</td>\n",
       "    </tr>\n",
       "  </tbody>\n",
       "</table>\n",
       "</div>"
      ],
      "text/plain": [
       "                                             Comment Annotations\n",
       "0   people who have NEVER voted sneaky way of say...           1\n",
       "1  Being a member of the European Union is a bit ...           0\n",
       "2  Brexit is bad Immigrants make Britain great Th...           0\n",
       "3  Britain is basically Pompeii if the Pompeii ha...           0\n",
       "4  Britains exit is a huge blow to the dream of a...           1"
      ]
     },
     "execution_count": 89,
     "metadata": {},
     "output_type": "execute_result"
    }
   ],
   "source": [
    "df.head()"
   ]
  },
  {
   "cell_type": "code",
   "execution_count": 90,
   "metadata": {},
   "outputs": [],
   "source": [
    "#Read test data and re-organize\n",
    "test_df = pd.read_csv('a2a_test_final.tsv', sep='\\t', names=['Annotations', 'Comment'])\n",
    "test_df = reorganize_columns(test_df)\n",
    "test_df['Comment'] = test_df['Comment'].apply(clean_comments, remove_sw=False)\n",
    "\n",
    "test_df_no_stopwords = pd.DataFrame.copy(test_df)\n",
    "test_df_no_stopwords['Comment'] = test_df_no_stopwords['Comment'].apply(clean_comments, remove_sw=True)"
   ]
  },
  {
   "cell_type": "code",
   "execution_count": 91,
   "metadata": {},
   "outputs": [
    {
     "data": {
      "text/html": [
       "<div>\n",
       "<style scoped>\n",
       "    .dataframe tbody tr th:only-of-type {\n",
       "        vertical-align: middle;\n",
       "    }\n",
       "\n",
       "    .dataframe tbody tr th {\n",
       "        vertical-align: top;\n",
       "    }\n",
       "\n",
       "    .dataframe thead th {\n",
       "        text-align: right;\n",
       "    }\n",
       "</style>\n",
       "<table border=\"1\" class=\"dataframe\">\n",
       "  <thead>\n",
       "    <tr style=\"text-align: right;\">\n",
       "      <th></th>\n",
       "      <th>Comment</th>\n",
       "      <th>Annotations</th>\n",
       "    </tr>\n",
       "  </thead>\n",
       "  <tbody>\n",
       "    <tr>\n",
       "      <th>0</th>\n",
       "      <td>I didnt think about the business side - Every ...</td>\n",
       "      <td>0</td>\n",
       "    </tr>\n",
       "    <tr>\n",
       "      <th>1</th>\n",
       "      <td>I had to trigger Article 50 It would have been...</td>\n",
       "      <td>0</td>\n",
       "    </tr>\n",
       "    <tr>\n",
       "      <th>2</th>\n",
       "      <td>Uh we want to leave the EU but we want to keep...</td>\n",
       "      <td>0</td>\n",
       "    </tr>\n",
       "    <tr>\n",
       "      <th>3</th>\n",
       "      <td>DeathtotheEU oh wow I really hate the EU What ...</td>\n",
       "      <td>1</td>\n",
       "    </tr>\n",
       "    <tr>\n",
       "      <th>4</th>\n",
       "      <td>IVotedLeave and I hope you did too! EUref lets...</td>\n",
       "      <td>1</td>\n",
       "    </tr>\n",
       "  </tbody>\n",
       "</table>\n",
       "</div>"
      ],
      "text/plain": [
       "                                             Comment  Annotations\n",
       "0  I didnt think about the business side - Every ...            0\n",
       "1  I had to trigger Article 50 It would have been...            0\n",
       "2  Uh we want to leave the EU but we want to keep...            0\n",
       "3  DeathtotheEU oh wow I really hate the EU What ...            1\n",
       "4  IVotedLeave and I hope you did too! EUref lets...            1"
      ]
     },
     "execution_count": 91,
     "metadata": {},
     "output_type": "execute_result"
    }
   ],
   "source": [
    "test_df.head()"
   ]
  },
  {
   "cell_type": "code",
   "execution_count": 92,
   "metadata": {},
   "outputs": [
    {
     "data": {
      "text/html": [
       "<div>\n",
       "<style scoped>\n",
       "    .dataframe tbody tr th:only-of-type {\n",
       "        vertical-align: middle;\n",
       "    }\n",
       "\n",
       "    .dataframe tbody tr th {\n",
       "        vertical-align: top;\n",
       "    }\n",
       "\n",
       "    .dataframe thead th {\n",
       "        text-align: right;\n",
       "    }\n",
       "</style>\n",
       "<table border=\"1\" class=\"dataframe\">\n",
       "  <thead>\n",
       "    <tr style=\"text-align: right;\">\n",
       "      <th></th>\n",
       "      <th>Comment</th>\n",
       "      <th>Annotations</th>\n",
       "    </tr>\n",
       "  </thead>\n",
       "  <tbody>\n",
       "    <tr>\n",
       "      <th>0</th>\n",
       "      <td>didnt think business side - every brexit voter</td>\n",
       "      <td>0</td>\n",
       "    </tr>\n",
       "    <tr>\n",
       "      <th>1</th>\n",
       "      <td>trigger article 50 would embarrassing otherwis...</td>\n",
       "      <td>0</td>\n",
       "    </tr>\n",
       "    <tr>\n",
       "      <th>2</th>\n",
       "      <td>uh want leave eu want keep benefits</td>\n",
       "      <td>0</td>\n",
       "    </tr>\n",
       "    <tr>\n",
       "      <th>3</th>\n",
       "      <td>deathtotheeu oh wow really hate eu bunch arrog...</td>\n",
       "      <td>1</td>\n",
       "    </tr>\n",
       "    <tr>\n",
       "      <th>4</th>\n",
       "      <td>ivotedleave hope too! euref lets take back con...</td>\n",
       "      <td>1</td>\n",
       "    </tr>\n",
       "  </tbody>\n",
       "</table>\n",
       "</div>"
      ],
      "text/plain": [
       "                                             Comment  Annotations\n",
       "0    didnt think business side - every brexit voter             0\n",
       "1  trigger article 50 would embarrassing otherwis...            0\n",
       "2               uh want leave eu want keep benefits             0\n",
       "3  deathtotheeu oh wow really hate eu bunch arrog...            1\n",
       "4  ivotedleave hope too! euref lets take back con...            1"
      ]
     },
     "execution_count": 92,
     "metadata": {},
     "output_type": "execute_result"
    }
   ],
   "source": [
    "test_df_stopwords.head()"
   ]
  },
  {
   "cell_type": "code",
   "execution_count": 132,
   "metadata": {},
   "outputs": [],
   "source": [
    "xtrain = df[\"Comment\"]\n",
    "ytrain = df[\"Annotations\"]\n",
    "\n",
    "xtest = test_df['Comment']\n",
    "ytest = test_df['Annotations'].apply(str)\n",
    "\n",
    "\n",
    "xtrain_no_stopwords = df_no_stopwords[\"Comment\"]\n",
    "ytrain_no_stopwords = df_no_stopwords[\"Annotations\"]\n",
    "\n",
    "xtest_no_stopwords = test_df_no_stopwords[\"Comment\"]\n",
    "ytest_no_stopwords = test_df_no_stopwords[\"Annotations\"].apply(str)"
   ]
  },
  {
   "cell_type": "code",
   "execution_count": 133,
   "metadata": {},
   "outputs": [],
   "source": [
    "# Apply CountVectorizer\n",
    "tf_vec = TfidfVectorizer()\n",
    "xtrain_transformed = tf_vec.fit_transform(xtrain)\n",
    "xtest_transformed = tf_vec.transform(xtest)"
   ]
  },
  {
   "cell_type": "code",
   "execution_count": 72,
   "metadata": {},
   "outputs": [
    {
     "name": "stdout",
     "output_type": "stream",
     "text": [
      "Scores:\n",
      "\n",
      "('MultinomialNB', 0.7760482859269139)\n",
      "('Logistic Regression', 0.7734991833144867)\n",
      "('RandomForestClassifier', 0.7498465017831772)\n",
      "('AdaBoostClassifer', 0.6921657726618149)\n",
      "\n",
      "Best classifier:  ('MultinomialNB', 0.7760482859269139)\n"
     ]
    }
   ],
   "source": [
    "# Try better classifiers\n",
    "classifiers = [MultinomialNB(), LogisticRegression(max_iter = 1000), RandomForestClassifier(), AdaBoostClassifier()]\n",
    "scores = list()\n",
    "names = ['MultinomialNB', 'Logistic Regression', 'RandomForestClassifier', 'AdaBoostClassifer']\n",
    "for i, clf in enumerate(classifiers):\n",
    "    # clf_scores = list()\n",
    "    scores.append((names[i], mean(cross_val_score(clf, xtrain_transformed, ytrain, cv=5, n_jobs=-1))))\n",
    "\n",
    "print(\"Scores:\\n\")\n",
    "for i in scores:\n",
    "    print(i)\n",
    "\n",
    "print(\"\\nBest classifier: \", max(scores, key=lambda tup: tup[1]))"
   ]
  },
  {
   "cell_type": "code",
   "execution_count": 120,
   "metadata": {
    "pycharm": {
     "is_executing": false
    }
   },
   "outputs": [
    {
     "name": "stdout",
     "output_type": "stream",
     "text": [
      "Running MultinomialNB ...\n",
      "Optimized MultinomialNB With params: {'alpha': 0.8}. Score : 0.7948\n",
      "\n",
      "Running LogisticRegression ...\n",
      "Optimized LogisticRegression With params: {'C': 1.8}. Score : 0.8000\n",
      "\n"
     ]
    }
   ],
   "source": [
    "#Tune top classifiers and parameters\n",
    "names = ['MultinomialNB', 'LogisticRegression']\n",
    "classifiers = [MultinomialNB(), LogisticRegression(max_iter = 1000)]\n",
    "param_grid = [\n",
    "            [{'alpha':[i/10 for i in range(5,30)]}],\n",
    "            [{'C':[1.0, 1.2, 1.4, 1.6, 1.8, 2.0, 2.4]}]\n",
    "            ]\n",
    "\n",
    "\n",
    "for name, classifier, parameters in zip(names, classifiers, param_grid):\n",
    "    \n",
    "    print(\"Running {} ...\".format(name))\n",
    "    grid = GridSearchCV(classifier, param_grid = parameters, n_jobs = -1, cv = 5, scoring='accuracy')\n",
    "    cpx = grid.fit(xtrain_transformed, ytrain)\n",
    "    score =  cpx.score(xtest_transformed, ytest)\n",
    "    \n",
    "    print(\"Optimized {0} With params: {1}. Score : {2:.4f}\\n\".format(name, cpx.best_params_, score))"
   ]
  },
  {
   "cell_type": "code",
   "execution_count": 102,
   "metadata": {
    "pycharm": {
     "is_executing": false,
     "name": "#%%\n"
    }
   },
   "outputs": [],
   "source": [
    "# A pipeline that used TfidfVectorizer\n",
    "def train_document_classifier(X, Y, classifier):\n",
    "    pipeline = make_pipeline( TfidfVectorizer(), classifier)\n",
    "    pipeline.fit(X, Y)\n",
    "    return pipeline\n",
    "\n",
    "# Returns the Accuracy and F1 score of the given classifier\n",
    "def acc_and_f1_score_of_classifier(X, Y, X_test, Y_test, classifier):\n",
    "    trained_clf = train_document_classifier(X, Y, classifier)\n",
    "    return accuracy_score(Y_test, trained_clf.predict(X_test)), f1_score(Y_test, trained_clf.predict(X_test), pos_label='1')"
   ]
  },
  {
   "cell_type": "code",
   "execution_count": 144,
   "metadata": {
    "pycharm": {
     "is_executing": false,
     "name": "#%%\n"
    }
   },
   "outputs": [
    {
     "name": "stdout",
     "output_type": "stream",
     "text": [
      "(0.7974137931034483, 0.8094079480940796)\n",
      "(0.7905172413793103, 0.8108949416342411)\n",
      "(0.7931034482758621, 0.813953488372093)\n",
      "(0.7620689655172413, 0.7802547770700637)\n"
     ]
    }
   ],
   "source": [
    "log_reg_clf = LogisticRegression()\n",
    "print(acc_and_f1_score_of_classifier(xtrain, ytrain, xtest, ytest, log_reg_clf))\n",
    "rf_clf = RandomForestClassifier(n_jobs=-1, max_depth=50, n_estimators=1000)\n",
    "print(acc_and_f1_score_of_classifier(xtrain, ytrain, xtest, ytest, rf_clf))\n",
    "multiNB_clf = MultinomialNB()\n",
    "print(acc_and_f1_score_of_classifier(xtrain, ytrain, xtest, ytest, multiNB_clf))\n",
    "clf_base = AdaBoostClassifier(n_estimators=2000)\n",
    "print(acc_and_f1_score_of_classifier(xtrain, ytrain, xtest, ytest, clf_base))"
   ]
  },
  {
   "cell_type": "code",
   "execution_count": 117,
   "metadata": {
    "pycharm": {
     "is_executing": false,
     "name": "#%%\n"
    }
   },
   "outputs": [
    {
     "name": "stdout",
     "output_type": "stream",
     "text": [
      "Logistic regression. Test data:\n",
      "Accuracy: 0.800 \t\t F1 score: 0.812\n",
      "\n",
      "Mulinomial Naive Bayes. Test data:\n",
      "Accuracy: 0.795 \t\t F1 score: 0.815\n"
     ]
    }
   ],
   "source": [
    "# LogReg and MultiNB had the best results on the test set, so look at accuracy and f1 score\n",
    "\n",
    "\n",
    "print(\"Logistic regression. Test data:\")\n",
    "a,f = acc_and_f1_score_of_classifier(xtrain, ytrain, xtest, ytest, LogisticRegression(C = 1.8))\n",
    "print(\"Accuracy: {0:.3f} \\t\\t F1 score: {1:.3f}\".format(a, f))\n",
    "\n",
    "print(\"\\nMulinomial Naive Bayes. Test data:\")\n",
    "a,f = acc_and_f1_score_of_classifier(xtrain, ytrain, xtest, ytest, MultinomialNB(alpha = 0.8))\n",
    "print(\"Accuracy: {0:.3f} \\t\\t F1 score: {1:.3f}\".format(a, f))"
   ]
  },
  {
   "cell_type": "code",
   "execution_count": 121,
   "metadata": {},
   "outputs": [
    {
     "name": "stdout",
     "output_type": "stream",
     "text": [
      "Running MultinomialNB ...\n",
      "Optimized MultinomialNB With params: {'alpha': 0.9}. Score : 0.7862\n",
      "\n",
      "Running LogisticRegression ...\n",
      "Optimized LogisticRegression With params: {'C': 2.0}. Score : 0.7810\n",
      "\n"
     ]
    }
   ],
   "source": [
    "#Now tune hyper parameters for best classifiers but without stopwords\n",
    "xtrain_transformed_no_sw = tf_vec.fit_transform(xtrain_no_stopwords)\n",
    "xtest_transformed_no_sw = tf_vec.transform(xtest_no_stopwords)\n",
    "\n",
    "#Tune best classifiers and parameters\n",
    "names = ['MultinomialNB', 'LogisticRegression']\n",
    "classifiers = [MultinomialNB(), LogisticRegression(max_iter = 1000)]\n",
    "param_grid = [\n",
    "            [{'alpha':[i/10 for i in range(5,30)]}],\n",
    "            [{'C':[1.0, 1.2, 1.4, 1.6, 1.8, 2.0, 2.4]}]\n",
    "            ]\n",
    "\n",
    "\n",
    "for name, classifier, parameters in zip(names, classifiers, param_grid):\n",
    "    print(\"Running {} ...\".format(name))\n",
    "    grid = GridSearchCV(classifier, param_grid = parameters, n_jobs = -1, cv = 5, scoring='accuracy')\n",
    "    cpx = grid.fit(xtrain_transformed_no_sw, ytrain)\n",
    "    score =  cpx.score(xtest_transformed_no_sw, ytest)\n",
    "    \n",
    "    print(\"Optimized {0} With params: {1}. Score : {2:.4f}\\n\".format(name, cpx.best_params_, score))"
   ]
  },
  {
   "cell_type": "code",
   "execution_count": 124,
   "metadata": {},
   "outputs": [
    {
     "name": "stdout",
     "output_type": "stream",
     "text": [
      "Logistic regression. Test data NO stopwords:\n",
      "Accuracy: 0.781 \t\t F1 score: 0.794\n",
      "\n",
      "Mulinomial Naive Bayes. Test data NO stopwords:\n",
      "Accuracy: 0.786 \t\t F1 score: 0.807\n"
     ]
    }
   ],
   "source": [
    "log_reg_no_sw = train_document_classifier(xtrain_no_stopwords, ytrain_no_stopwords, LogisticRegression(C = 2.0))\n",
    "multiNB_no_sw = train_document_classifier(xtrain_no_stopwords, ytrain_no_stopwords, MultinomialNB(alpha = 0.9))\n",
    "\n",
    "# LogReg and MultiNB are the best classifiers, so look at accuracy and f1 score without stopwords\n",
    "\n",
    "\n",
    "print(\"Logistic regression. Test data NO stopwords:\")\n",
    "a,f = acc_and_f1_score_of_classifier(xtrain_no_stopwords, ytrain_no_stopwords, xtest_no_stopwords, ytest_no_stopwords, LogisticRegression(C = 2.0))\n",
    "print(\"Accuracy: {0:.3f} \\t\\t F1 score: {1:.3f}\".format(a, f))\n",
    "\n",
    "print(\"\\nMulinomial Naive Bayes. Test data NO stopwords:\")\n",
    "a,f = acc_and_f1_score_of_classifier(xtrain_no_stopwords, ytrain_no_stopwords, xtest_no_stopwords, ytest_no_stopwords, MultinomialNB(alpha = 0.9))\n",
    "print(\"Accuracy: {0:.3f} \\t\\t F1 score: {1:.3f}\".format(a, f))"
   ]
  },
  {
   "cell_type": "code",
   "execution_count": 174,
   "metadata": {},
   "outputs": [
    {
     "data": {
      "text/plain": [
       "MultinomialNB(alpha=0.9, class_prior=None, fit_prior=True)"
      ]
     },
     "execution_count": 174,
     "metadata": {},
     "output_type": "execute_result"
    }
   ],
   "source": [
    "sub = multiNB_no_sw[1:]\n",
    "sub[-1].coef_[0]"
   ]
  },
  {
   "cell_type": "code",
   "execution_count": 179,
   "metadata": {},
   "outputs": [
    {
     "ename": "AttributeError",
     "evalue": "'AdaBoostClassifier' object has no attribute 'coef_'",
     "output_type": "error",
     "traceback": [
      "\u001b[1;31m---------------------------------------------------------------------------\u001b[0m",
      "\u001b[1;31mAttributeError\u001b[0m                            Traceback (most recent call last)",
      "\u001b[1;32m<ipython-input-179-4d6bee3056cd>\u001b[0m in \u001b[0;36m<module>\u001b[1;34m\u001b[0m\n\u001b[0;32m      6\u001b[0m         \u001b[0mprint\u001b[0m \u001b[1;33m(\u001b[0m\u001b[1;34m\"\\t%.4f\\t%-15s\\t\"\u001b[0m \u001b[1;33m%\u001b[0m \u001b[1;33m(\u001b[0m\u001b[0mcoef_1\u001b[0m\u001b[1;33m,\u001b[0m \u001b[0mfn_1\u001b[0m\u001b[1;33m)\u001b[0m\u001b[1;33m)\u001b[0m\u001b[1;33m\u001b[0m\u001b[1;33m\u001b[0m\u001b[0m\n\u001b[0;32m      7\u001b[0m \u001b[1;33m\u001b[0m\u001b[0m\n\u001b[1;32m----> 8\u001b[1;33m \u001b[0mshow_most_informative_features\u001b[0m\u001b[1;33m(\u001b[0m\u001b[0msub\u001b[0m\u001b[1;33m[\u001b[0m\u001b[1;33m-\u001b[0m\u001b[1;36m1\u001b[0m\u001b[1;33m]\u001b[0m\u001b[1;33m,\u001b[0m \u001b[1;36m30\u001b[0m\u001b[1;33m)\u001b[0m\u001b[1;33m\u001b[0m\u001b[1;33m\u001b[0m\u001b[0m\n\u001b[0m",
      "\u001b[1;32m<ipython-input-179-4d6bee3056cd>\u001b[0m in \u001b[0;36mshow_most_informative_features\u001b[1;34m(clasif, n_features)\u001b[0m\n\u001b[0;32m      1\u001b[0m \u001b[1;32mdef\u001b[0m \u001b[0mshow_most_informative_features\u001b[0m\u001b[1;33m(\u001b[0m\u001b[0mclasif\u001b[0m\u001b[1;33m,\u001b[0m \u001b[0mn_features\u001b[0m\u001b[1;33m)\u001b[0m\u001b[1;33m:\u001b[0m\u001b[1;33m\u001b[0m\u001b[1;33m\u001b[0m\u001b[0m\n\u001b[0;32m      2\u001b[0m     \u001b[0mfeature_names\u001b[0m \u001b[1;33m=\u001b[0m \u001b[0mtf_vec\u001b[0m\u001b[1;33m.\u001b[0m\u001b[0mget_feature_names\u001b[0m\u001b[1;33m(\u001b[0m\u001b[1;33m)\u001b[0m\u001b[1;33m\u001b[0m\u001b[1;33m\u001b[0m\u001b[0m\n\u001b[1;32m----> 3\u001b[1;33m     \u001b[0mcoefs_fnames\u001b[0m \u001b[1;33m=\u001b[0m \u001b[0msorted\u001b[0m\u001b[1;33m(\u001b[0m\u001b[0mzip\u001b[0m\u001b[1;33m(\u001b[0m\u001b[0mclf\u001b[0m\u001b[1;33m.\u001b[0m\u001b[0mcoef_\u001b[0m\u001b[1;33m[\u001b[0m\u001b[1;36m0\u001b[0m\u001b[1;33m]\u001b[0m\u001b[1;33m,\u001b[0m \u001b[0mfeature_names\u001b[0m\u001b[1;33m)\u001b[0m\u001b[1;33m)\u001b[0m\u001b[1;33m\u001b[0m\u001b[1;33m\u001b[0m\u001b[0m\n\u001b[0m\u001b[0;32m      4\u001b[0m     \u001b[0mtop\u001b[0m \u001b[1;33m=\u001b[0m \u001b[0mcoefs_fnames\u001b[0m\u001b[1;33m[\u001b[0m\u001b[1;33m:\u001b[0m\u001b[1;33m-\u001b[0m\u001b[1;33m(\u001b[0m\u001b[0mn\u001b[0m \u001b[1;33m+\u001b[0m \u001b[1;36m1\u001b[0m\u001b[1;33m)\u001b[0m\u001b[1;33m:\u001b[0m\u001b[1;33m-\u001b[0m\u001b[1;36m1\u001b[0m\u001b[1;33m]\u001b[0m\u001b[1;33m\u001b[0m\u001b[1;33m\u001b[0m\u001b[0m\n\u001b[0;32m      5\u001b[0m     \u001b[1;32mfor\u001b[0m \u001b[0mcoef_1\u001b[0m\u001b[1;33m,\u001b[0m \u001b[0mfn_1\u001b[0m \u001b[1;32min\u001b[0m \u001b[0mtop\u001b[0m\u001b[1;33m:\u001b[0m\u001b[1;33m\u001b[0m\u001b[1;33m\u001b[0m\u001b[0m\n",
      "\u001b[1;31mAttributeError\u001b[0m: 'AdaBoostClassifier' object has no attribute 'coef_'"
     ]
    }
   ],
   "source": [
    "def show_most_informative_features(clasif, n_features):\n",
    "    feature_names = tf_vec.get_feature_names()\n",
    "    coefs_fnames = sorted(zip(clf.coef_[0], feature_names))\n",
    "    top = coefs_fnames[:-(n + 1):-1]\n",
    "    for coef_1, fn_1 in top:\n",
    "        print (\"\\t%.4f\\t%-15s\\t\" % (coef_1, fn_1))\n",
    "    \n",
    "show_most_informative_features(sub[-1], 30)"
   ]
  },
  {
   "cell_type": "code",
   "execution_count": 184,
   "metadata": {},
   "outputs": [
    {
     "name": "stdout",
     "output_type": "stream",
     "text": [
      "\t-10.4900\t000            \t\t-4.6736\tetcbut         \n",
      "\t-10.4900\t02             \t\t-5.0422\tleadsom        \n",
      "\t-10.4900\t025            \t\t-5.3086\tbrexidiots     \n",
      "\t-10.4900\t05             \t\t-5.3764\ttwo            \n",
      "\t-10.4900\t08             \t\t-5.5776\tbrings         \n",
      "\t-10.4900\t100000         \t\t-5.6290\tvitriolic      \n",
      "\t-10.4900\t10000s         \t\t-5.6451\tpedophile      \n",
      "\t-10.4900\t100bn          \t\t-5.6783\tdead           \n",
      "\t-10.4900\t101            \t\t-5.7862\twahwah         \n",
      "\t-10.4900\t1066           \t\t-5.8163\tvital          \n",
      "\t-10.4900\t10am           \t\t-5.8307\tgerard         \n",
      "\t-10.4900\t10s            \t\t-5.8621\tuphold         \n",
      "\t-10.4900\t115            \t\t-5.9047\tcountres       \n",
      "\t-10.4900\t11745          \t\t-5.9653\tgrass          \n",
      "\t-10.4900\t1269501        \t\t-5.9887\tdon            \n",
      "\t-10.4900\t12bn           \t\t-6.0010\tgold           \n",
      "\t-10.4900\t12x            \t\t-6.0772\tbaboons        \n",
      "\t-10.4900\t1300           \t\t-6.0950\teuro           \n",
      "\t-10.4900\t130000         \t\t-6.1095\tbritania       \n",
      "\t-10.4900\t130bn          \t\t-6.2101\tdemeaning      \n",
      "\t-10.4900\t143            \t\t-6.2806\tthugs          \n",
      "\t-10.4900\t147bn          \t\t-6.3113\tworks          \n",
      "\t-10.4900\t150000         \t\t-6.3372\tfraudsters     \n",
      "\t-10.4900\t150bill        \t\t-6.3388\tlifeboats      \n",
      "\t-10.4900\t15yrs          \t\t-6.3532\tdavos          \n",
      "\t-10.4900\t16             \t\t-6.3546\tfraternity     \n",
      "\t-10.4900\t1618           \t\t-6.3549\tnavy           \n",
      "\t-10.4900\t165            \t\t-6.4153\tleavemeansleave\n",
      "\t-10.4900\t168            \t\t-6.4273\thappened       \n",
      "\t-10.4900\t168million     \t\t-6.4377\tokay           \n"
     ]
    }
   ],
   "source": [
    "def show_most_informative_features(vectorizer, clf, n=20):\n",
    "    feature_names = vectorizer.get_feature_names()\n",
    "    coefs_with_fns = sorted(zip(clf.coef_[0], feature_names))\n",
    "    top = zip(coefs_with_fns[:n], coefs_with_fns[:-(n + 1):-1])\n",
    "    for (coef_1, fn_1), (coef_2, fn_2) in top:\n",
    "        print (\"\\t%.4f\\t%-15s\\t\\t%.4f\\t%-15s\" % (coef_1, fn_1, coef_2, fn_2))\n",
    "    \n",
    "show_most_informative_features(tf_vec, sub[-1], 30)"
   ]
  },
  {
   "cell_type": "code",
   "execution_count": 138,
   "metadata": {
    "pycharm": {
     "is_executing": false,
     "name": "#%% \n"
    }
   },
   "outputs": [
    {
     "data": {
      "text/plain": [
       "<sklearn.metrics._plot.confusion_matrix.ConfusionMatrixDisplay at 0x1e6b598a4a8>"
      ]
     },
     "execution_count": 138,
     "metadata": {},
     "output_type": "execute_result"
    },
    {
     "data": {
      "image/png": "[encoded data removed]",
      "text/plain": [
       "<Figure size 432x288 with 2 Axes>"
      ]
     },
     "metadata": {
      "needs_background": "light"
     },
     "output_type": "display_data"
    }
   ],
   "source": [
    "# Get the confusion matrix as well as print out every 10th sentence that the labeling got wrong\n",
    "# The sentence is printed out with and without stop words\n",
    "logreg = train_document_classifier(xtrain_no_stopwords, ytrain_no_stopwords, LogisticRegression(C = 1.8))\n",
    "plot_confusion_matrix(logreg, xtest_no_stopwords, ytest_no_stopwords, values_format='n')"
   ]
  },
  {
   "cell_type": "code",
   "execution_count": 128,
   "metadata": {
    "pycharm": {
     "is_executing": false,
     "name": "#%%\n"
    },
    "scrolled": true
   },
   "outputs": [
    {
     "name": "stdout",
     "output_type": "stream",
     "text": [
      "40 alot friends settled uk mainland europe looking moving back homeland brexit gp paediatric nurse homeless outreach workers support workers carers among good thing well plenty places go holiday! \n",
      "40 Alot of my friends who have settled in uk from mainland Europe are looking at moving back to their homeland because of Brexit A GP paediatric nurse homeless outreach workers support workers and carers among them The only good thing is that well have plenty of places to go on holiday! \n",
      "\n",
      "70 brexit way! \n",
      "70 BREXIT ALL THE WAY! \n",
      "\n",
      "101 brexit best uk \n",
      "101 Brexit best for UK \n",
      "\n",
      "160 brexit golden new era? gb \n",
      "160 Brexit should be The Golden New Era? for GB \n",
      "\n",
      "266 done : \n",
      "266 Done They Out : \n",
      "\n",
      "300 fair enough walter case preferring governed politicians least partly understand least share basic values culture identity feel reasonably closely accountable \n",
      "300 Fair enough Walter For me its a case of preferring to be governed by politicians I at least partly understand who at least share the same basic values culture and identity that I have and whom I feel are reasonably closely accountable \n",
      "\n",
      "380 assure dont regret \n",
      "380 I assure you We dont regret this \n",
      "\n",
      "425 support brexit one knows happen brexit try it? \n",
      "425 I support Brexit no one knows what will happen after Brexit but why not try it? \n",
      "\n",
      "487 goal less power influence world good move \n",
      "487 If their goal is less power and influence in the world then its a good move \n",
      "\n",
      "519 bad idea join first place cant squish 27 national policies one without either becoming true single country risking outlier fall parity benefit \n",
      "519 It was a bad idea to join in the first place because you cant squish 27 national policies into one without either becoming a true single country or risking an outlier fall out of parity benefit \n",
      "\n",
      "556 im sorry europe us want go \n",
      "556 Im sorry Europe Not all of us want to go \n",
      "\n",
      "608 many many thanks brexiteers gave scotland final push become independant nation \n",
      "608 Many many thanks brexiteers you just gave Scotland the final push to become an independant nation again \n",
      "\n",
      "662 theyre finally free free send home nasty polish people work constructions peanuts employ british people willing take jobs; free keep pakistani tens children financially supported university; free make things difficult students researchers wanting come uk forgetting scientists come good idea patent britishs property whole country benefits that; free compete alone giants like china people work salaries comparable china competing means produce better cheaper competitors case youre fit nostalgia britain great empire know domination option anymore prefer word colonisation though infact colonise mars antartica dominate country impose rule place already inhabited \n",
      "662 Now theyre finally free Free to send home all those nasty Polish people who work in the constructions for peanuts so that they can employ British people willing to take those jobs; free to keep all those Pakistani having tens of children each who will be financially supported until university; free to make things difficult for students and researchers wanting to come into the UK  forgetting that once those scientists come up with some good idea the patent is Britishs property and the whole country benefits from that; free to compete alone with giants like China and have people work for salaries comparable to those in China Competing means to produce more better and cheaper than your competitors In case youre having a fit of nostalgia for when Britain was a great empire know that domination is not an option anymore You prefer the word colonisation though infact you colonise Mars or Antartica but you dominate a country when you impose your rule on a place that is already inhabited \n",
      "\n",
      "687 universities nhs abused sense global entitlement academics medical professionals need take back control \n",
      "687 Our universities and NHS have been abused by this sense of global entitlement from our academics and medical professionals We need to take back control \n",
      "\n",
      "748 sorry james dont agree backstop restrictive conditions ties us eu must dropped unilaterally trying stop competition uk totally unacceptable amazes way politicians ignore facts contradict view point \n",
      "748 Sorry James I dont agree with you The backstop and ANY restrictive conditions which ties us to the EU must be dropped They are unilaterally trying to stop any competition from the UK Totally unacceptable It amazes me the way politicians just ignore any facts that contradict their view point \n",
      "\n",
      "804 eu policies immigration disaster uk \n",
      "804 The EU policies on immigration has been a disaster for the UK \n",
      "\n",
      "851 look norway switzerland less attractive position appears \n",
      "851 The more you look at Norway or Switzerland the less attractive their position appears \n",
      "\n",
      "910 boris guy delusional getting insane! \n",
      "910 This Boris guy is so delusional its getting insane! \n",
      "\n",
      "945 totally irresponsible retract article 50 take time negotiate deal really want action destroy britain \n",
      "945 Totally irresponsible when they can retract Article 50 Then take the time to negotiate the deal they really want This action will destroy Britain \n",
      "\n",
      "1034 well able negotiate bilateral trade agreements countries solely take consideration nations interest \n",
      "1034 Well be able to negotiate bilateral trade agreements with other countries that solely take into consideration the nations interest \n",
      "\n",
      "1086 liberal american want thank england us front row seat trump presidency would look like thank showing us preview really happens give hate fear enjoy example eu make probably going look like something prison movie thank fact probably bring actual reforms eu none benefit \n",
      "1086 as a liberal american i want to thank you england we in the us will now have i front row seat to what a trump presidency would look like thank you for showing us a preview of what really happens when you give in to hate and fear enjoy the example the eu is about to make out of you it is probably going to look like something out of a prison movie thank you for the fact that this will probably bring about actual reforms in the eu none of which you will benefit from \n",
      "\n",
      "1127 less friends enemies possibilitys war good job ypu played self \n",
      "1127 less friends more enemies more possibilitys of war good job ypu played your self \n",
      "\n",
      "1153 need petition referendum get back europe \n",
      "1153 we need a petition for a referendum to get back in Europe \n",
      "\n"
     ]
    }
   ],
   "source": [
    "Y_pred = logreg.predict(xtest)\n",
    "count = 0\n",
    "for num, i in enumerate(range(len(Y_pred))):\n",
    "    if Y_pred[i] != ytest.iloc[i]:\n",
    "        count += 1\n",
    "        if count == 10:\n",
    "            print(num, xtest_no_stopwords.iloc[i])\n",
    "            print(num, xtest.iloc[i], \"\\n\")\n",
    "    count = count % 10"
   ]
  },
  {
   "cell_type": "code",
   "execution_count": null,
   "metadata": {
    "pycharm": {
     "is_executing": false,
     "name": "#%%\n"
    }
   },
   "outputs": [],
   "source": []
  }
 ],
 "metadata": {
  "kernelspec": {
   "display_name": "Python 3",
   "language": "python",
   "name": "python3"
  },
  "language_info": {
   "codemirror_mode": {
    "name": "ipython",
    "version": 3
   },
   "file_extension": ".py",
   "mimetype": "text/x-python",
   "name": "python",
   "nbconvert_exporter": "python",
   "pygments_lexer": "ipython3",
   "version": "3.7.1"
  },
  "pycharm": {
   "stem_cell": {
    "cell_type": "raw",
    "metadata": {
     "collapsed": false
    },
    "source": []
   }
  }
 },
 "nbformat": 4,
 "nbformat_minor": 2
}
