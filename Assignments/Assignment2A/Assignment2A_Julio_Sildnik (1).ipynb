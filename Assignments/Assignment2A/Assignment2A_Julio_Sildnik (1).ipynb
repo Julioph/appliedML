{
 "cells": [
  {
   "cell_type": "code",
   "execution_count": 3,
   "metadata": {
    "pycharm": {
     "is_executing": false
    }
   },
   "outputs": [],
   "source": [
    "import numpy as np\n",
    "import pandas as pd\n",
    "import matplotlib.pyplot as plt\n",
    "from collections import Counter\n",
    "import re\n",
    "from sklearn.feature_extraction.text import CountVectorizer\n",
    "from sklearn.model_selection import train_test_split\n",
    "from sklearn.naive_bayes import MultinomialNB\n",
    "from sklearn.metrics import accuracy_score, mean_squared_error\n",
    "from sklearn.feature_extraction.text import TfidfVectorizer\n",
    "from sklearn.pipeline import make_pipeline\n",
    "from sklearn.model_selection import train_test_split\n",
    "from sklearn.svm import LinearSVC\n",
    "from sklearn.metrics import f1_score\n",
    "from sklearn.tree import DecisionTreeClassifier\n",
    "from sklearn.ensemble import RandomForestClassifier #0.76 acc score\n",
    "from sklearn.ensemble import GradientBoostingClassifier\n",
    "from sklearn.linear_model import Perceptron\n",
    "from sklearn.linear_model import LogisticRegression\n",
    "from statistics import mean\n",
    "from sklearn.model_selection import cross_val_score\n",
    "from sklearn.neural_network import MLPClassifier\n",
    "from sklearn.model_selection import cross_val_score\n",
    "from sklearn.ensemble import AdaBoostClassifier\n",
    "from sklearn.metrics import plot_confusion_matrix"
   ]
  },
  {
   "cell_type": "code",
   "execution_count": 4,
   "metadata": {
    "pycharm": {
     "is_executing": false
    }
   },
   "outputs": [],
   "source": [
    "stop_words = pd.read_csv('stopwords.txt', sep=' ', header = None)[0]\n",
    "\n",
    "# Returns a boolean value if the word given is a stop word\n",
    "def is_a_stop_word(word):\n",
    "    return word in stop_words.values\n",
    " \n",
    "# Removes stop words from given text\n",
    "def remove_stop_words(text):\n",
    "    words = text.split()\n",
    "    new_text = \"\"\n",
    "    for word in words:\n",
    "        if not is_a_stop_word(word):\n",
    "            new_text = new_text + word + \" \"\n",
    "    return new_text \n",
    "\n",
    "# Cleans a comment of different emojis, symbols, punctuation etc. and stop words\n",
    "def clean_comments(comment, remove_sw = True):\n",
    "    #first remove apostrphes commas signs...\n",
    "    no_space_replacement = re.compile(r'[.\\'<>,\\\"#)%(’‘–]')\n",
    "    space_replacement = re.compile(r'/')\n",
    "    #Then emojis\n",
    "    emoji_pattern = re.compile(\"[\"\n",
    "                           u\"\\U0001F600-\\U0001F64F\"  # emoticons\n",
    "                           u\"\\U0001F300-\\U0001F5FF\"  # symbols & pictographs\n",
    "                           u\"\\U0001F680-\\U0001F6FF\"  # transport & map symbols\n",
    "                           u\"\\U0001F1E0-\\U0001F1FF\"  # flags (iOS)\n",
    "                           u\"\\U00002702-\\U000027B0\"\n",
    "                           u\"\\U000024C2-\\U0001F251\"\n",
    "                           \"]+\", flags=re.UNICODE)\n",
    "    \n",
    "    clean_comment = no_space_replacement.sub('', comment)\n",
    "    clean_comment = space_replacement.sub(' ', clean_comment)\n",
    "    more_clean = emoji_pattern.sub(r'', clean_comment)\n",
    "    if remove_sw:\n",
    "        more_clean = remove_stop_words(more_clean.lower())\n",
    "    return more_clean\n",
    "    \n",
    "#Have the labeled output in the last column\n",
    "def reorganize_columns(df):\n",
    "    original_col_list = list(df.columns)\n",
    "    new_col_list = original_col_list[::-1]\n",
    "    reorganized_df = df[new_col_list]\n",
    "    return reorganized_df\n",
    "\n",
    "#Deal with annotations... take the most common opinion.\n",
    "def compact_annotations(annotation_list):\n",
    "    most_common_annotations = list()\n",
    "    \n",
    "    for annotation in annotation_list:\n",
    "        string = str(annotation)\n",
    "        opinions = string.split('/')\n",
    "        most_common_opinion = Counter(opinions).most_common(1)[0][0]\n",
    "        most_common_annotations.append(most_common_opinion)\n",
    "    \n",
    "    return most_common_annotations\n",
    "\n",
    "#Measure opinion agreement\n",
    "def consensus(annot_list):\n",
    "    agreement_rates = list()\n",
    "    for annot in annot_list:\n",
    "        opinion_count = Counter(annot).most_common(1)[0][1]\n",
    "        rate = opinion_count/len(annot)\n",
    "\n",
    "        #Which opinion is the most common, divide\n",
    "        #by the total number of opinions and get the rate of the most common one\n",
    "        #and if rate is 0.5, remove those rows\n",
    "        \n",
    "        if rate > 0.5:\n",
    "        \n",
    "            if Counter(annot).most_common(1)[0][0] == '1':\n",
    "                agreement_rates.append(('pro-brexit', rate))\n",
    "            elif Counter(annot).most_common(1)[0][0] == '0':\n",
    "                agreement_rates.append(('anti-brexit', rate))\n",
    "            else:\n",
    "                agreement_rates.append(('non-cat', rate))\n",
    "        \n",
    "        else:\n",
    "            \n",
    "            agreement_rates.append(('contradicting', rate))\n",
    "            \n",
    "    return agreement_rates\n",
    "\n",
    "#Remove comments (rows) with contradicting opinion\n",
    "def remove_conflicts(data_frame):\n",
    "    for row in data_frame.iterrows():\n",
    "        annot = row[1]['Annotations'].split('/') \n",
    "        ctr = Counter(annot)\n",
    "        #If mostly '-1'      DELETE\n",
    "        #If same '0' and '1' DELETE\n",
    "        #If 1/-1   or   0/-1 ?????\n",
    "        if (ctr['0'] == ctr['1']) or (ctr.most_common(1)[0][0] == '-1'): #(ctr['0'] == ctr['-1']) or (ctr['1'] == ctr['-1']):\n",
    "            # Drop the row from the dataframe, since the sentiment is not clear\n",
    "            data_frame.drop(index=row[0], inplace=True)\n",
    "        \n",
    "    return data_frame\n",
    "\n",
    "#Remove comments (rows) with contradicting opinion, also filters by rate\n",
    "def remove_conflicts_by_rate(data_frame):\n",
    "    for row in data_frame.iterrows():\n",
    "        annot = row[1]['Annotations'].split('/') \n",
    "        ctr = Counter(annot)\n",
    "        rate = ctr.most_common(1)[0][1]/len(annot)\n",
    "        #If mostly '-1'      DELETE\n",
    "        #If same '0' and '1' DELETE\n",
    "        #If 1/-1   or   0/-1 ?????\n",
    "        if (ctr['0'] == ctr['1']) or (ctr.most_common(1)[0][0] == '-1'): #(ctr['0'] == ctr['-1']) or (ctr['1'] == ctr['-1']):\n",
    "            # Drop the row from the dataframe, since the sentiment is not clear\n",
    "            data_frame.drop(index=row[0], inplace=True)\n",
    "        elif rate < 0.6:\n",
    "            # Drop the row if the majority is too small of a fraction\n",
    "            data_frame.drop(index=row[0], inplace=True)\n",
    "        \n",
    "    return data_frame\n",
    "    "
   ]
  },
  {
   "cell_type": "code",
   "execution_count": 5,
   "metadata": {
    "pycharm": {
     "is_executing": false
    }
   },
   "outputs": [],
   "source": [
    "#Read data\n",
    "df = pd.read_csv('a2a_train_final.tsv', sep='\\t', names = [\"Annotations\", \"Comment\"])\n",
    "#df.head()\n",
    "#Re-organize data\n",
    "df = reorganize_columns(df)\n"
   ]
  },
  {
   "cell_type": "code",
   "execution_count": 6,
   "metadata": {
    "pycharm": {
     "is_executing": false
    }
   },
   "outputs": [
    {
     "data": {
      "text/plain": "Text(0.5, 1.0, 'Number of samples in different categories')"
     },
     "metadata": {},
     "output_type": "execute_result",
     "execution_count": 6
    },
    {
     "data": {
      "text/plain": "<Figure size 648x432 with 1 Axes>",
      "image/png": "[encoded data removed]"
     },
     "metadata": {
      "needs_background": "light"
     },
     "output_type": "display_data"
    }
   ],
   "source": [
    "\n",
    "consensus_rate = consensus([str(annotation).split('/') for annotation in df['Annotations']])\n",
    "x = [rate[0] for rate in consensus_rate]\n",
    "fig = plt.figure(figsize=(9,6))\n",
    "ax = fig.add_subplot(111)\n",
    "bars = ax.bar(Counter(x).keys(), Counter(x).values())\n",
    "for rect in bars:\n",
    "    height = rect.get_height()\n",
    "    ax.annotate('{}'.format(height),\n",
    "                xy=(rect.get_x() + rect.get_width() / 2, height),\n",
    "                xytext=(0, 3),  # 3 points vertical offset\n",
    "                textcoords=\"offset points\",\n",
    "                ha='center', va='bottom')\n",
    "plt.title(\"Number of samples in different categories\")\n"
   ]
  },
  {
   "cell_type": "code",
   "execution_count": 7,
   "outputs": [
    {
     "data": {
      "text/plain": "Text(0.5, 1.0, 'Number of labeled categories')"
     },
     "metadata": {},
     "output_type": "execute_result",
     "execution_count": 7
    },
    {
     "data": {
      "text/plain": "<Figure size 648x432 with 1 Axes>",
      "image/png": "[encoded data removed]"
     },
     "metadata": {
      "needs_background": "light"
     },
     "output_type": "display_data"
    }
   ],
   "source": [
    "#Remove contradicting opinions\n",
    "remove_conflicts_by_rate(df)"
   ],
   "metadata": {
    "collapsed": false,
    "pycharm": {
     "name": "#%%\n",
     "is_executing": false
    }
   }
  },
  {
   "cell_type": "code",
   "execution_count": 8,
   "metadata": {
    "pycharm": {
     "is_executing": false
    }
   },
   "outputs": [],
   "source": [
    "# Substitute the annotations with the most common one\n",
    "annotations_compacted = compact_annotations(df['Annotations'])\n",
    "df['Annotations'] = annotations_compacted\n",
    "\n",
    "# Clean the comments, leave a dataframe with stop words still there\n",
    "df_no_stop_words = pd.DataFrame.copy(df)\n",
    "df_no_stop_words['Comment'] = df_no_stop_words['Comment'].apply(clean_comments, remove_sw=False)\n",
    "df['Comment'] = df['Comment'].apply(clean_comments)\n",
    "\n",
    "# Copy of the main dataframe for other vectorizer, I (Mihkel) added my own approach on top so I copyd\n",
    "# the datagframe just in case\n",
    "df_2 = pd.DataFrame.copy(df)"
   ]
  },
  {
   "cell_type": "code",
   "execution_count": 9,
   "outputs": [],
   "source": [
    "ct_vec = CountVectorizer()\n",
    "x = df[\"Comment\"]\n",
    "y = df[\"Annotations\"]\n",
    "\n",
    "#Split the data\n",
    "xtrain, xtest, ytrain, ytest = train_test_split(x,y)"
   ],
   "metadata": {
    "collapsed": false,
    "pycharm": {
     "name": "#%%\n",
     "is_executing": false
    }
   }
  },
  {
   "cell_type": "code",
   "execution_count": 10,
   "metadata": {
    "pycharm": {
     "is_executing": false
    }
   },
   "outputs": [
    {
     "data": {
      "text/plain": "MultinomialNB(alpha=1.0, class_prior=None, fit_prior=True)"
     },
     "metadata": {},
     "output_type": "execute_result",
     "execution_count": 10
    }
   ],
   "source": [
    "# Apply CountVectorizer\n",
    "\n",
    "xtrain_counts = ct_vec.fit_transform(xtrain)\n",
    "clf = MultinomialNB()\n",
    "clf.fit(xtrain_counts, ytrain)"
   ]
  },
  {
   "cell_type": "code",
   "execution_count": 11,
   "metadata": {
    "pycharm": {
     "is_executing": false
    }
   },
   "outputs": [],
   "source": [
    "# Accuracy and F1 score of the MNB classifier\n",
    "\n",
    "xtest_transformed = ct_vec.transform(xtest)\n",
    "yguess = clf.predict(xtest_transformed)\n",
    "accuracy_score(y_true=ytest, y_pred= yguess)\n",
    "f1_score(ytest, yguess)"
   ]
  },
  {
   "cell_type": "code",
   "execution_count": 34,
   "outputs": [],
   "source": [
    "# Split the data into training and test set.\n",
    "X_train, X_eval, Y_train, Y_eval = train_test_split(df_2['Comment'], df_2['Annotations'], test_size=0.2, random_state=12345)\n",
    "X_with_stop_words, x_eval_stop, y_train_stop, y_eval_stop = train_test_split(df_no_stop_words['Comment'], df_no_stop_words['Annotations'], test_size=0.2, random_state=12345)\n",
    "\n",
    "# A pipeline that used TfidfVectorizer\n",
    "def train_document_classifier(X, Y, classifier):\n",
    "    pipeline = make_pipeline( TfidfVectorizer(), classifier)\n",
    "    pipeline.fit(X, Y)\n",
    "    return pipeline\n",
    "\n",
    "# Returns the Accuracy and F1 score of the given classifier\n",
    "def acc_and_f1_score_of_classifier(X, Y, X_test, Y_test, classifier):\n",
    "    trained_clf = train_document_classifier(X, Y, classifier)\n",
    "    return accuracy_score(Y_test, trained_clf.predict(X_test)), f1_score(Y_test, trained_clf.predict(X_test), pos_label='1')"
   ],
   "metadata": {
    "collapsed": false,
    "pycharm": {
     "name": "#%%\n",
     "is_executing": false
    }
   }
  },
  {
   "cell_type": "code",
   "execution_count": 30,
   "outputs": [
    {
     "name": "stdout",
     "text": [
      "(0.792967032967033, 0.7954841511072515)\n",
      "(0.7956043956043956, 0.7954245490541134)\n",
      "(0.76, 0.7705882352941177)\n",
      "(0.7718681318681319, 0.7726675427069645)\n",
      "(0.7406593406593407, 0.7434782608695651)\n"
     ],
     "output_type": "stream"
    }
   ],
   "source": [
    "# Trying different models \n",
    "\n",
    "print(acc_and_f1_score_of_classifier(X_train, Y_train, X_eval, Y_eval,LinearSVC()))\n",
    "log_reg_clf = LogisticRegression()\n",
    "print(acc_and_f1_score_of_classifier(X_train, Y_train, X_eval, Y_eval,log_reg_clf))\n",
    "print(acc_and_f1_score_of_classifier(X_train, Y_train, X_eval, Y_eval,RandomForestClassifier(n_jobs=-1, max_depth=50, n_estimators=1000)))\n",
    "mlp_clf = MLPClassifier(hidden_layer_sizes=(150, 50, 30), learning_rate='adaptive', max_iter=300)\n",
    "print(acc_and_f1_score_of_classifier(X_train, Y_train, X_eval, Y_eval,mlp_clf))\n",
    "clf_base = AdaBoostClassifier(n_estimators=2000)\n",
    "print(acc_and_f1_score_of_classifier(X_train, Y_train, X_eval, Y_eval,clf_base))"
   ],
   "metadata": {
    "collapsed": false,
    "pycharm": {
     "name": "#%%\n",
     "is_executing": false
    }
   }
  },
  {
   "cell_type": "code",
   "execution_count": 31,
   "outputs": [
    {
     "name": "stdout",
     "text": [
      "(0.7815384615384615, 0.7957254418413482)\n"
     ],
     "output_type": "stream"
    }
   ],
   "source": [
    "print(acc_and_f1_score_of_classifier(X_train, Y_train, X_eval, Y_eval,MultinomialNB()))"
   ],
   "metadata": {
    "collapsed": false,
    "pycharm": {
     "name": "#%%\n",
     "is_executing": false
    }
   }
  },
  {
   "cell_type": "code",
   "execution_count": 35,
   "outputs": [],
   "source": [
    "# Log boost had the best results on the test set, so I also look at cross validation\n",
    "clf = train_document_classifier(X_train, Y_train, log_reg_clf)\n",
    "scores = cross_val_score(clf, X_eval, Y_eval, cv=5)"
   ],
   "metadata": {
    "collapsed": false,
    "pycharm": {
     "name": "#%%\n",
     "is_executing": false
    }
   }
  },
  {
   "cell_type": "code",
   "execution_count": 36,
   "outputs": [
    {
     "data": {
      "text/plain": "<sklearn.metrics._plot.confusion_matrix.ConfusionMatrixDisplay at 0x1ee9b2281d0>"
     },
     "metadata": {},
     "output_type": "execute_result",
     "execution_count": 36
    },
    {
     "data": {
      "text/plain": "<Figure size 432x288 with 2 Axes>",
      "image/png": "[encoded data removed]"
     },
     "metadata": {
      "needs_background": "light"
     },
     "output_type": "display_data"
    }
   ],
   "source": [
    "# Get the confusion matrix as well as print out every 10th sentence that the labeling got wrong\n",
    "# The sentence is printed out with and without stop words\n",
    "log_pipe = train_document_classifier(X_train, Y_train, LogisticRegression())\n",
    "plot_confusion_matrix(log_pipe, X_eval, Y_eval, values_format='n')"
   ],
   "metadata": {
    "collapsed": false,
    "pycharm": {
     "name": "#%% \n",
     "is_executing": false
    }
   }
  },
  {
   "cell_type": "code",
   "execution_count": 37,
   "outputs": [
    {
     "name": "stdout",
     "text": [
      "Sometimes in life you need to take a risk\nlife risk \nThose who voted for leave will cry the most in the future\nvoted leave cry future \nHow is leaving the EU a Bad thing?\nleaving eu bad thing? \nIts interesting to hear Leavers proclaiming that we are now freed from the EU shackles yet fail to understand that the UK is now in vassalage to the EU for the rest of the year and possibly longer!\ninteresting hear leavers proclaiming freed eu shackles fail understand uk vassalage eu rest year possibly longer! \nIf they wanted to leave EU thats ok but Brits should be greatful to be part of EU without it they would be much much poorer now\nwanted leave eu brits greatful part eu poorer \nIm not saying businesses are bad we NEED businesses and traid I just dont want BP passing legislations for us The UK used to produce a lot of stuff so we exported loads now we import more then we sell Outside the EU wed have better trading prospects It wont be free traid But there will be more options\nbusinesses bad businesses traid i dont bp passing legislations uk produce lot stuff exported loads import sell eu wed trading prospects wont free traid options \nI cant blame themIll blame the bureaucratic EU instead\ni blame themill blame bureaucratic eu \nIm voting to leave As a 28 year old under-paid over-educated northerner I have absolutely nothing lose I would probably fare better and even find more satisfaction in scrapping for tins of beans on the street after the power goes off than continuing under the present circumstances\nvoting leave 28 year under-paid over-educated northerner i absolutely lose i fare find satisfaction scrapping tins beans street power continuing present circumstances \nITS NOT LEGALLY POSSIBLE TO TRADE ON WTO TERMS ON A CRASHOUT BREXIT\nlegally trade wto terms crashout brexit \nA lot of working class UK citizens are angry that East Europeans are under-cutting their wages and also sending UK English benefit money back home to their families: in fucking East Europe! Can you blame them really can you blame them? The homeless in the UK want the money spent on them  not spent building a mansion in Prague for someone who just popped over to the UK The UK working class want them gone sooner the better and fuck the middle-class snowflakes\nlot working class uk citizens angry east europeans under-cutting wages sending uk english benefit money back home families: fucking east europe! blame blame them? homeless uk money spent spent building mansion prague popped uk uk working class sooner fuck middle-class snowflakes \nDont leave or Ill have to pay import costs from Amazon UK\ndont leave ill pay import costs amazon uk \nThe BRITs want to leave the EU and isolate themselves Whats next build wooden ships and colonize the world?\nbrits leave eu isolate whats build wooden ships colonize world? \nNot one single person has any clue what remain means Not one single person can say what would be the remain position?\nsingle person clue remain means single person remain position? \nRightly or wrongly a decision has been made now we must move forward as best as we can\nrightly wrongly decision made move forward \nVOTE IN\nvote \nWould someone kindly explain how the UK will ever enter again into such hugely successful co-operative ventures as AirBus EuroTunnel EuroFighter or the European Space Agency and CERN? Or maybe you think none of these matter and were going to sail along with little industry relying on the parasites of the City or dubious Russian money to bridge the enormous balance of trade deficit we haveIm just waiting for the good Burghers of Calais to stop policing the waterfront and let anyone cross la Manche: why should they bother?\nkindly explain uk enter hugely successful co-operative ventures airbus eurotunnel eurofighter european space agency cern? matter sail industry relying parasites city dubious russian money bridge enormous balance trade deficit haveim waiting good burghers calais stop policing waterfront cross la manche: bother? \nThe UK used to be one of the Rule Makers Welcome to your future A Rule Taker\nuk rule makers future rule taker \nBrexit might put democratic reform back on the agenda I am loving the right wing outrage at the House of Lords and although I doubt we will see PR anytime soon disquiet with the Brexit dividend in Wales Scotland the North and NI might start people taking the idea of Federalism more seriously\nbrexit put democratic reform back agenda i loving wing outrage house lords i doubt pr anytime disquiet brexit dividend wales scotland north ni start people taking idea federalism \nSo after being turned down for citizenship on grounds of insufficient evidence of integration into life in the uk teacher & headteacher for 14 years now my application for settled status cant go through 3 attempts and each time the website crashes!\nturned citizenship grounds insufficient evidence integration life uk teacher & headteacher 14 years application settled status 3 attempts time website crashes! \nthe only way to fix the mess is to accept the brexit\nfix mess accept brexit \nOne of the saddest day in the UK \nsaddest day uk \nI want to be with EU\ni eu \nMy Brexit day yesterday was glorious\nbrexit day yesterday glorious \nUK will fall hard\nuk fall hard \nI wanted out of the European Union because I knew it would be best for how I wanted Britain\ni wanted european union i knew i wanted britain \nbrexit took our freedom\nbrexit freedom \nId rather nuke europe than stay in\nid nuke europe stay \nthe Prime Minsiter has said she is still intent on securing a deal of some sort Translation: PM May still thinks there is a way to deny Brexit to the people\nprime minsiter intent securing deal sort translation: pm thinks deny brexit people \nIs it because they think theyre better than the rest of Europe? Well see about that Oh and they are NOT by the way\ntheyre rest europe? \nIn all of this campaign I havent seen an argument for why I should vote to leave Why would leaving be an improvement to the current situation? We will re-nogotiate a trading deal with Europe - Already have one so no improvement We will save c£9bn we pay to EU - Total government spending is c£700bn I can see the saving is a benefit but not a big one in the national scheme of things and Im not sure that leaving wont end up costing us at least that in uncertain inward investment Border controls - In my experience being able to have people move around EU both in and out the UK has been a great benefit Many businesses I have worked for and with have seen this ability as a positive Making that more difficult is a negative in my eyes plus evidence that tax take  spending for immigrants Sovereignty - We already have that and the bits we have pooled with the EU are beneficial I havent seen an argument which details how the UK will be better by taking back our sovereignty 100 Im happy to read more about it and Im open minded but the leave campaign have completely failed to sell me a positive reason to change\ncampaign i havent argument i vote leave leaving improvement current situation? re-nogotiate trading deal europe - improvement save c£9bn pay eu - total government spending c£700bn i saving benefit big national scheme things leaving wont end costing uncertain investment border controls - experience people move eu uk great benefit businesses i worked ability positive making difficult negative eyes evidence tax spending immigrants sovereignty - bits pooled eu beneficial i havent argument details uk taking back sovereignty 100 happy read open minded leave campaign completely failed sell positive reason change \nBritain went down the drain not because of the EU but you did it yourselves Starting from the government going all the way down to the man on the street Typical EG the car industry Shoddy workmanship The british worker no pride in doing his Job So dont blame the EU for the position that your in\nbritain drain eu starting government man street typical car industry shoddy workmanship british worker pride job dont blame eu position \nwhy would we want to stay? The eu has done nothing for Britain\nstay? eu britain \nIn my opinion I think we shouldnt leave the EU\nopinion i shouldnt leave eu \nFirst of all I want to say that English isnt my native language so sorry for the mistakes For me Europe isnt only an economic and a free move union It is also an amazing project People should realize that borders are a historic construct they arent real Why nationalism even exist? Of course you can be proud of your country but thinking It is the best in the world and that its habitants are superior to other peoplethat is absolutely anachronistic Why dont we focus in what we have in common? We all are humans we should stop hating each other and start helping each other You may say I dont know how world goes and that It is impossible but like gandhi said be the change you want to see in the world If you travel at least in other Europe countrys you will realize we are the same I remember a picture of Merkel hugging Holland when the terrorist attack in Paris took place That picture was very meaningful because France and Germany have been in war the XIX and the XX century and now they are two countrys in peace helping each other I think is easier to believe that things can change instead of hating everything By last I will love to think that Europe is only the begining that we are going to just one nation a global one That is extremly hard to reach so right now Im content with making Europe a country Of course I know It has some things bad and I want a well built Europe\ni english isnt native language mistakes europe isnt economic free move union amazing project people realize borders historic construct arent real nationalism exist? proud country thinking world habitants superior peoplethat absolutely anachronistic dont focus common? humans stop hating start helping i dont world impossible gandhi change world travel europe countrys realize i remember picture merkel hugging holland terrorist attack paris place picture meaningful france germany war xix xx century countrys peace helping i easier things change hating i love europe begining nation global extremly hard reach content making europe country i things bad i built europe \nI have one question for the mentally deficient people who voted for unicorns Name me one EU law which you dont like Apart from wonky bananas and laws which have actually been made by English politicians and judges\ni question mentally deficient people voted unicorns eu law dont wonky bananas laws made english politicians judges \nMy vision for Britains future was the Norway option - EFTA EEA\nvision britains future norway option - efta eea \nGreat news Little England goes down the drain\ngreat news england drain \nI spent a decade living in the remnants of the CCCP the greatest failure in social engineering in history I know exactly why I wanted a Brexit The removal of a centralised behemoth of a self serving bureacracy\ni spent decade living remnants cccp greatest failure social engineering history i i wanted brexit removal centralised behemoth serving bureacracy \nLeave we must and leave the stupid Varadkar on the edge of an Irish economic abyss The UK can very soon  do without Irish butter There is plenty in New Zealand that will do nicely\nleave leave stupid varadkar edge irish economic abyss uk irish butter plenty zealand nicely \nThe economy started tanking years ago due the Brexit vote you clown\neconomy started tanking years ago due brexit vote clown \nThis whole Brexit charade tells us a couple of things The EU is worse than we thought and wants to punish us for voting leave\nbrexit charade tells couple things eu worse thought punish voting leave \nIf a no deal `hard Brexit is coming then the only good thing we can look forward to is the permanent destruction of the Conservative & Unionist Party\ndeal `hard brexit coming good thing forward permanent destruction conservative & unionist party \nBrexit was always going to be death by a thousand cuts Not just the deceitful ones that come naturally to Boris and his cabinet but by businesses pulling away from the UK by talent - especially in the NHS - removing itself from the country for good but the EU will stand firm as a massive trading block on behalf of its member states\nbrexit death thousand cuts deceitful naturally boris cabinet businesses pulling uk talent - nhs - removing country good eu stand firm massive trading block behalf member states \nHeartbreaking to have to leave\nheartbreaking leave \nYou can want a better Britain without being racist Just because you feel that local builders being undercut by Polish ones coming in and sending money back to Poland rather than spending it on the local economy doesnt mean you wouldnt welcome Polish doctors nurses teachers or whatever the country needs As someone who married a non EU national I found out first hand how governments were trying to look tough on immigration whilst hundreds of thousands of Europeans came in with no comeback People didnt want it it was foisted on them and politicians didnt want to   couldnt say that there was nothing they can do but there wasnt Certainly as the price rose and the hoops increased it became obvious they were trying to do something but they couldnt do anything effective The problem is the EU and the politicians within it Hopefully other countries will get their referendum now but seems unlikely until the next round of elections when parties who promise elections will be elected\nbritain racist feel local builders undercut polish coming sending money back poland spending local economy doesnt wouldnt polish doctors nurses teachers country married eu national i found hand governments tough immigration whilst hundreds thousands europeans comeback people didnt foisted politicians didnt couldnt wasnt price rose hoops increased obvious couldnt effective problem eu politicians countries referendum round elections parties promise elections elected \nCONGRATULATIONS TEAM! WE WILL BE REMAINING IN THE EU! YES!!!!!\ncongratulations team! remaining eu! yes!!!!! \nThis has angered me Why have they been so probrexit for the last 4 years and now they are pointing out what a load of bollocks it is? If theyd have joined us in criticism and fact checks prior then wed still be a significant country\nangered probrexit 4 years pointing load bollocks is? theyd joined criticism fact checks prior wed significant country \n"
     ],
     "output_type": "stream"
    }
   ],
   "source": [
    "Y_pred = log_pipe.predict(X_eval)\n",
    "count = 0\n",
    "for i in range(len(Y_pred)):\n",
    "    if Y_pred[i] != Y_eval.iloc[i]:\n",
    "        count += 1\n",
    "        if count == 10:\n",
    "            print(x_eval_stop.iloc[i])\n",
    "            print(X_eval.iloc[i])\n",
    "    count = count % 10"
   ],
   "metadata": {
    "collapsed": false,
    "pycharm": {
     "name": "#%%\n",
     "is_executing": false
    }
   }
  },
  {
   "cell_type": "code",
   "execution_count": 38,
   "outputs": [
    {
     "data": {
      "text/plain": "(0.7956043956043956, 0.7954245490541134)"
     },
     "metadata": {},
     "output_type": "execute_result",
     "execution_count": 38
    }
   ],
   "source": [
    "# Just in case tried it with stop words still in the datset, turns out it has better results\n",
    "# I also retried all the models previously with the datset with stop words and LogReg was still the best\n",
    "acc_and_f1_score_of_classifier(X_with_stop_words, y_train_stop, x_eval_stop, y_eval_stop, LogisticRegression())"
   ],
   "metadata": {
    "collapsed": false,
    "pycharm": {
     "name": "#%%\n",
     "is_executing": false
    }
   }
  }
 ],
 "metadata": {
  "kernelspec": {
   "name": "python3",
   "language": "python",
   "display_name": "Python 3"
  },
  "language_info": {
   "codemirror_mode": {
    "name": "ipython",
    "version": 3
   },
   "file_extension": ".py",
   "mimetype": "text/x-python",
   "name": "python",
   "nbconvert_exporter": "python",
   "pygments_lexer": "ipython3",
   "version": "3.7.1"
  },
  "pycharm": {
   "stem_cell": {
    "cell_type": "raw",
    "source": [],
    "metadata": {
     "collapsed": false
    }
   }
  }
 },
 "nbformat": 4,
 "nbformat_minor": 2
}