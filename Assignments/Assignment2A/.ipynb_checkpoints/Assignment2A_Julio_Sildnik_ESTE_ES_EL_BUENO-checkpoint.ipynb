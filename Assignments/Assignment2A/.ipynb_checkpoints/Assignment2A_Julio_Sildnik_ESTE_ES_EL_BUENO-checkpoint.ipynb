{
 "cells": [
  {
   "cell_type": "code",
   "execution_count": 1,
   "metadata": {
    "pycharm": {
     "is_executing": false
    }
   },
   "outputs": [],
   "source": [
    "import numpy as np\n",
    "import pandas as pd\n",
    "import matplotlib.pyplot as plt\n",
    "from collections import Counter\n",
    "import re\n",
    "from nltk.corpus import stopwords\n",
    "from sklearn.feature_extraction.text import CountVectorizer\n",
    "from sklearn.model_selection import train_test_split\n",
    "from sklearn.naive_bayes import MultinomialNB\n",
    "from sklearn.metrics import accuracy_score, mean_squared_error\n",
    "from sklearn.feature_extraction.text import TfidfVectorizer\n",
    "from sklearn.pipeline import make_pipeline\n",
    "from sklearn.model_selection import train_test_split\n",
    "from sklearn.svm import LinearSVC\n",
    "from sklearn.metrics import f1_score\n",
    "from sklearn.tree import DecisionTreeClassifier\n",
    "from sklearn.ensemble import RandomForestClassifier #0.76 acc score\n",
    "from sklearn.ensemble import GradientBoostingClassifier\n",
    "from sklearn.linear_model import Perceptron\n",
    "from sklearn.linear_model import LogisticRegression\n",
    "from statistics import mean\n",
    "from sklearn import preprocessing\n",
    "from sklearn.model_selection import GridSearchCV\n",
    "from sklearn.model_selection import cross_val_score\n",
    "from sklearn.neural_network import MLPClassifier\n",
    "from sklearn.model_selection import cross_val_score\n",
    "from sklearn.ensemble import AdaBoostClassifier\n",
    "from sklearn.metrics import plot_confusion_matrix"
   ]
  },
  {
   "cell_type": "code",
   "execution_count": 2,
   "metadata": {
    "pycharm": {
     "is_executing": false
    }
   },
   "outputs": [],
   "source": [
    "stop_words = stopwords.words('english')\n",
    "\n",
    "# Returns a boolean value if the word given is a stop word\n",
    "def is_a_stop_word(word):\n",
    "    return word in stop_words\n",
    " \n",
    "# Removes stop words from given text\n",
    "def remove_stop_words(text):\n",
    "    words = text.split()\n",
    "    new_text = \"\"\n",
    "    for word in words:\n",
    "        if not is_a_stop_word(word):\n",
    "            new_text = new_text + word + \" \"\n",
    "    return new_text \n",
    "\n",
    "# Cleans a comment of different emojis, symbols, punctuation etc. and stop words\n",
    "def clean_comments(comment, remove_sw = True):\n",
    "    #first remove apostrphes commas signs...\n",
    "    no_space_replacement = re.compile(r'[.\\'<>,\\\"#)%(’‘–]')\n",
    "    space_replacement = re.compile(r'/')\n",
    "    #Then emojis\n",
    "    emoji_pattern = re.compile(\"[\"\n",
    "                           u\"\\U0001F600-\\U0001F64F\"  # emoticons\n",
    "                           u\"\\U0001F300-\\U0001F5FF\"  # symbols & pictographs\n",
    "                           u\"\\U0001F680-\\U0001F6FF\"  # transport & map symbols\n",
    "                           u\"\\U0001F1E0-\\U0001F1FF\"  # flags (iOS)\n",
    "                           u\"\\U00002702-\\U000027B0\"\n",
    "                           u\"\\U000024C2-\\U0001F251\"\n",
    "                           \"]+\", flags=re.UNICODE)\n",
    "    \n",
    "    clean_comment = no_space_replacement.sub('', comment)\n",
    "    clean_comment = space_replacement.sub(' ', clean_comment)\n",
    "    more_clean = emoji_pattern.sub(r'', clean_comment)\n",
    "    if remove_sw:\n",
    "        more_clean = remove_stop_words(more_clean.lower())\n",
    "    return more_clean\n",
    "    \n",
    "#Have the labeled output in the last column\n",
    "def reorganize_columns(df):\n",
    "    original_col_list = list(df.columns)\n",
    "    new_col_list = original_col_list[::-1]\n",
    "    reorganized_df = df[new_col_list]\n",
    "    return reorganized_df\n",
    "\n",
    "#Deal with annotations... take the most common opinion.\n",
    "def compact_annotations(annotation_list):\n",
    "    most_common_annotations = list()\n",
    "    \n",
    "    for annotation in annotation_list:\n",
    "        string = str(annotation)\n",
    "        opinions = string.split('/')\n",
    "        most_common_opinion = Counter(opinions).most_common(1)[0][0]\n",
    "        most_common_annotations.append(most_common_opinion)\n",
    "    \n",
    "    return most_common_annotations\n",
    "\n",
    "#Measure opinion agreement\n",
    "def consensus(annot_list):\n",
    "    agreement_rates = list()\n",
    "    for annot in annot_list:\n",
    "        opinion_count = Counter(annot).most_common(1)[0][1]\n",
    "        rate = opinion_count/len(annot)\n",
    "\n",
    "        #Which opinion is the most common, divide\n",
    "        #by the total number of opinions and get the rate of the most common one\n",
    "        #and if rate is 0.5, remove those rows\n",
    "        \n",
    "        if rate > 0.5:\n",
    "        \n",
    "            if Counter(annot).most_common(1)[0][0] == '1':\n",
    "                agreement_rates.append(('pro-brexit', rate))\n",
    "            elif Counter(annot).most_common(1)[0][0] == '0':\n",
    "                agreement_rates.append(('anti-brexit', rate))\n",
    "            else:\n",
    "                agreement_rates.append(('non-cat', rate))\n",
    "        \n",
    "        else:\n",
    "            \n",
    "            agreement_rates.append(('contradicting', rate))\n",
    "            \n",
    "    return agreement_rates\n",
    "\n",
    "#Remove comments (rows) with contradicting opinion\n",
    "def remove_conflicts(data_frame):\n",
    "    for row in data_frame.iterrows():\n",
    "        annot = row[1]['Annotations'].split('/') \n",
    "        ctr = Counter(annot)\n",
    "        #If mostly '-1'      DELETE\n",
    "        #If same '0' and '1' DELETE\n",
    "        #If 1/-1   or   0/-1 ?????\n",
    "        if (ctr['0'] == ctr['1']) or (ctr.most_common(1)[0][0] == '-1'): #(ctr['0'] == ctr['-1']) or (ctr['1'] == ctr['-1']):\n",
    "            # Drop the row from the dataframe, since the sentiment is not clear\n",
    "            data_frame.drop(index=row[0], inplace=True)\n",
    "        \n",
    "    return data_frame\n",
    "\n",
    "#Remove comments (rows) with contradicting opinion, also filters by rate\n",
    "def remove_conflicts_by_rate(data_frame):\n",
    "    for row in data_frame.iterrows():\n",
    "        annot = row[1]['Annotations'].split('/') \n",
    "        ctr = Counter(annot)\n",
    "        rate = ctr.most_common(1)[0][1]/len(annot)\n",
    "        #If mostly '-1'      DELETE\n",
    "        #If same '0' and '1' DELETE\n",
    "        #If 1/-1   or   0/-1 ?????\n",
    "        if (ctr['0'] == ctr['1']) or (ctr.most_common(1)[0][0] == '-1'): #(ctr['0'] == ctr['-1']) or (ctr['1'] == ctr['-1']):\n",
    "            # Drop the row from the dataframe, since the sentiment is not clear\n",
    "            data_frame.drop(index=row[0], inplace=True)\n",
    "        elif rate < 0.6:\n",
    "            # Drop the row if the majority is too small of a fraction\n",
    "            data_frame.drop(index=row[0], inplace=True)\n",
    "        \n",
    "    return data_frame\n",
    "    "
   ]
  },
  {
   "cell_type": "code",
   "execution_count": 3,
   "metadata": {
    "pycharm": {
     "is_executing": false
    }
   },
   "outputs": [],
   "source": [
    "#Read data\n",
    "df = pd.read_csv('a2a_train_final.tsv', sep='\\t', names = [\"Annotations\", \"Comment\"])\n",
    "\n",
    "#Re-organize data\n",
    "df = reorganize_columns(df)"
   ]
  },
  {
   "cell_type": "code",
   "execution_count": 4,
   "metadata": {
    "pycharm": {
     "is_executing": false
    }
   },
   "outputs": [
    {
     "data": {
      "text/plain": [
       "Text(0.5, 1.0, 'Number of samples in different categories')"
      ]
     },
     "execution_count": 4,
     "metadata": {},
     "output_type": "execute_result"
    },
    {
     "data": {
      "image/png": "[encoded data removed]",
      "text/plain": [
       "<Figure size 648x432 with 1 Axes>"
      ]
     },
     "metadata": {
      "needs_background": "light"
     },
     "output_type": "display_data"
    }
   ],
   "source": [
    "consensus_rate = consensus([str(annotation).split('/') for annotation in df['Annotations']])\n",
    "\n",
    "x = [rate[0] for rate in consensus_rate]\n",
    "fig = plt.figure(figsize=(9,6))\n",
    "ax = fig.add_subplot(111)\n",
    "bars = ax.bar(Counter(x).keys(), Counter(x).values())\n",
    "for rect in bars:\n",
    "    height = rect.get_height()\n",
    "    ax.annotate('{}'.format(height),\n",
    "                xy=(rect.get_x() + rect.get_width() / 2, height),\n",
    "                xytext=(0, 3),  # 3 points vertical offset\n",
    "                textcoords=\"offset points\",\n",
    "                ha='center', va='bottom')\n",
    "plt.title(\"Number of samples in different categories\")\n"
   ]
  },
  {
   "cell_type": "code",
   "execution_count": 5,
   "metadata": {
    "pycharm": {
     "is_executing": false,
     "name": "#%%\n"
    }
   },
   "outputs": [],
   "source": [
    "#Remove contradicting opinions\n",
    "df = remove_conflicts_by_rate(df)"
   ]
  },
  {
   "cell_type": "code",
   "execution_count": 6,
   "metadata": {
    "pycharm": {
     "is_executing": false
    }
   },
   "outputs": [],
   "source": [
    "# Substitute the annotations with the most common one\n",
    "annotations_compacted = compact_annotations(df['Annotations'])\n",
    "\n",
    "df['Annotations'] = annotations_compacted\n",
    "df['Comment'] = df['Comment'].apply(clean_comments, remove_sw=False)\n",
    "\n",
    "# Clean the comments, create a dataframe without stop words\n",
    "df_no_stopwords = pd.DataFrame.copy(df)\n",
    "df_no_stopwords['Comment'] = df_no_stopwords['Comment'].apply(clean_comments, remove_sw=True)"
   ]
  },
  {
   "cell_type": "code",
   "execution_count": 7,
   "metadata": {
    "pycharm": {
     "is_executing": false,
     "name": "#%%\n"
    }
   },
   "outputs": [
    {
     "data": {
      "text/html": [
       "<div>\n",
       "<style scoped>\n",
       "    .dataframe tbody tr th:only-of-type {\n",
       "        vertical-align: middle;\n",
       "    }\n",
       "\n",
       "    .dataframe tbody tr th {\n",
       "        vertical-align: top;\n",
       "    }\n",
       "\n",
       "    .dataframe thead th {\n",
       "        text-align: right;\n",
       "    }\n",
       "</style>\n",
       "<table border=\"1\" class=\"dataframe\">\n",
       "  <thead>\n",
       "    <tr style=\"text-align: right;\">\n",
       "      <th></th>\n",
       "      <th>Comment</th>\n",
       "      <th>Annotations</th>\n",
       "    </tr>\n",
       "  </thead>\n",
       "  <tbody>\n",
       "    <tr>\n",
       "      <th>0</th>\n",
       "      <td>people never voted sneaky way saying brexit vo...</td>\n",
       "      <td>1</td>\n",
       "    </tr>\n",
       "    <tr>\n",
       "      <th>1</th>\n",
       "      <td>member european union bit like going sandwich ...</td>\n",
       "      <td>0</td>\n",
       "    </tr>\n",
       "    <tr>\n",
       "      <th>2</th>\n",
       "      <td>brexit bad immigrants make britain great also ...</td>\n",
       "      <td>0</td>\n",
       "    </tr>\n",
       "    <tr>\n",
       "      <th>3</th>\n",
       "      <td>britain basically pompeii pompeii voted volcan...</td>\n",
       "      <td>0</td>\n",
       "    </tr>\n",
       "    <tr>\n",
       "      <th>4</th>\n",
       "      <td>britains exit huge blow dream united europe en...</td>\n",
       "      <td>1</td>\n",
       "    </tr>\n",
       "  </tbody>\n",
       "</table>\n",
       "</div>"
      ],
      "text/plain": [
       "                                             Comment Annotations\n",
       "0  people never voted sneaky way saying brexit vo...           1\n",
       "1  member european union bit like going sandwich ...           0\n",
       "2  brexit bad immigrants make britain great also ...           0\n",
       "3  britain basically pompeii pompeii voted volcan...           0\n",
       "4  britains exit huge blow dream united europe en...           1"
      ]
     },
     "execution_count": 7,
     "metadata": {},
     "output_type": "execute_result"
    }
   ],
   "source": [
    "df_no_stopwords.head()"
   ]
  },
  {
   "cell_type": "code",
   "execution_count": 8,
   "metadata": {
    "pycharm": {
     "is_executing": false
    }
   },
   "outputs": [
    {
     "data": {
      "text/html": [
       "<div>\n",
       "<style scoped>\n",
       "    .dataframe tbody tr th:only-of-type {\n",
       "        vertical-align: middle;\n",
       "    }\n",
       "\n",
       "    .dataframe tbody tr th {\n",
       "        vertical-align: top;\n",
       "    }\n",
       "\n",
       "    .dataframe thead th {\n",
       "        text-align: right;\n",
       "    }\n",
       "</style>\n",
       "<table border=\"1\" class=\"dataframe\">\n",
       "  <thead>\n",
       "    <tr style=\"text-align: right;\">\n",
       "      <th></th>\n",
       "      <th>Comment</th>\n",
       "      <th>Annotations</th>\n",
       "    </tr>\n",
       "  </thead>\n",
       "  <tbody>\n",
       "    <tr>\n",
       "      <th>0</th>\n",
       "      <td>people who have NEVER voted sneaky way of say...</td>\n",
       "      <td>1</td>\n",
       "    </tr>\n",
       "    <tr>\n",
       "      <th>1</th>\n",
       "      <td>Being a member of the European Union is a bit ...</td>\n",
       "      <td>0</td>\n",
       "    </tr>\n",
       "    <tr>\n",
       "      <th>2</th>\n",
       "      <td>Brexit is bad Immigrants make Britain great Th...</td>\n",
       "      <td>0</td>\n",
       "    </tr>\n",
       "    <tr>\n",
       "      <th>3</th>\n",
       "      <td>Britain is basically Pompeii if the Pompeii ha...</td>\n",
       "      <td>0</td>\n",
       "    </tr>\n",
       "    <tr>\n",
       "      <th>4</th>\n",
       "      <td>Britains exit is a huge blow to the dream of a...</td>\n",
       "      <td>1</td>\n",
       "    </tr>\n",
       "  </tbody>\n",
       "</table>\n",
       "</div>"
      ],
      "text/plain": [
       "                                             Comment Annotations\n",
       "0   people who have NEVER voted sneaky way of say...           1\n",
       "1  Being a member of the European Union is a bit ...           0\n",
       "2  Brexit is bad Immigrants make Britain great Th...           0\n",
       "3  Britain is basically Pompeii if the Pompeii ha...           0\n",
       "4  Britains exit is a huge blow to the dream of a...           1"
      ]
     },
     "execution_count": 8,
     "metadata": {},
     "output_type": "execute_result"
    }
   ],
   "source": [
    "df.head()"
   ]
  },
  {
   "cell_type": "code",
   "execution_count": 9,
   "metadata": {
    "pycharm": {
     "is_executing": false
    }
   },
   "outputs": [],
   "source": [
    "#Read test data and re-organize\n",
    "test_df = pd.read_csv('a2a_test_final.tsv', sep='\\t', names=['Annotations', 'Comment'])\n",
    "test_df = reorganize_columns(test_df)\n",
    "test_df['Comment'] = test_df['Comment'].apply(clean_comments, remove_sw=False)\n",
    "\n",
    "test_df_no_stopwords = pd.DataFrame.copy(test_df)\n",
    "test_df_no_stopwords['Comment'] = test_df_no_stopwords['Comment'].apply(clean_comments, remove_sw=True)"
   ]
  },
  {
   "cell_type": "code",
   "execution_count": 10,
   "metadata": {
    "pycharm": {
     "is_executing": false
    }
   },
   "outputs": [
    {
     "data": {
      "text/html": [
       "<div>\n",
       "<style scoped>\n",
       "    .dataframe tbody tr th:only-of-type {\n",
       "        vertical-align: middle;\n",
       "    }\n",
       "\n",
       "    .dataframe tbody tr th {\n",
       "        vertical-align: top;\n",
       "    }\n",
       "\n",
       "    .dataframe thead th {\n",
       "        text-align: right;\n",
       "    }\n",
       "</style>\n",
       "<table border=\"1\" class=\"dataframe\">\n",
       "  <thead>\n",
       "    <tr style=\"text-align: right;\">\n",
       "      <th></th>\n",
       "      <th>Comment</th>\n",
       "      <th>Annotations</th>\n",
       "    </tr>\n",
       "  </thead>\n",
       "  <tbody>\n",
       "    <tr>\n",
       "      <th>0</th>\n",
       "      <td>I didnt think about the business side - Every ...</td>\n",
       "      <td>0</td>\n",
       "    </tr>\n",
       "    <tr>\n",
       "      <th>1</th>\n",
       "      <td>I had to trigger Article 50 It would have been...</td>\n",
       "      <td>0</td>\n",
       "    </tr>\n",
       "    <tr>\n",
       "      <th>2</th>\n",
       "      <td>Uh we want to leave the EU but we want to keep...</td>\n",
       "      <td>0</td>\n",
       "    </tr>\n",
       "    <tr>\n",
       "      <th>3</th>\n",
       "      <td>DeathtotheEU oh wow I really hate the EU What ...</td>\n",
       "      <td>1</td>\n",
       "    </tr>\n",
       "    <tr>\n",
       "      <th>4</th>\n",
       "      <td>IVotedLeave and I hope you did too! EUref lets...</td>\n",
       "      <td>1</td>\n",
       "    </tr>\n",
       "  </tbody>\n",
       "</table>\n",
       "</div>"
      ],
      "text/plain": [
       "                                             Comment  Annotations\n",
       "0  I didnt think about the business side - Every ...            0\n",
       "1  I had to trigger Article 50 It would have been...            0\n",
       "2  Uh we want to leave the EU but we want to keep...            0\n",
       "3  DeathtotheEU oh wow I really hate the EU What ...            1\n",
       "4  IVotedLeave and I hope you did too! EUref lets...            1"
      ]
     },
     "execution_count": 10,
     "metadata": {},
     "output_type": "execute_result"
    }
   ],
   "source": [
    "test_df.head()"
   ]
  },
  {
   "cell_type": "code",
   "execution_count": 11,
   "metadata": {
    "pycharm": {
     "is_executing": false
    }
   },
   "outputs": [
    {
     "data": {
      "text/html": [
       "<div>\n",
       "<style scoped>\n",
       "    .dataframe tbody tr th:only-of-type {\n",
       "        vertical-align: middle;\n",
       "    }\n",
       "\n",
       "    .dataframe tbody tr th {\n",
       "        vertical-align: top;\n",
       "    }\n",
       "\n",
       "    .dataframe thead th {\n",
       "        text-align: right;\n",
       "    }\n",
       "</style>\n",
       "<table border=\"1\" class=\"dataframe\">\n",
       "  <thead>\n",
       "    <tr style=\"text-align: right;\">\n",
       "      <th></th>\n",
       "      <th>Comment</th>\n",
       "      <th>Annotations</th>\n",
       "    </tr>\n",
       "  </thead>\n",
       "  <tbody>\n",
       "    <tr>\n",
       "      <th>0</th>\n",
       "      <td>didnt think business side - every brexit voter</td>\n",
       "      <td>0</td>\n",
       "    </tr>\n",
       "    <tr>\n",
       "      <th>1</th>\n",
       "      <td>trigger article 50 would embarrassing otherwis...</td>\n",
       "      <td>0</td>\n",
       "    </tr>\n",
       "    <tr>\n",
       "      <th>2</th>\n",
       "      <td>uh want leave eu want keep benefits</td>\n",
       "      <td>0</td>\n",
       "    </tr>\n",
       "    <tr>\n",
       "      <th>3</th>\n",
       "      <td>deathtotheeu oh wow really hate eu bunch arrog...</td>\n",
       "      <td>1</td>\n",
       "    </tr>\n",
       "    <tr>\n",
       "      <th>4</th>\n",
       "      <td>ivotedleave hope too! euref lets take back con...</td>\n",
       "      <td>1</td>\n",
       "    </tr>\n",
       "  </tbody>\n",
       "</table>\n",
       "</div>"
      ],
      "text/plain": [
       "                                             Comment  Annotations\n",
       "0    didnt think business side - every brexit voter             0\n",
       "1  trigger article 50 would embarrassing otherwis...            0\n",
       "2               uh want leave eu want keep benefits             0\n",
       "3  deathtotheeu oh wow really hate eu bunch arrog...            1\n",
       "4  ivotedleave hope too! euref lets take back con...            1"
      ]
     },
     "execution_count": 11,
     "metadata": {},
     "output_type": "execute_result"
    }
   ],
   "source": [
    "test_df_no_stopwords.head()"
   ]
  },
  {
   "cell_type": "code",
   "execution_count": 12,
   "metadata": {
    "pycharm": {
     "is_executing": false
    }
   },
   "outputs": [],
   "source": [
    "xtrain = df[\"Comment\"]\n",
    "ytrain = df[\"Annotations\"]\n",
    "\n",
    "xtest = test_df['Comment']\n",
    "ytest = test_df['Annotations'].apply(str)\n",
    "\n",
    "\n",
    "xtrain_no_stopwords = df_no_stopwords[\"Comment\"]\n",
    "ytrain_no_stopwords = df_no_stopwords[\"Annotations\"]\n",
    "\n",
    "xtest_no_stopwords = test_df_no_stopwords[\"Comment\"]\n",
    "ytest_no_stopwords = test_df_no_stopwords[\"Annotations\"].apply(str)"
   ]
  },
  {
   "cell_type": "code",
   "execution_count": 13,
   "metadata": {
    "pycharm": {
     "is_executing": false
    }
   },
   "outputs": [],
   "source": [
    "# Apply TfidfVectorizer\n",
    "tf_vec = TfidfVectorizer()\n",
    "xtrain_transformed = tf_vec.fit_transform(xtrain)\n",
    "xtest_transformed = tf_vec.transform(xtest)"
   ]
  },
  {
   "cell_type": "code",
   "execution_count": null,
   "metadata": {
    "pycharm": {
     "is_executing": false
    }
   },
   "outputs": [],
   "source": [
    "# Try better classifiers\n",
    "classifiers = [MultinomialNB(), LogisticRegression(max_iter = 1000), RandomForestClassifier(), AdaBoostClassifier()]\n",
    "scores = list()\n",
    "names = ['MultinomialNB', 'Logistic Regression', 'RandomForestClassifier', 'AdaBoostClassifer']\n",
    "for i, clf in enumerate(classifiers):\n",
    "    # clf_scores = list()\n",
    "    scores.append((names[i], mean(cross_val_score(clf, xtrain_transformed, ytrain, cv=5, n_jobs=-1))))\n",
    "\n",
    "print(\"Scores:\\n\")\n",
    "for i in scores:\n",
    "    print(i)\n",
    "\n",
    "print(\"\\nBest classifier: \", max(scores, key=lambda tup: tup[1]))"
   ]
  },
  {
   "cell_type": "code",
   "execution_count": null,
   "metadata": {
    "pycharm": {
     "is_executing": false
    }
   },
   "outputs": [],
   "source": [
    "#Tune top classifiers and parameters\n",
    "names = ['MultinomialNB', 'LogisticRegression']\n",
    "classifiers = [MultinomialNB(), LogisticRegression(max_iter = 1000)]\n",
    "param_grid = [\n",
    "            [{'alpha':[i/10 for i in range(5,30)]}],\n",
    "            [{'C':[1.0, 1.2, 1.4, 1.6, 1.8, 2.0, 2.4]}]\n",
    "            ]\n",
    "\n",
    "\n",
    "for name, classifier, parameters in zip(names, classifiers, param_grid):\n",
    "    \n",
    "    print(\"Running {} ...\".format(name))\n",
    "    grid = GridSearchCV(classifier, param_grid = parameters, n_jobs = -1, cv = 5, scoring='accuracy')\n",
    "    cpx = grid.fit(xtrain_transformed, ytrain)\n",
    "    score =  cpx.score(xtest_transformed, ytest)\n",
    "    \n",
    "    print(\"Optimized {0} With params: {1}. Score : {2:.4f}\\n\".format(name, cpx.best_params_, score))\n"
   ]
  },
  {
   "cell_type": "code",
   "execution_count": null,
   "metadata": {
    "pycharm": {
     "is_executing": false,
     "name": "#%%\n"
    }
   },
   "outputs": [],
   "source": [
    "# A pipeline that used TfidfVectorizer\n",
    "def train_document_classifier(X, Y, classifier):\n",
    "    pipeline = make_pipeline( TfidfVectorizer(), classifier)\n",
    "    pipeline.fit(X, Y)\n",
    "    return pipeline\n",
    "\n",
    "# Returns the Accuracy and F1 score of the given classifier\n",
    "def acc_and_f1_score_of_classifier(X, Y, X_test, Y_test, classifier):\n",
    "    trained_clf = train_document_classifier(X, Y, classifier)\n",
    "    return accuracy_score(Y_test, trained_clf.predict(X_test)), f1_score(Y_test, trained_clf.predict(X_test), pos_label='1')"
   ]
  },
  {
   "cell_type": "code",
   "execution_count": null,
   "metadata": {
    "pycharm": {
     "is_executing": false,
     "name": "#%%\n"
    }
   },
   "outputs": [],
   "source": [
    "# LogReg and MultiNB had the best results while testing, so look at accuracy and f1 score\n",
    "\n",
    "print(\"Logistic regression. Test data:\")\n",
    "a,f = acc_and_f1_score_of_classifier(xtrain, ytrain, xtest, ytest, LogisticRegression(C = 1.8))\n",
    "print(\"Accuracy: {0:.3f} \\t\\t F1 score: {1:.3f}\".format(a, f))\n",
    "\n",
    "print(\"\\nMulinomial Naive Bayes. Test data:\")\n",
    "a,f = acc_and_f1_score_of_classifier(xtrain, ytrain, xtest, ytest, MultinomialNB(alpha = 0.8))\n",
    "print(\"Accuracy: {0:.3f} \\t\\t F1 score: {1:.3f}\".format(a, f))"
   ]
  },
  {
   "cell_type": "code",
   "execution_count": null,
   "metadata": {
    "pycharm": {
     "name": "#%%\n"
    }
   },
   "outputs": [],
   "source": [
    "# Calculating values for table 1\n",
    "log_reg_clf = LogisticRegression()\n",
    "print(acc_and_f1_score_of_classifier(xtrain, ytrain, xtest, ytest, log_reg_clf))\n",
    "rf_clf = RandomForestClassifier(n_jobs=-1, max_depth=50, n_estimators=1000)\n",
    "print(acc_and_f1_score_of_classifier(xtrain, ytrain, xtest, ytest, rf_clf))\n",
    "multiNB_clf = MultinomialNB()\n",
    "print(acc_and_f1_score_of_classifier(xtrain, ytrain, xtest, ytest, multiNB_clf))\n",
    "clf_base = AdaBoostClassifier(n_estimators=2000)\n",
    "print(acc_and_f1_score_of_classifier(xtrain, ytrain, xtest, ytest, clf_base))"
   ]
  },
  {
   "cell_type": "code",
   "execution_count": null,
   "metadata": {
    "pycharm": {
     "is_executing": false
    }
   },
   "outputs": [],
   "source": [
    "#Now tune hyper parameters for best classifiers but without stopwords\n",
    "xtrain_transformed_no_sw = tf_vec.fit_transform(xtrain_no_stopwords)\n",
    "xtest_transformed_no_sw = tf_vec.transform(xtest_no_stopwords)\n",
    "\n",
    "#Tune best classifiers and parameters\n",
    "names = ['MultinomialNB', 'LogisticRegression']\n",
    "classifiers = [MultinomialNB(), LogisticRegression(max_iter = 1000)]\n",
    "param_grid = [\n",
    "            [{'alpha':[i/10 for i in range(5,30)]}],\n",
    "            [{'C':[1.0, 1.2, 1.4, 1.6, 1.8, 2.0, 2.4]}]\n",
    "            ]\n",
    "\n",
    "\n",
    "for name, classifier, parameters in zip(names, classifiers, param_grid):\n",
    "    print(\"Running {} ...\".format(name))\n",
    "    grid = GridSearchCV(classifier, param_grid = parameters, n_jobs = -1, cv = 5, scoring='accuracy')\n",
    "    cpx = grid.fit(xtrain_transformed_no_sw, ytrain)\n",
    "    score =  cpx.score(xtest_transformed_no_sw, ytest)\n",
    "    \n",
    "    print(\"Optimized {0} With params: {1}. Score : {2:.4f}\\n\".format(name, cpx.best_params_, score))"
   ]
  },
  {
   "cell_type": "code",
   "execution_count": null,
   "metadata": {
    "pycharm": {
     "is_executing": false
    }
   },
   "outputs": [],
   "source": [
    "log_reg_no_sw = train_document_classifier(xtrain_no_stopwords, ytrain_no_stopwords, LogisticRegression(C = 2.0))\n",
    "multiNB_no_sw = train_document_classifier(xtrain_no_stopwords, ytrain_no_stopwords, MultinomialNB(alpha = 0.9))\n",
    "\n",
    "# LogReg and MultiNB are the best classifiers, so look at accuracy and f1 score without stopwords\n",
    "\n",
    "\n",
    "print(\"Logistic regression. Test data NO stopwords:\")\n",
    "a,f = acc_and_f1_score_of_classifier(xtrain_no_stopwords, ytrain_no_stopwords, xtest_no_stopwords, ytest_no_stopwords, LogisticRegression(C = 2.0))\n",
    "print(\"Accuracy: {0:.3f} \\t\\t F1 score: {1:.3f}\".format(a, f))\n",
    "\n",
    "print(\"\\nMulinomial Naive Bayes. Test data NO stopwords:\")\n",
    "a,f = acc_and_f1_score_of_classifier(xtrain_no_stopwords, ytrain_no_stopwords, xtest_no_stopwords, ytest_no_stopwords, MultinomialNB(alpha = 0.9))\n",
    "print(\"Accuracy: {0:.3f} \\t\\t F1 score: {1:.3f}\".format(a, f))"
   ]
  },
  {
   "cell_type": "code",
   "execution_count": null,
   "metadata": {
    "pycharm": {
     "is_executing": false,
     "name": "#%% \n"
    }
   },
   "outputs": [],
   "source": [
    "# Get the confusion matrix as well as print out every 10th sentence that the labeling got wrong\n",
    "# The sentence is printed out with and without stop words\n",
    "plot_confusion_matrix(log_reg_no_sw, xtest_no_stopwords, ytest_no_stopwords, values_format='n')\n",
    "\n",
    "Y_pred = log_reg_no_sw.predict(xtest)\n",
    "count = 0\n",
    "for num, i in enumerate(range(len(Y_pred))):\n",
    "    if Y_pred[i] != ytest.iloc[i]:\n",
    "        count += 1\n",
    "        if count == 10:\n",
    "            print(num, xtest_no_stopwords.iloc[i])\n",
    "            print(num, xtest.iloc[i], \"\\n\")\n",
    "    count = count % 10"
   ]
  },
  {
   "cell_type": "code",
   "execution_count": null,
   "metadata": {
    "pycharm": {
     "name": "#%%\n"
    }
   },
   "outputs": [],
   "source": [
    "# Getting the weights for the features\n",
    "sub = log_reg_no_sw[1:]\n",
    "weights = sub[-1].coef_\n",
    "weights = np.apply_along_axis(abs, 0, weights)\n",
    "vectorizer = log_reg_no_sw[:1][-1]\n",
    "# Finding the ten most weighted features and their equivalent word\n",
    "indexes = weights.argsort()[0][-10:][::-1]\n",
    "features = vectorizer.get_feature_names()"
   ]
  },
  {
   "cell_type": "code",
   "execution_count": null,
   "metadata": {
    "pycharm": {
     "is_executing": false,
     "name": "#%%\n"
    }
   },
   "outputs": [],
   "source": [
    "# Print out the ten most weighted words\n",
    "for index in range(len(indexes)):\n",
    "    print(features[indexes[index]])"
   ]
  }
 ],
 "metadata": {
  "kernelspec": {
   "display_name": "Python 3",
   "language": "python",
   "name": "python3"
  },
  "language_info": {
   "codemirror_mode": {
    "name": "ipython",
    "version": 3
   },
   "file_extension": ".py",
   "mimetype": "text/x-python",
   "name": "python",
   "nbconvert_exporter": "python",
   "pygments_lexer": "ipython3",
   "version": "3.7.1"
  },
  "pycharm": {
   "stem_cell": {
    "cell_type": "raw",
    "metadata": {
     "collapsed": false
    },
    "source": []
   }
  }
 },
 "nbformat": 4,
 "nbformat_minor": 2
}
