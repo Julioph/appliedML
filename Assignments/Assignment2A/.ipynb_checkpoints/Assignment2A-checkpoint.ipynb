{
 "cells": [
  {
   "cell_type": "code",
   "execution_count": 233,
   "metadata": {},
   "outputs": [],
   "source": [
    "import pandas as pd\n",
    "import numpy as np\n",
    "import matplotlib.pyplot as plt\n",
    "from sklearn.linear_model import perceptron\n",
    "from collections import Counter\n",
    "import re\n",
    "from sklearn.feature_extraction.text import CountVectorizer\n",
    "from sklearn.feature_extraction.text import TfidfTransformer\n",
    "from sklearn.model_selection import train_test_split\n",
    "from sklearn.naive_bayes import MultinomialNB"
   ]
  },
  {
   "cell_type": "code",
   "execution_count": 209,
   "metadata": {},
   "outputs": [],
   "source": [
    "#Functions\n",
    "def clean_comments(comment):\n",
    "    #first remove apostrphes commas signs...\n",
    "    no_space_replacement = re.compile(r'[\\.\\'<>,\\\"\\#)%(’‘–]')\n",
    "    space_replacement = re.compile(r'/')\n",
    "    #Then emojis\n",
    "    emoji_pattern = re.compile(\"[\"\n",
    "                           u\"\\U0001F600-\\U0001F64F\"  # emoticons\n",
    "                           u\"\\U0001F300-\\U0001F5FF\"  # symbols & pictographs\n",
    "                           u\"\\U0001F680-\\U0001F6FF\"  # transport & map symbols\n",
    "                           u\"\\U0001F1E0-\\U0001F1FF\"  # flags (iOS)\n",
    "                           u\"\\U00002702-\\U000027B0\"\n",
    "                           u\"\\U000024C2-\\U0001F251\"\n",
    "                           \"]+\", flags=re.UNICODE)\n",
    "    \n",
    "    clean_comment = no_space_replacement.sub('', comment)\n",
    "    clean_comment = space_replacement.sub(' ', clean_comment)\n",
    "    more_clean = emoji_pattern.sub(r'', clean_comment)\n",
    "    \n",
    "    return more_clean.lower()\n",
    "    \n",
    "#Have the labeled output in the last column\n",
    "def reorganize_columns(df):\n",
    "    original_col_list = list(df.columns)\n",
    "    new_col_list = original_col_list[::-1]\n",
    "    reorganized_df = df[new_col_list]\n",
    "    return reorganized_df\n",
    "\n",
    "#Deal with annotations... take the most common opinion. If they are all different: [x/y] or [x/y/z] takes one arbitrarily?\n",
    "#should we remove the comment in that case?\n",
    "def compact_annotations(annotation_list):\n",
    "    most_common_annotations = list()\n",
    "    \n",
    "    for annotation in annotation_list:\n",
    "        string = str(annotation)\n",
    "        opinions = string.split('/')\n",
    "        most_common_opinion = Counter(opinions).most_common(1)[0][0]\n",
    "        most_common_annotations.append(most_common_opinion)\n",
    "    \n",
    "    return most_common_annotations\n",
    "\n",
    "\n",
    "#Measure opinion agreement\n",
    "def consensus(annot_list):\n",
    "    agreement_rates = list()\n",
    "    ambiguous_list = list()\n",
    "    for annot in annot_list:\n",
    "        opinion_count = Counter(annot).most_common(1)[0][1]\n",
    "        rate = opinion_count/len(annot)\n",
    "\n",
    "#         print(annot, len(annot), Counter(annot).most_common(1)[0][1], rate, Counter(annot).most_common(1)[0][0])\n",
    "        \n",
    "        if rate > 0.5:\n",
    "        \n",
    "            if (Counter(annot).most_common(1)[0][0] == '1'):\n",
    "                agreement_rates.append(('pro-brexit', rate))\n",
    "            elif (Counter(annot).most_common(1)[0][0] == '0'):\n",
    "                agreement_rates.append(('anti-brexit', rate))\n",
    "            else:\n",
    "                agreement_rates.append(('non-cat', rate))\n",
    "        \n",
    "        else:\n",
    "            \n",
    "            agreement_rates.append(('ambiguous', rate))\n",
    "            \n",
    "    return agreement_rates\n"
   ]
  },
  {
   "cell_type": "code",
   "execution_count": 210,
   "metadata": {},
   "outputs": [],
   "source": [
    "#Read data\n",
    "df = pd.read_csv('training_data_round2.tsv', sep='\\t', names = [\"Annotations\", \"Comment\"])"
   ]
  },
  {
   "cell_type": "code",
   "execution_count": 175,
   "metadata": {},
   "outputs": [],
   "source": [
    "#How much consensus is there between annotators of the dataset? Do you think the data is reliable?\n",
    "# df.tail(10)"
   ]
  },
  {
   "cell_type": "code",
   "execution_count": 211,
   "metadata": {},
   "outputs": [
    {
     "data": {
      "text/plain": [
       "[('pro-brexit', 1.0),\n",
       " ('ambiguous', 0.5),\n",
       " ('ambiguous', 0.5),\n",
       " ('anti-brexit', 0.6666666666666666),\n",
       " ('ambiguous', 0.5)]"
      ]
     },
     "execution_count": 211,
     "metadata": {},
     "output_type": "execute_result"
    }
   ],
   "source": [
    "consensus_rate = consensus([str(annotation).split('/') for annotation in df['Annotations']])\n",
    "consensus_rate[10:15]"
   ]
  },
  {
   "cell_type": "code",
   "execution_count": 212,
   "metadata": {},
   "outputs": [
    {
     "data": {
      "image/png": "[encoded data removed]",
      "text/plain": [
       "<Figure size 432x288 with 1 Axes>"
      ]
     },
     "metadata": {
      "needs_background": "light"
     },
     "output_type": "display_data"
    }
   ],
   "source": [
    "x = [rate[0] for rate in consensus_rate]\n",
    "y = [rate[1] for rate in consensus_rate]\n",
    "\n",
    "plt.scatter(x, y)\n",
    "plt.show()"
   ]
  },
  {
   "cell_type": "code",
   "execution_count": 213,
   "metadata": {},
   "outputs": [
    {
     "data": {
      "image/png": "[encoded data removed]",
      "text/plain": [
       "<Figure size 432x288 with 1 Axes>"
      ]
     },
     "metadata": {
      "needs_background": "light"
     },
     "output_type": "display_data"
    }
   ],
   "source": [
    "plt.bar(Counter(x).keys(), Counter(x).values())\n",
    "plt.show()"
   ]
  },
  {
   "cell_type": "code",
   "execution_count": 217,
   "metadata": {},
   "outputs": [],
   "source": [
    "annotations_compacted = compact_annotations(df['Annotations'])\n",
    "df['Annotations'] = annotations_compacted"
   ]
  },
  {
   "cell_type": "code",
   "execution_count": 220,
   "metadata": {},
   "outputs": [],
   "source": [
    "df = reorganize_columns(df)"
   ]
  },
  {
   "cell_type": "code",
   "execution_count": 221,
   "metadata": {},
   "outputs": [
    {
     "data": {
      "text/html": [
       "<div>\n",
       "<style scoped>\n",
       "    .dataframe tbody tr th:only-of-type {\n",
       "        vertical-align: middle;\n",
       "    }\n",
       "\n",
       "    .dataframe tbody tr th {\n",
       "        vertical-align: top;\n",
       "    }\n",
       "\n",
       "    .dataframe thead th {\n",
       "        text-align: right;\n",
       "    }\n",
       "</style>\n",
       "<table border=\"1\" class=\"dataframe\">\n",
       "  <thead>\n",
       "    <tr style=\"text-align: right;\">\n",
       "      <th></th>\n",
       "      <th>Comment</th>\n",
       "      <th>Annotations</th>\n",
       "    </tr>\n",
       "  </thead>\n",
       "  <tbody>\n",
       "    <tr>\n",
       "      <th>0</th>\n",
       "      <td>people who have never voted sneaky way of say...</td>\n",
       "      <td>1</td>\n",
       "    </tr>\n",
       "    <tr>\n",
       "      <th>1</th>\n",
       "      <td>being a member of the european union is a bit ...</td>\n",
       "      <td>0</td>\n",
       "    </tr>\n",
       "    <tr>\n",
       "      <th>2</th>\n",
       "      <td>brexit is bad immigrants make britain great th...</td>\n",
       "      <td>0</td>\n",
       "    </tr>\n",
       "    <tr>\n",
       "      <th>3</th>\n",
       "      <td>britain is basically pompeii if the pompeii ha...</td>\n",
       "      <td>0</td>\n",
       "    </tr>\n",
       "    <tr>\n",
       "      <th>4</th>\n",
       "      <td>britains exit is a huge blow to the dream of a...</td>\n",
       "      <td>1</td>\n",
       "    </tr>\n",
       "  </tbody>\n",
       "</table>\n",
       "</div>"
      ],
      "text/plain": [
       "                                             Comment Annotations\n",
       "0   people who have never voted sneaky way of say...           1\n",
       "1  being a member of the european union is a bit ...           0\n",
       "2  brexit is bad immigrants make britain great th...           0\n",
       "3  britain is basically pompeii if the pompeii ha...           0\n",
       "4  britains exit is a huge blow to the dream of a...           1"
      ]
     },
     "execution_count": 221,
     "metadata": {},
     "output_type": "execute_result"
    }
   ],
   "source": [
    "df['Comment'] = df['Comment'].apply(clean_comments)\n",
    "df.head()"
   ]
  },
  {
   "cell_type": "code",
   "execution_count": 231,
   "metadata": {},
   "outputs": [],
   "source": [
    "ct_vec = CountVectorizer()\n",
    "x = df[\"Comment\"]\n",
    "y = df[\"Annotations\"]\n",
    "\n",
    "xtrain, xtest, ytrain, ytest = train_test_split(x,y)"
   ]
  },
  {
   "cell_type": "code",
   "execution_count": 234,
   "metadata": {},
   "outputs": [
    {
     "data": {
      "text/plain": [
       "MultinomialNB(alpha=1.0, class_prior=None, fit_prior=True)"
      ]
     },
     "execution_count": 234,
     "metadata": {},
     "output_type": "execute_result"
    }
   ],
   "source": [
    "xtrain_counts = ct_vec.fit_transform(xtrain)\n",
    "clf = MultinomialNB()\n",
    "clf.fit(xtrain_counts, ytrain)"
   ]
  },
  {
   "cell_type": "code",
   "execution_count": 235,
   "metadata": {},
   "outputs": [],
   "source": [
    "xtest_transformed = ct_vec.transform(xtest)\n",
    "yguess = clf.predict(xtest_transformed)"
   ]
  },
  {
   "cell_type": "code",
   "execution_count": 247,
   "metadata": {},
   "outputs": [
    {
     "data": {
      "text/plain": [
       "(3380,)"
      ]
     },
     "execution_count": 247,
     "metadata": {},
     "output_type": "execute_result"
    }
   ],
   "source": []
  },
  {
   "cell_type": "code",
   "execution_count": null,
   "metadata": {},
   "outputs": [],
   "source": []
  }
 ],
 "metadata": {
  "kernelspec": {
   "display_name": "Python 3",
   "language": "python",
   "name": "python3"
  },
  "language_info": {
   "codemirror_mode": {
    "name": "ipython",
    "version": 3
   },
   "file_extension": ".py",
   "mimetype": "text/x-python",
   "name": "python",
   "nbconvert_exporter": "python",
   "pygments_lexer": "ipython3",
   "version": "3.7.1"
  }
 },
 "nbformat": 4,
 "nbformat_minor": 2
}
