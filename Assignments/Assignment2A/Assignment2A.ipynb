{
 "cells": [
  {
   "cell_type": "code",
   "execution_count": 38,
   "metadata": {
    "pycharm": {
     "is_executing": true
    }
   },
   "outputs": [],
   "source": [
    "import pandas as pd\n",
    "from statistics import mean\n",
    "import matplotlib.pyplot as plt\n",
    "from collections import Counter\n",
    "import re\n",
    "from nltk.corpus import stopwords\n",
    "from sklearn.feature_extraction.text import CountVectorizer\n",
    "from sklearn.model_selection import train_test_split, cross_val_score\n",
    "from sklearn.naive_bayes import MultinomialNB\n",
    "from sklearn.ensemble import RandomForestClassifier\n",
    "from sklearn.svm import LinearSVC\n",
    "from sklearn.linear_model import LogisticRegression\n",
    "from sklearn import preprocessing\n",
    "from sklearn.model_selection import GridSearchCV\n",
    "from sklearn.metrics import accuracy_score, mean_squared_error, confusion_matrix, plot_confusion_matrix"
   ]
  },
  {
   "cell_type": "code",
   "execution_count": 23,
   "metadata": {
    "pycharm": {
     "is_executing": false
    }
   },
   "outputs": [],
   "source": [
    "#Functions\n",
    "def clean_comments(comment):\n",
    "    #first remove apostrphes commas signs...\n",
    "    no_space_replacement = re.compile(r'[\\.\\'<>,\\\"\\)%(’‘–-]')\n",
    "    space_replacement = re.compile(r'/')\n",
    "    #Then emojis\n",
    "    emoji_pattern = re.compile(\"[\"\n",
    "                           u\"\\U0001F600-\\U0001F64F\"  # emoticons\n",
    "                           u\"\\U0001F300-\\U0001F5FF\"  # symbols & pictographs\n",
    "                           u\"\\U0001F680-\\U0001F6FF\"  # transport & map symbols\n",
    "                           u\"\\U0001F1E0-\\U0001F1FF\"  # flags (iOS)\n",
    "                           u\"\\U00002702-\\U000027B0\"\n",
    "                           u\"\\U000024C2-\\U0001F251\"\n",
    "                           \"]+\", flags=re.UNICODE)\n",
    "    \n",
    "    clean_comment = no_space_replacement.sub('', comment)\n",
    "    clean_comment = space_replacement.sub(' ', clean_comment)\n",
    "    clean_comment = emoji_pattern.sub(r'', clean_comment)\n",
    "    \n",
    "    stop_words = stopwords.words('english')\n",
    "    by_words = clean_comment.split(' ')\n",
    "    \n",
    "    more_clean = [word for word in by_words if word not in stop_words]\n",
    "    more_clean = ' '.join(more_clean)\n",
    "    \n",
    "    return more_clean.lower()\n",
    "    \n",
    "#Have the labeled output in the last column\n",
    "def reorganize_columns(df):\n",
    "    original_col_list = list(df.columns)\n",
    "    new_col_list = original_col_list[::-1]\n",
    "    reorganized_df = df[new_col_list]\n",
    "    return reorganized_df\n",
    "\n",
    "#Deal with annotations... take the most common opinion.\n",
    "def compact_annotations(annotation_list):\n",
    "    most_common_annotations = list()\n",
    "    \n",
    "    for annotation in annotation_list:\n",
    "        string = str(annotation)\n",
    "        opinions = string.split('/')\n",
    "        most_common_opinion = Counter(opinions).most_common(1)[0][0]\n",
    "        most_common_annotations.append(most_common_opinion)\n",
    "    \n",
    "    return most_common_annotations\n",
    "\n",
    "#Measure opinion agreement\n",
    "def consensus(annot_list):\n",
    "    agreement_rates = list()\n",
    "    for annot in annot_list:\n",
    "        opinion_count = Counter(annot).most_common(1)[0][1]\n",
    "        rate = opinion_count/len(annot)\n",
    "\n",
    "        #If theres 3 opinions, which one is the most common, divide\n",
    "        #by the total (3) opinions and get the rate of the most common one\n",
    "        #and if rate is 0.5, remove those rows\n",
    "        \n",
    "        if rate > 0.5:\n",
    "        \n",
    "            if Counter(annot).most_common(1)[0][0] == '1':\n",
    "                agreement_rates.append(('pro-brexit', rate))\n",
    "            elif Counter(annot).most_common(1)[0][0] == '0':\n",
    "                agreement_rates.append(('anti-brexit', rate))\n",
    "            else:\n",
    "                agreement_rates.append(('non-cat', rate))\n",
    "        \n",
    "        else:\n",
    "            \n",
    "            agreement_rates.append(('contradicting', rate))\n",
    "            \n",
    "    return agreement_rates\n",
    "\n",
    "#Remove comments (rows) with contradicting opinion\n",
    "def remove_conflicts(data_frame):\n",
    "    for row in data_frame.iterrows():\n",
    "        annot = row[1]['Annotations'].split('/') \n",
    "        ctr = Counter(annot)\n",
    "        #If mostly '-1'      DELETE\n",
    "        #If same '0' and '1' DELETE\n",
    "        #If 1/-1   or   0/-1 DELETE\n",
    "        if len(ctr) != 1:\n",
    "            if (ctr['0'] == ctr['1']) or (ctr.most_common(1)[0][0] == '-1') or (ctr['0'] == ctr['-1']) or (ctr['1'] == ctr['-1']):\n",
    "                # useless row\n",
    "                data_frame.drop(index=row[0], inplace=True)\n",
    "        \n",
    "    return data_frame"
   ]
  },
  {
   "cell_type": "code",
   "execution_count": 24,
   "metadata": {
    "pycharm": {
     "is_executing": false
    }
   },
   "outputs": [],
   "source": [
    "#Read data\n",
    "df = pd.read_csv('a2a_train_final.tsv', sep='\\t', names = [\"Annotations\", \"Comment\"])"
   ]
  },
  {
   "cell_type": "code",
   "execution_count": 25,
   "metadata": {
    "pycharm": {
     "is_executing": false
    }
   },
   "outputs": [],
   "source": [
    "#Re-organize data\n",
    "df = reorganize_columns(df)"
   ]
  },
  {
   "cell_type": "code",
   "execution_count": 26,
   "metadata": {
    "pycharm": {
     "is_executing": false,
     "name": "#%%\n"
    }
   },
   "outputs": [],
   "source": [
    "#Measure consensus\n",
    "consensus_rate = consensus([str(annotation).split('/') for annotation in df['Annotations']])\n"
   ]
  },
  {
   "cell_type": "code",
   "execution_count": 27,
   "metadata": {
    "pycharm": {
     "is_executing": false
    }
   },
   "outputs": [
    {
     "data": {
      "text/plain": [
       "Text(0.5, 1.0, 'Number of labeled categories')"
      ]
     },
     "execution_count": 27,
     "metadata": {},
     "output_type": "execute_result"
    },
    {
     "data": {
      "image/png": "[encoded data removed]",
      "text/plain": [
       "<Figure size 648x432 with 1 Axes>"
      ]
     },
     "metadata": {
      "needs_background": "light"
     },
     "output_type": "display_data"
    }
   ],
   "source": [
    "x = [rate[0] for rate in consensus_rate]\n",
    "fig = plt.figure(figsize=(9,6))\n",
    "ax = fig.add_subplot(111)\n",
    "bars = ax.bar(Counter(x).keys(), Counter(x).values())\n",
    "for rect in bars:\n",
    "    height = rect.get_height()\n",
    "    ax.annotate('{}'.format(height),\n",
    "                xy=(rect.get_x() + rect.get_width() / 2, height),\n",
    "                xytext=(0, 3),  # 3 points vertical offset\n",
    "                textcoords=\"offset points\",\n",
    "                ha='center', va='bottom')\n",
    "plt.title(\"Number of labeled categories\")"
   ]
  },
  {
   "cell_type": "code",
   "execution_count": 8,
   "metadata": {
    "pycharm": {
     "is_executing": false,
     "name": "#%%\n"
    }
   },
   "outputs": [
    {
     "data": {
      "text/plain": [
       "<matplotlib.collections.PathCollection at 0x201f8ccc4a8>"
      ]
     },
     "execution_count": 8,
     "metadata": {},
     "output_type": "execute_result"
    },
    {
     "data": {
      "image/png": "[encoded data removed]",
      "text/plain": [
       "<Figure size 432x288 with 1 Axes>"
      ]
     },
     "metadata": {
      "needs_background": "light"
     },
     "output_type": "display_data"
    }
   ],
   "source": [
    "consensus_rate = consensus([str(annotation).split('/') for annotation in df['Annotations']])\n",
    "x_scatter = [rate[0] for rate in consensus_rate]\n",
    "y_scatter = [rate[1] for rate in consensus_rate]\n",
    "\n",
    "plt.scatter(x_scatter, y_scatter)"
   ]
  },
  {
   "cell_type": "code",
   "execution_count": 28,
   "metadata": {
    "pycharm": {
     "is_executing": false,
     "name": "#%%\n"
    }
   },
   "outputs": [
    {
     "name": "stdout",
     "output_type": "stream",
     "text": [
      "done\n"
     ]
    }
   ],
   "source": [
    "#Remove contradicting opinions\n",
    "df = remove_conflicts(df)\n",
    "print(\"done\")"
   ]
  },
  {
   "cell_type": "code",
   "execution_count": 29,
   "metadata": {
    "pycharm": {
     "is_executing": false,
     "name": "#%%\n"
    }
   },
   "outputs": [
    {
     "data": {
      "text/plain": [
       "Text(0.5, 1.0, 'Number of labeled categories')"
      ]
     },
     "execution_count": 29,
     "metadata": {},
     "output_type": "execute_result"
    },
    {
     "data": {
      "image/png": "[encoded data removed]",
      "text/plain": [
       "<Figure size 648x432 with 1 Axes>"
      ]
     },
     "metadata": {
      "needs_background": "light"
     },
     "output_type": "display_data"
    }
   ],
   "source": [
    "consensus_rate = consensus([str(annotation).split('/') for annotation in df['Annotations']])\n",
    "x = [rate[0] for rate in consensus_rate]\n",
    "\n",
    "fig = plt.figure(figsize=(9,6))\n",
    "ax = fig.add_subplot(111)\n",
    "bars = ax.bar(Counter(x).keys(), Counter(x).values())\n",
    "for rect in bars:\n",
    "    height = rect.get_height()\n",
    "    ax.annotate('{}'.format(height),\n",
    "                xy=(rect.get_x() + rect.get_width() / 2, height),\n",
    "                xytext=(0, 3),  # 3 points vertical offset\n",
    "                textcoords=\"offset points\",\n",
    "                ha='center', va='bottom')\n",
    "plt.title(\"Number of labeled categories\")\n",
    "# this graph means that we can use accuracy as metric"
   ]
  },
  {
   "cell_type": "code",
   "execution_count": 32,
   "metadata": {
    "pycharm": {
     "is_executing": false
    }
   },
   "outputs": [],
   "source": [
    "#Take the most common opinion \n",
    "annotations_compacted = compact_annotations(df['Annotations'])\n",
    "df['Annotations'] = annotations_compacted"
   ]
  },
  {
   "cell_type": "code",
   "execution_count": 33,
   "metadata": {
    "pycharm": {
     "is_executing": false
    }
   },
   "outputs": [],
   "source": [
    "#Clean the comments\n",
    "df['Comment'] = df['Comment'].apply(clean_comments)"
   ]
  },
  {
   "cell_type": "code",
   "execution_count": 34,
   "metadata": {
    "pycharm": {
     "is_executing": false
    }
   },
   "outputs": [],
   "source": [
    "xtrain = df[\"Comment\"]\n",
    "ytrain = df[\"Annotations\"]"
   ]
  },
  {
   "cell_type": "code",
   "execution_count": 35,
   "metadata": {
    "pycharm": {
     "is_executing": false,
     "name": "#%%\n"
    }
   },
   "outputs": [],
   "source": [
    "#Read test data and re-organize\n",
    "test_df = pd.read_csv('a2a_test_final.tsv', sep='\\t', names=['Annotations', 'Comment'])\n",
    "test_df = reorganize_columns(test_df)\n",
    "test_df['Comment'] = test_df['Comment'].apply(clean_comments)"
   ]
  },
  {
   "cell_type": "code",
   "execution_count": 36,
   "metadata": {
    "pycharm": {
     "is_executing": false,
     "name": "#%%\n"
    }
   },
   "outputs": [],
   "source": [
    "xtest = test_df['Comment']"
   ]
  },
  {
   "cell_type": "code",
   "execution_count": 37,
   "metadata": {
    "pycharm": {
     "is_executing": false,
     "name": "#%%\n"
    }
   },
   "outputs": [],
   "source": [
    "ytest = test_df['Annotations'].apply(str)"
   ]
  },
  {
   "cell_type": "code",
   "execution_count": 40,
   "metadata": {
    "pycharm": {
     "is_executing": false
    }
   },
   "outputs": [],
   "source": [
    "ct_vec = CountVectorizer(ngram_range=(1,2))\n",
    "xtrain_counts = ct_vec.fit_transform(xtrain)\n",
    "xtrain_counts = preprocessing.scale(xtrain_counts, with_mean=False)\n",
    "xtest_transformed = ct_vec.transform(xtest)"
   ]
  },
  {
   "cell_type": "code",
   "execution_count": 18,
   "metadata": {
    "pycharm": {
     "is_executing": false,
     "name": "#%%\n"
    }
   },
   "outputs": [],
   "source": [
    "classifiers = [MultinomialNB(), SVC(), RidgeClassifier(),  MLPClassifier()]\n",
    "scores = list()\n",
    "names = ['MultinomialNB', 'SVC', 'Ridge classifier', 'Random forest classifier']\n",
    "for i, clf in enumerate(classifiers):\n",
    "    # clf_scores = list()\n",
    "    scores.append((names[i], mean(cross_val_score(clf, xtrain_counts, ytrain, cv=5))))\n",
    "\n",
    "print(\"Scores:\")\n",
    "for i in scores:\n",
    "    print(i)\n",
    "\n",
    "print(\"Best classifier: \", max(scores, key=lambda tup: tup[1]))"
   ]
  },
  {
   "cell_type": "code",
   "execution_count": 19,
   "metadata": {
    "pycharm": {
     "is_executing": true
    }
   },
   "outputs": [
    {
     "name": "stdout",
     "output_type": "stream",
     "text": [
      "Running MultinomialNB ...\n",
      "MultinomialNB score: 0.7896551724137931\n",
      "MultinomialNB MultinomialNB(alpha=1.9, class_prior=None, fit_prior=True) {'alpha': 1.9} 0.7135683454628046\n",
      "Running LinearSVC ...\n"
     ]
    },
    {
     "name": "stderr",
     "output_type": "stream",
     "text": [
      "C:\\Program Files\\Python37\\lib\\site-packages\\sklearn\\svm\\_base.py:947: ConvergenceWarning: Liblinear failed to converge, increase the number of iterations.\n",
      "  \"the number of iterations.\", ConvergenceWarning)\n"
     ]
    },
    {
     "name": "stdout",
     "output_type": "stream",
     "text": [
      "LinearSVC score: 0.5310344827586206\n",
      "LinearSVC LinearSVC(C=0.8, class_weight=None, dual=True, fit_intercept=True,\n",
      "          intercept_scaling=1, loss='squared_hinge', max_iter=1000,\n",
      "          multi_class='ovr', penalty='l2', random_state=None, tol=0.0001,\n",
      "          verbose=0) {'C': 0.8, 'loss': 'squared_hinge'} 0.6050465559067143\n",
      "Running RandomForestClassifier ...\n",
      "RandomForestClassifier score: 0.5310344827586206\n",
      "RandomForestClassifier RandomForestClassifier(bootstrap=True, ccp_alpha=0.0, class_weight=None,\n",
      "                       criterion='gini', max_depth=14, max_features='auto',\n",
      "                       max_leaf_nodes=None, max_samples=None,\n",
      "                       min_impurity_decrease=0.0, min_impurity_split=None,\n",
      "                       min_samples_leaf=1, min_samples_split=2,\n",
      "                       min_weight_fraction_leaf=0.0, n_estimators=200,\n",
      "                       n_jobs=None, oob_score=False, random_state=None,\n",
      "                       verbose=0, warm_start=False) {'max_depth': 14, 'n_estimators': 200} 0.6695943634202209\n"
     ]
    }
   ],
   "source": [
    "#try classifiers and parameters\n",
    "names = ['MultinomialNB', 'LinearSVC', 'Logistic Regression' 'RandomForestClassifier']\n",
    "classifiers = [MultinomialNB(), LinearSVC(), LogisticRegression(), RandomForestClassifier()]\n",
    "param_grid = [\n",
    "            [{'alpha':[i/10 for i in range(6,30)]}],\n",
    "            [{'C':[1.5, 1.0], 'loss':['hinge','squared_hinge']}],  \n",
    "            [{'C':[0.8, 1.0, 1.2]}],\n",
    "            [{'n_estimators':[i for i in range(100,200,50)], 'max_depth':[j for j in range(3,15)]}],\n",
    "            ]\n",
    "\n",
    "\n",
    "results_cv_list = list()\n",
    "best_something = list()\n",
    "scores_list = list()\n",
    "for name, classifier, parameters in zip(names, classifiers, param_grid):\n",
    "    print(\"Running {} ...\".format(name))\n",
    "    grid = GridSearchCV(classifier, param_grid = parameters, n_jobs = 3, cv = 5, scoring='accuracy')\n",
    "    cpx = grid.fit(xtrain_counts, ytrain)\n",
    "    score =  cpx.score(xtest_transformed, ytest)\n",
    "    scores_list.append(\"{} score: {}\".format(name, score))\n",
    "    print(\"{} score: {}\".format(name, score))\n",
    "    best_something.append((name, cpx.best_estimator_, cpx.best_params_, cpx.best_score_))\n",
    "    print(name,  cpx.best_estimator_, cpx.best_params_, cpx.best_score_)\n",
    "    results_cv_list.append((name, cpx.cv_results_))"
   ]
  },
  {
   "cell_type": "code",
   "execution_count": null,
   "metadata": {
    "pycharm": {
     "name": "#%%\n"
    }
   },
   "outputs": [],
   "source": []
  },
  {
   "cell_type": "code",
   "execution_count": 20,
   "metadata": {
    "pycharm": {
     "is_executing": false,
     "name": "#%%\n"
    }
   },
   "outputs": [
    {
     "name": "stdout",
     "output_type": "stream",
     "text": [
      "MultinomialNB, with params:  {'alpha': 2.8} with score:  0.7150633921926798\n"
     ]
    }
   ],
   "source": [
    "grid = GridSearchCV(MultinomialNB(), param_grid = {'alpha':[i/10 for i in range(4,30)]}, n_jobs = -1, cv = 5, scoring='accuracy')\n",
    "grid.fit(xtrain_counts, ytrain)\n",
    "print('MultinomialNB, with params: ', grid.best_params_, 'with score: ', grid.best_score_)\n",
    "\n",
    "\n",
    "grid.fit(xtrain_counts, ytrain)\n",
    "yguess = grid.predict(xtest_transformed)"
   ]
  },
  {
   "cell_type": "code",
   "execution_count": 21,
   "metadata": {
    "pycharm": {
     "is_executing": false
    }
   },
   "outputs": [
    {
     "name": "stdout",
     "output_type": "stream",
     "text": [
      "Using multinomial naive bayes classifier:\n",
      "Accuracy score:  0.7913793103448276\n",
      "TRUE POSITIVES: 511 \n",
      "TRUE NEGATIVES: 407 \n",
      "FALSE POSITIVES: 105 \n",
      "FALSE NEGATIVES: 137\n",
      "Precision:  0.8295454545454546\n",
      "Recall:  0.7885802469135802\n",
      "f-beta 0.5 =  1.2359979191954222\n"
     ]
    },
    {
     "data": {
      "image/png": "[encoded data removed]",
      "text/plain": [
       "<Figure size 432x288 with 2 Axes>"
      ]
     },
     "metadata": {
      "needs_background": "light"
     },
     "output_type": "display_data"
    }
   ],
   "source": [
    "print(\"Using multinomial naive bayes classifier:\")\n",
    "print(\"Accuracy score: \", accuracy_score(yguess, ytest))\n",
    "\n",
    "disp = plot_confusion_matrix(grid, xtest_transformed, ytest,\n",
    "                                 cmap=plt.cm.Blues, normalize='true')\n",
    "\n",
    "tn, fp, fn, tp = confusion_matrix(yguess, ytest).ravel()\n",
    "\n",
    "print(\"TRUE POSITIVES: {} \\nTRUE NEGATIVES: {} \\nFALSE POSITIVES: {} \\nFALSE NEGATIVES: {}\".format(tp,tn,fp,fn))\n",
    "precision = tp / (tp + fp)\n",
    "recall = tp / (tp + fn)\n",
    "print(\"Precision: \", precision)\n",
    "print(\"Recall: \", recall)\n",
    "\n",
    "fbeta = 1/( 0.5*(precision) + ((1-0.5)*recall) )\n",
    "print('f-beta 0.5 = ', fbeta)"
   ]
  },
  {
   "cell_type": "code",
   "execution_count": 66,
   "metadata": {
    "pycharm": {
     "is_executing": false,
     "name": "#%%\n"
    }
   },
   "outputs": [],
   "source": [
    "\n"
   ]
  }
 ],
 "metadata": {
  "kernelspec": {
   "display_name": "PyCharm (Assignment4)",
   "language": "python",
   "name": "pycharm-46474081"
  },
  "language_info": {
   "codemirror_mode": {
    "name": "ipython",
    "version": 3
   },
   "file_extension": ".py",
   "mimetype": "text/x-python",
   "name": "python",
   "nbconvert_exporter": "python",
   "pygments_lexer": "ipython3",
   "version": "3.7.1"
  },
  "pycharm": {
   "stem_cell": {
    "cell_type": "raw",
    "metadata": {
     "collapsed": false
    },
    "source": []
   }
  }
 },
 "nbformat": 4,
 "nbformat_minor": 2
}
