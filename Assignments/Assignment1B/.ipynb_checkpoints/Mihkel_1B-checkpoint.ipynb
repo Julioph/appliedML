{
 "cells": [
  {
   "cell_type": "code",
   "execution_count": 1,
   "metadata": {
    "collapsed": true,
    "pycharm": {
     "is_executing": false
    }
   },
   "outputs": [],
   "source": [
    "import pandas as pd\n",
    "import numpy as np\n",
    "from sklearn import feature_extraction\n",
    "from sklearn.ensemble import GradientBoostingClassifier\n",
    "from sklearn.metrics import accuracy_score\n",
    "from sklearn.model_selection import train_test_split, cross_val_score\n",
    "from statistics import mean"
   ]
  },
  {
   "cell_type": "markdown",
   "metadata": {
    "pycharm": {
     "is_executing": false,
     "name": "#%% md\n"
    }
   },
   "source": [
    "## Task 1\n",
    "### Step 1\n",
    "Reading the data"
   ]
  },
  {
   "cell_type": "code",
   "execution_count": 2,
   "metadata": {
    "pycharm": {
     "is_executing": false,
     "name": "#%%\n"
    }
   },
   "outputs": [],
   "source": [
    "adult_test = pd.read_csv('adult_test.csv')\n",
    "adult_train = pd.read_csv('adult_train.csv')\n",
    "full_train_X = adult_train.loc[:, adult_train.columns != 'target']\n",
    "full_train_Y = adult_train.loc[:, adult_train.columns == 'target']\n",
    "full_test_X = adult_test.loc[:, adult_test.columns != 'target']\n",
    "full_test_Y = adult_test.loc[:, adult_test.columns == 'target']"
   ]
  },
  {
   "cell_type": "markdown",
   "metadata": {
    "pycharm": {
     "name": "#%% md\n"
    }
   },
   "source": [
    "### Step 2"
   ]
  },
  {
   "cell_type": "code",
   "execution_count": 3,
   "metadata": {
    "pycharm": {
     "is_executing": false,
     "name": "#%%\n"
    }
   },
   "outputs": [],
   "source": [
    "dicts_for_train = full_train_X.to_dict('records')\n",
    "dicts_for_test = full_test_X.to_dict('records')\n",
    "dict_vectorizer = feature_extraction.DictVectorizer()\n",
    "X_train_encoded = dict_vectorizer.fit_transform(dicts_for_train)\n",
    "X_test_encoded = dict_vectorizer.transform(dicts_for_test)"
   ]
  },
  {
   "cell_type": "code",
   "execution_count": 4,
   "metadata": {
    "pycharm": {
     "is_executing": false,
     "name": "#%%\n"
    }
   },
   "outputs": [],
   "source": [
    "Y_train = full_train_Y.apply(lambda x: x == '>50K')\n",
    "Y_test = full_test_Y.apply(lambda x: x == '>50K')\n",
    "Y_train = Y_train['target']\n",
    "Y_test = Y_test['target']"
   ]
  },
  {
   "cell_type": "code",
   "execution_count": 5,
   "metadata": {
    "pycharm": {
     "is_executing": false,
     "name": "#%%\n"
    }
   },
   "outputs": [
    {
     "data": {
      "text/plain": [
       "0.8712609790553406"
      ]
     },
     "execution_count": 5,
     "metadata": {},
     "output_type": "execute_result"
    }
   ],
   "source": [
    "gbc = GradientBoostingClassifier()\n",
    "gbc.fit(X_train_encoded, Y_train)\n",
    "Y_predict = gbc.predict(X_test_encoded)\n",
    "mean_score = mean(cross_val_score(gbc, X_train_encoded, Y_train, cv=5))\n",
    "accuracy_score(Y_test, Y_predict)"
   ]
  },
  {
   "cell_type": "markdown",
   "metadata": {
    "pycharm": {
     "name": "#%% md\n"
    }
   },
   "source": [
    "Using a Gradient Boosting Classifier we got an mean cross validation score of 0.861 and an accuracy score of 0.865 on\n",
    "the test set."
   ]
  },
  {
   "cell_type": "markdown",
   "metadata": {
    "pycharm": {
     "name": "#%% md\n"
    }
   },
   "source": [
    "### Step 3"
   ]
  },
  {
   "cell_type": "code",
   "execution_count": 6,
   "metadata": {
    "pycharm": {
     "is_executing": false,
     "name": "#%%\n"
    }
   },
   "outputs": [
    {
     "data": {
      "text/plain": [
       "0.8712609790553406"
      ]
     },
     "execution_count": 6,
     "metadata": {},
     "output_type": "execute_result"
    }
   ],
   "source": [
    "from sklearn.pipeline import make_pipeline\n",
    "\n",
    "pipeline = make_pipeline(\n",
    "  feature_extraction.DictVectorizer(),\n",
    "  GradientBoostingClassifier()\n",
    ")\n",
    "\n",
    "pipeline.fit(dicts_for_train, Y_train)\n",
    "Y_predict_pipe = pipeline.predict(dicts_for_test)\n",
    "accuracy_score(Y_test, Y_predict_pipe)"
   ]
  },
  {
   "cell_type": "markdown",
   "metadata": {
    "pycharm": {
     "name": "#%% md\n"
    }
   },
   "source": [
    "## Task 2"
   ]
  },
  {
   "cell_type": "code",
   "execution_count": 7,
   "metadata": {
    "pycharm": {
     "is_executing": false,
     "name": "#%%\n"
    }
   },
   "outputs": [],
   "source": [
    "from matplotlib import pyplot \n",
    "from sklearn.tree import DecisionTreeClassifier"
   ]
  },
  {
   "cell_type": "code",
   "execution_count": 8,
   "metadata": {
    "pycharm": {
     "is_executing": false,
     "name": "#%%\n"
    }
   },
   "outputs": [
    {
     "data": {
      "image/png": "[encoded data removed]",
      "text/plain": [
       "<Figure size 432x288 with 1 Axes>"
      ]
     },
     "metadata": {
      "needs_background": "light"
     },
     "output_type": "display_data"
    }
   ],
   "source": [
    "def plot_test_train_depth(max_depth, Xtrain, Ytrain, Xtest, Ytest):\n",
    "    training_scores = []\n",
    "    test_scores = []\n",
    "    for depth in range(1, max_depth):\n",
    "       tree_reg = DecisionTreeClassifier(max_depth=depth)\n",
    "       tree_reg.fit(Xtrain, Ytrain)\n",
    "       Ypredict_test = tree_reg.predict(Xtest)\n",
    "       Ypredict_train = tree_reg.predict(Xtrain)\n",
    "       training_scores.append(accuracy_score(Ytrain, Ypredict_train))\n",
    "       test_scores.append(accuracy_score(Ytest, Ypredict_test))\n",
    "    x_axis = [x for x in range(1, max_depth)]\n",
    "    pyplot.plot(x_axis, training_scores)\n",
    "    pyplot.plot(x_axis, test_scores)\n",
    "    pyplot.ylabel('Accuracy score')\n",
    "    pyplot.xlabel('Depth')\n",
    "    pyplot.legend(['Training scores', 'Test scores'], loc = 'upper left')\n",
    "    pyplot.show()\n",
    "\n",
    "plot_test_train_depth(20, X_train_encoded, Y_train, X_test_encoded, Y_test)"
   ]
  },
  {
   "cell_type": "markdown",
   "metadata": {
    "pycharm": {
     "name": "#%% md\n"
    }
   },
   "source": [
    "As we can see from the graph, then after around a depth of 6 or 7 \n",
    "the training and testing scores begin to deviate."
   ]
  },
  {
   "cell_type": "code",
   "execution_count": null,
   "metadata": {
    "pycharm": {
     "is_executing": true,
     "name": "#%%\n"
    }
   },
   "outputs": [],
   "source": [
    "from sklearn.ensemble import RandomForestClassifier\n",
    "\n",
    "def plot_test_train_trees(max_depth, trees, Xtrain, Ytrain, Xtest, Ytest):\n",
    "    training_scores = []\n",
    "    test_scores = []\n",
    "    for depth in range(1, max_depth):\n",
    "       tree_reg = RandomForestClassifier(n_estimators=trees, n_jobs=-1, max_depth=depth)\n",
    "       tree_reg.fit(Xtrain, Ytrain)\n",
    "       Ypredict_test = tree_reg.predict(Xtest)\n",
    "       Ypredict_train = tree_reg.predict(Xtrain)\n",
    "       training_scores.append(accuracy_score(Ytrain, Ypredict_train))\n",
    "       test_scores.append(accuracy_score(Ytest, Ypredict_test))\n",
    "    x_axis = [x for x in range(1, max_depth)]\n",
    "    pyplot.plot(x_axis, training_scores)\n",
    "    pyplot.plot(x_axis, test_scores)\n",
    "    pyplot.ylabel('Accuracy score')\n",
    "    pyplot.xlabel(\"Depth\")\n",
    "    pyplot.title(str(trees)+\" trees\")\n",
    "    pyplot.legend(['Training scores', 'Test scores'], loc = 'upper left')\n",
    "    pyplot.show()\n",
    "\n",
    "for trees in range(1, 150, 9):\n",
    "    plot_test_train_trees(15, trees, X_train_encoded, Y_train, X_test_encoded, Y_test)"
   ]
  },
  {
   "cell_type": "markdown",
   "metadata": {
    "pycharm": {
     "name": "#%% md\n"
    }
   },
   "source": []
  },
  {
   "cell_type": "markdown",
   "metadata": {
    "pycharm": {
     "name": "#%% md\n"
    }
   },
   "source": [
    "## Task 3"
   ]
  },
  {
   "cell_type": "code",
   "execution_count": 10,
   "metadata": {
    "pycharm": {
     "is_executing": false,
     "name": "#%%\n"
    }
   },
   "outputs": [],
   "source": [
    "import heapq\n",
    "\n",
    "rfc = RandomForestClassifier(n_estimators=100, n_jobs=-1, min_samples_leaf=10)\n",
    "rfc.fit(X_train_encoded, Y_train)\n",
    "Y_test_pred = rfc.predict(X_test_encoded)\n",
    "Y_train_pred = rfc.predict(X_train_encoded)\n",
    "acc_train = accuracy_score(Y_train, Y_train_pred)\n",
    "acc_test = accuracy_score(Y_test, Y_test_pred)\n",
    "feat_imp = rfc.feature_importances_\n",
    "feat_names = dict_vectorizer.feature_names_\n",
    "indexes = heapq.nlargest(5, range(len(feat_imp)), feat_imp.take)\n",
    "features = [feat_names[x] for x in indexes]"
   ]
  },
  {
   "cell_type": "markdown",
   "metadata": {
    "pycharm": {
     "name": "#%% md\n"
    }
   },
   "source": [
    "The five most \"important\" features are in descending order:\n",
    "final weight, age, capital-gain, hours-per-week and if they are a husband. The importance\n",
    "of final weight makes sense because it is the number of people the census believes the entry represents.\n",
    "Age is also an important factor as generally younger people make less since they have less experience and education.\n",
    "The elderly also make less because of declining health and cognitive abilities. Capital gain shows the profit\n",
    "made from selling a capital asset. Being in a position to own an asset such as this is a good indicator of economic well being\n",
    "as well as the fact that capital gain post-tax is also part of income. Hours per week seems like a good indicator because\n",
    "most people are paid hourly or is a proxy for their workload for salaried people. Outliers of people such as consultant who\n",
    "can make a lot of money in a small amount of hours would be statistically rare. Being a husband would be beneficial because\n",
    "generally men make more as well as the fact that most people who can afford a wedding or to get married have the free funds\n",
    "to do so. \n",
    "One flaw in this dataset in my opinion is that we have very little knowledge about the location\n",
    "of the person. A large part of income is dependant on where people live. The salaries on coasts and larger metropolises \n",
    "are a lot higher than in rural parts for the same jobs. This introduces substantial noise in my opinion. "
   ]
  }
 ],
 "metadata": {
  "kernelspec": {
   "display_name": "Python 3",
   "language": "python",
   "name": "python3"
  },
  "language_info": {
   "codemirror_mode": {
    "name": "ipython",
    "version": 3
   },
   "file_extension": ".py",
   "mimetype": "text/x-python",
   "name": "python",
   "nbconvert_exporter": "python",
   "pygments_lexer": "ipython3",
   "version": "3.7.1"
  },
  "pycharm": {
   "stem_cell": {
    "cell_type": "raw",
    "metadata": {
     "collapsed": false
    },
    "source": []
   }
  }
 },
 "nbformat": 4,
 "nbformat_minor": 1
}
