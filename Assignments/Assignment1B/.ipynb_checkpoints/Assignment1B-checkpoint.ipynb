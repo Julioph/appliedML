{
 "cells": [
  {
   "cell_type": "markdown",
   "metadata": {},
   "source": [
    "## Task 1:"
   ]
  },
  {
   "cell_type": "markdown",
   "metadata": {
    "collapsed": true,
    "pycharm": {
     "name": "#%% md\n"
    }
   },
   "source": [
    "### Step 1: Reading the data"
   ]
  },
  {
   "cell_type": "code",
   "execution_count": 80,
   "metadata": {
    "pycharm": {
     "is_executing": false,
     "name": "#%%\n"
    }
   },
   "outputs": [],
   "source": [
    "import pandas as pd\n",
    "from sklearn.feature_extraction import DictVectorizer\n",
    "from sklearn.tree import DecisionTreeClassifier\n",
    "from sklearn.model_selection import cross_val_score, cross_validate\n",
    "from sklearn.metrics import accuracy_score\n",
    "from sklearn.pipeline import make_pipeline\n",
    "from matplotlib import pyplot\n",
    "from sklearn.ensemble import RandomForestClassifier\n",
    "import numpy as np\n",
    "from sklearn.model_selection import GridSearchCV\n",
    "from matplotlib import pyplot"
   ]
  },
  {
   "cell_type": "code",
   "execution_count": 25,
   "metadata": {
    "pycharm": {
     "is_executing": false,
     "name": "#%%\n"
    }
   },
   "outputs": [],
   "source": [
    "traindf = pd.read_csv(\"adult_train.csv\")\n",
    "testdf = pd.read_csv(\"adult_test.csv\")\n",
    "\n",
    "Xtrain = traindf.drop('target', axis = 'columns')\n",
    "Ytrain = traindf['target']\n",
    "\n",
    "Xtest = testdf.drop('target', axis = 'columns')\n",
    "Ytest = testdf['target']"
   ]
  },
  {
   "cell_type": "markdown",
   "metadata": {},
   "source": [
    "### Step 2: Encoding features as numbers"
   ]
  },
  {
   "cell_type": "code",
   "execution_count": 77,
   "metadata": {
    "pycharm": {
     "is_executing": false,
     "name": "#%%\n"
    }
   },
   "outputs": [],
   "source": [
    "Xtrain_dicts = Xtrain.to_dict('records')\n",
    "Xtest_dicts = Xtest.to_dict('records')\n",
    "dict_vectorizer = DictVectorizer()\n",
    "\n",
    "#The method fit_transform will first call fit, \n",
    "#which as usual is the \"training\" method.\n",
    "#For a DictVectorizer, \"training\" consists of \n",
    "#building the mapping from categories to column positions. \n",
    "#Then, the transform method will be called, which converts the data into a matrix.\n",
    "\n",
    "Xtrain_encoded = dict_vectorizer.fit_transform(Xtrain_dicts)"
   ]
  },
  {
   "cell_type": "code",
   "execution_count": 27,
   "metadata": {
    "pycharm": {
     "is_executing": false
    }
   },
   "outputs": [],
   "source": [
    "# print(Xtest_encoded.toarray())\n",
    "# print(dv.get_feature_names())"
   ]
  },
  {
   "cell_type": "markdown",
   "metadata": {},
   "source": [
    "##### Compute cross validation accuracy with Decision Tree classifier, depth = 10"
   ]
  },
  {
   "cell_type": "code",
   "execution_count": 64,
   "metadata": {
    "pycharm": {
     "is_executing": false
    }
   },
   "outputs": [
    {
     "name": "stdout",
     "output_type": "stream",
     "text": [
      "Best mean cross validation score is (max_depth, mean score):  (10, 0.8568225484393149)\n"
     ]
    }
   ],
   "source": [
    "dt_classif_scores = list()\n",
    "\n",
    "for depth in range(1, 20):\n",
    "    clf = DecisionTreeClassifier(max_depth = depth)\n",
    "    dt_classif_scores.append((depth, np.mean(cross_val_score(clf, Xtrain_encoded, Ytrain, cv=5, error_score='raise'))))\n",
    "\n",
    "print(\"Best mean cross validation score is (max_depth, mean score): \", max(dt_classif_scores, key = lambda tup : tup[1]))"
   ]
  },
  {
   "cell_type": "markdown",
   "metadata": {},
   "source": [
    "##### Acuracy on the test set:"
   ]
  },
  {
   "cell_type": "code",
   "execution_count": 78,
   "metadata": {
    "pycharm": {
     "is_executing": false,
     "name": "#%%\n"
    }
   },
   "outputs": [
    {
     "name": "stdout",
     "output_type": "stream",
     "text": [
      "DecisionTreeClassifier accuracy score on test data:  0.8604508322584608\n"
     ]
    }
   ],
   "source": [
    "#This time, testing data does not need to be trained, so just call transform\n",
    "Xtest_encoded = dict_vectorizer.transform(Xtest_dicts)\n",
    "\n",
    "clf = DecisionTreeClassifier(max_depth = 10)\n",
    "clf.fit(Xtrain_encoded, Ytrain)\n",
    "Yguess = clf.predict(Xtest_encoded)\n",
    "accuracy = accuracy_score(Yguess, Ytest)\n",
    "print(\"DecisionTreeClassifier accuracy score on test data: \", accuracy)"
   ]
  },
  {
   "cell_type": "markdown",
   "metadata": {},
   "source": [
    "### Step 3: Combining the steps"
   ]
  },
  {
   "cell_type": "code",
   "execution_count": 67,
   "metadata": {
    "pycharm": {
     "is_executing": false
    }
   },
   "outputs": [
    {
     "name": "stdout",
     "output_type": "stream",
     "text": [
      "Decision Tree Classifier PIPELINE accuracy_score:  0.8602665683926048\n"
     ]
    }
   ],
   "source": [
    "Pipeline = make_pipeline(DictVectorizer(), DecisionTreeClassifier(max_depth=10))\n",
    "Pipeline.fit(Xtrain_dicts,Ytrain)\n",
    "Yguess = Pipeline.predict(Xtest_dicts)\n",
    "pipeline_accuracy = accuracy_score(Ytest, Yguess)\n",
    "print(\"Decision Tree Classifier PIPELINE accuracy_score: \", accuracy)"
   ]
  },
  {
   "cell_type": "markdown",
   "metadata": {},
   "source": [
    "## Task 2: Decision trees and random forests"
   ]
  },
  {
   "cell_type": "markdown",
   "metadata": {},
   "source": [
    "#### Underfitting & overfitting Decision Tree clf:"
   ]
  },
  {
   "cell_type": "code",
   "execution_count": 68,
   "metadata": {
    "pycharm": {
     "is_executing": false,
     "name": "#%%\n"
    }
   },
   "outputs": [
    {
     "data": {
      "text/plain": [
       "<matplotlib.legend.Legend at 0x14cbcd20630>"
      ]
     },
     "execution_count": 68,
     "metadata": {},
     "output_type": "execute_result"
    },
    {
     "data": {
      "image/png": "[encoded data removed]",
      "text/plain": [
       "<Figure size 432x288 with 1 Axes>"
      ]
     },
     "metadata": {
      "needs_background": "light"
     },
     "output_type": "display_data"
    }
   ],
   "source": [
    "trainingscores_dtree = list()\n",
    "testingscores_dtree = list()\n",
    "\n",
    "for depth in range(1, 15):\n",
    "    clf = DecisionTreeClassifier(max_depth=depth)\n",
    "    clf.fit(Xtrain_encoded, Ytrain)\n",
    "    YguessTrain_dtree = clf.predict(Xtrain_encoded)\n",
    "    YguessTest_dtree = clf.predict(Xtest_encoded)\n",
    "    trainingscores_dtree.append(accuracy_score(Ytrain, YguessTrain_dtree))\n",
    "    testingscores_dtree.append(accuracy_score(Ytest, YguessTest_dtree))\n",
    "    \n",
    "x_axis = [x for x in range(14)]\n",
    "pyplot.title('Accuracy scores of DecisionTreeClassifier')\n",
    "pyplot.ylabel('Scores')\n",
    "pyplot.plot(x_axis, trainingscores_dtree)\n",
    "pyplot.plot(x_axis, testingscores_dtree)\n",
    "pyplot.legend(['Training scores', 'Test scores'], loc = 'upper left')"
   ]
  },
  {
   "cell_type": "markdown",
   "metadata": {},
   "source": [
    "From the graph above, we can identify where the model starts to overfit the data. (around a value of 8 for the max_depth parameter of the classifier)"
   ]
  },
  {
   "cell_type": "markdown",
   "metadata": {},
   "source": [
    "#### Underfitting and overfitting Random forest clf"
   ]
  },
  {
   "cell_type": "code",
   "execution_count": null,
   "metadata": {},
   "outputs": [],
   "source": []
  },
  {
   "cell_type": "code",
   "execution_count": 87,
   "metadata": {
    "pycharm": {
     "is_executing": false,
     "name": "#%%\n"
    }
   },
   "outputs": [
    {
     "name": "stdout",
     "output_type": "stream",
     "text": [
      "Trying 1 trees with depth 5\n",
      "Trying 50 trees with depth 5\n",
      "Trying 100 trees with depth 5\n",
      "Trying 200 trees with depth 5\n",
      "Trying 300 trees with depth 5\n"
     ]
    },
    {
     "data": {
      "image/png": "[encoded data removed]",
      "text/plain": [
       "<Figure size 720x432 with 1 Axes>"
      ]
     },
     "metadata": {
      "needs_background": "light"
     },
     "output_type": "display_data"
    },
    {
     "name": "stdout",
     "output_type": "stream",
     "text": [
      "Trying 1 trees with depth 7\n",
      "Trying 50 trees with depth 7\n",
      "Trying 100 trees with depth 7\n",
      "Trying 200 trees with depth 7\n",
      "Trying 300 trees with depth 7\n"
     ]
    },
    {
     "ename": "ValueError",
     "evalue": "x and y must have same first dimension, but have shapes (5,) and (10,)",
     "output_type": "error",
     "traceback": [
      "\u001b[1;31m---------------------------------------------------------------------------\u001b[0m",
      "\u001b[1;31mValueError\u001b[0m                                Traceback (most recent call last)",
      "\u001b[1;32m<ipython-input-87-d405ba8645d9>\u001b[0m in \u001b[0;36m<module>\u001b[1;34m\u001b[0m\n\u001b[0;32m     15\u001b[0m \u001b[1;33m\u001b[0m\u001b[0m\n\u001b[0;32m     16\u001b[0m     \u001b[0mpyplot\u001b[0m\u001b[1;33m.\u001b[0m\u001b[0mfigure\u001b[0m\u001b[1;33m(\u001b[0m\u001b[0mfigsize\u001b[0m \u001b[1;33m=\u001b[0m \u001b[1;33m(\u001b[0m\u001b[1;36m10\u001b[0m\u001b[1;33m,\u001b[0m\u001b[1;36m6\u001b[0m\u001b[1;33m)\u001b[0m\u001b[1;33m)\u001b[0m\u001b[1;33m\u001b[0m\u001b[1;33m\u001b[0m\u001b[0m\n\u001b[1;32m---> 17\u001b[1;33m     \u001b[0mpyplot\u001b[0m\u001b[1;33m.\u001b[0m\u001b[0mplot\u001b[0m\u001b[1;33m(\u001b[0m\u001b[0mrange\u001b[0m\u001b[1;33m(\u001b[0m\u001b[0mlen\u001b[0m\u001b[1;33m(\u001b[0m\u001b[0mdepths\u001b[0m\u001b[1;33m)\u001b[0m\u001b[1;33m)\u001b[0m\u001b[1;33m,\u001b[0m \u001b[0mtrainingscores_random_forest\u001b[0m\u001b[1;33m)\u001b[0m\u001b[1;33m\u001b[0m\u001b[1;33m\u001b[0m\u001b[0m\n\u001b[0m\u001b[0;32m     18\u001b[0m     \u001b[0mpyplot\u001b[0m\u001b[1;33m.\u001b[0m\u001b[0mplot\u001b[0m\u001b[1;33m(\u001b[0m\u001b[0mrange\u001b[0m\u001b[1;33m(\u001b[0m\u001b[0mlen\u001b[0m\u001b[1;33m(\u001b[0m\u001b[0mdepths\u001b[0m\u001b[1;33m)\u001b[0m\u001b[1;33m)\u001b[0m\u001b[1;33m,\u001b[0m \u001b[0mtestingscores_random_forest\u001b[0m\u001b[1;33m)\u001b[0m\u001b[1;33m\u001b[0m\u001b[1;33m\u001b[0m\u001b[0m\n\u001b[0;32m     19\u001b[0m     \u001b[0mpyplot\u001b[0m\u001b[1;33m.\u001b[0m\u001b[0mshow\u001b[0m\u001b[1;33m(\u001b[0m\u001b[1;33m)\u001b[0m\u001b[1;33m\u001b[0m\u001b[1;33m\u001b[0m\u001b[0m\n",
      "\u001b[1;32m~\\AppData\\Roaming\\Python\\Python37\\site-packages\\matplotlib\\pyplot.py\u001b[0m in \u001b[0;36mplot\u001b[1;34m(scalex, scaley, data, *args, **kwargs)\u001b[0m\n\u001b[0;32m   2811\u001b[0m     return gca().plot(\n\u001b[0;32m   2812\u001b[0m         *args, scalex=scalex, scaley=scaley, **({\"data\": data} if data\n\u001b[1;32m-> 2813\u001b[1;33m         is not None else {}), **kwargs)\n\u001b[0m\u001b[0;32m   2814\u001b[0m \u001b[1;33m\u001b[0m\u001b[0m\n\u001b[0;32m   2815\u001b[0m \u001b[1;33m\u001b[0m\u001b[0m\n",
      "\u001b[1;32m~\\AppData\\Roaming\\Python\\Python37\\site-packages\\matplotlib\\__init__.py\u001b[0m in \u001b[0;36minner\u001b[1;34m(ax, data, *args, **kwargs)\u001b[0m\n\u001b[0;32m   1808\u001b[0m                         \u001b[1;34m\"the Matplotlib list!)\"\u001b[0m \u001b[1;33m%\u001b[0m \u001b[1;33m(\u001b[0m\u001b[0mlabel_namer\u001b[0m\u001b[1;33m,\u001b[0m \u001b[0mfunc\u001b[0m\u001b[1;33m.\u001b[0m\u001b[0m__name__\u001b[0m\u001b[1;33m)\u001b[0m\u001b[1;33m,\u001b[0m\u001b[1;33m\u001b[0m\u001b[1;33m\u001b[0m\u001b[0m\n\u001b[0;32m   1809\u001b[0m                         RuntimeWarning, stacklevel=2)\n\u001b[1;32m-> 1810\u001b[1;33m             \u001b[1;32mreturn\u001b[0m \u001b[0mfunc\u001b[0m\u001b[1;33m(\u001b[0m\u001b[0max\u001b[0m\u001b[1;33m,\u001b[0m \u001b[1;33m*\u001b[0m\u001b[0margs\u001b[0m\u001b[1;33m,\u001b[0m \u001b[1;33m**\u001b[0m\u001b[0mkwargs\u001b[0m\u001b[1;33m)\u001b[0m\u001b[1;33m\u001b[0m\u001b[1;33m\u001b[0m\u001b[0m\n\u001b[0m\u001b[0;32m   1811\u001b[0m \u001b[1;33m\u001b[0m\u001b[0m\n\u001b[0;32m   1812\u001b[0m         inner.__doc__ = _add_data_doc(inner.__doc__,\n",
      "\u001b[1;32m~\\AppData\\Roaming\\Python\\Python37\\site-packages\\matplotlib\\axes\\_axes.py\u001b[0m in \u001b[0;36mplot\u001b[1;34m(self, scalex, scaley, *args, **kwargs)\u001b[0m\n\u001b[0;32m   1609\u001b[0m         \u001b[0mkwargs\u001b[0m \u001b[1;33m=\u001b[0m \u001b[0mcbook\u001b[0m\u001b[1;33m.\u001b[0m\u001b[0mnormalize_kwargs\u001b[0m\u001b[1;33m(\u001b[0m\u001b[0mkwargs\u001b[0m\u001b[1;33m,\u001b[0m \u001b[0mmlines\u001b[0m\u001b[1;33m.\u001b[0m\u001b[0mLine2D\u001b[0m\u001b[1;33m.\u001b[0m\u001b[0m_alias_map\u001b[0m\u001b[1;33m)\u001b[0m\u001b[1;33m\u001b[0m\u001b[1;33m\u001b[0m\u001b[0m\n\u001b[0;32m   1610\u001b[0m \u001b[1;33m\u001b[0m\u001b[0m\n\u001b[1;32m-> 1611\u001b[1;33m         \u001b[1;32mfor\u001b[0m \u001b[0mline\u001b[0m \u001b[1;32min\u001b[0m \u001b[0mself\u001b[0m\u001b[1;33m.\u001b[0m\u001b[0m_get_lines\u001b[0m\u001b[1;33m(\u001b[0m\u001b[1;33m*\u001b[0m\u001b[0margs\u001b[0m\u001b[1;33m,\u001b[0m \u001b[1;33m**\u001b[0m\u001b[0mkwargs\u001b[0m\u001b[1;33m)\u001b[0m\u001b[1;33m:\u001b[0m\u001b[1;33m\u001b[0m\u001b[1;33m\u001b[0m\u001b[0m\n\u001b[0m\u001b[0;32m   1612\u001b[0m             \u001b[0mself\u001b[0m\u001b[1;33m.\u001b[0m\u001b[0madd_line\u001b[0m\u001b[1;33m(\u001b[0m\u001b[0mline\u001b[0m\u001b[1;33m)\u001b[0m\u001b[1;33m\u001b[0m\u001b[1;33m\u001b[0m\u001b[0m\n\u001b[0;32m   1613\u001b[0m             \u001b[0mlines\u001b[0m\u001b[1;33m.\u001b[0m\u001b[0mappend\u001b[0m\u001b[1;33m(\u001b[0m\u001b[0mline\u001b[0m\u001b[1;33m)\u001b[0m\u001b[1;33m\u001b[0m\u001b[1;33m\u001b[0m\u001b[0m\n",
      "\u001b[1;32m~\\AppData\\Roaming\\Python\\Python37\\site-packages\\matplotlib\\axes\\_base.py\u001b[0m in \u001b[0;36m_grab_next_args\u001b[1;34m(self, *args, **kwargs)\u001b[0m\n\u001b[0;32m    391\u001b[0m                 \u001b[0mthis\u001b[0m \u001b[1;33m+=\u001b[0m \u001b[0margs\u001b[0m\u001b[1;33m[\u001b[0m\u001b[1;36m0\u001b[0m\u001b[1;33m]\u001b[0m\u001b[1;33m,\u001b[0m\u001b[1;33m\u001b[0m\u001b[1;33m\u001b[0m\u001b[0m\n\u001b[0;32m    392\u001b[0m                 \u001b[0margs\u001b[0m \u001b[1;33m=\u001b[0m \u001b[0margs\u001b[0m\u001b[1;33m[\u001b[0m\u001b[1;36m1\u001b[0m\u001b[1;33m:\u001b[0m\u001b[1;33m]\u001b[0m\u001b[1;33m\u001b[0m\u001b[1;33m\u001b[0m\u001b[0m\n\u001b[1;32m--> 393\u001b[1;33m             \u001b[1;32myield\u001b[0m \u001b[1;32mfrom\u001b[0m \u001b[0mself\u001b[0m\u001b[1;33m.\u001b[0m\u001b[0m_plot_args\u001b[0m\u001b[1;33m(\u001b[0m\u001b[0mthis\u001b[0m\u001b[1;33m,\u001b[0m \u001b[0mkwargs\u001b[0m\u001b[1;33m)\u001b[0m\u001b[1;33m\u001b[0m\u001b[1;33m\u001b[0m\u001b[0m\n\u001b[0m\u001b[0;32m    394\u001b[0m \u001b[1;33m\u001b[0m\u001b[0m\n\u001b[0;32m    395\u001b[0m \u001b[1;33m\u001b[0m\u001b[0m\n",
      "\u001b[1;32m~\\AppData\\Roaming\\Python\\Python37\\site-packages\\matplotlib\\axes\\_base.py\u001b[0m in \u001b[0;36m_plot_args\u001b[1;34m(self, tup, kwargs)\u001b[0m\n\u001b[0;32m    368\u001b[0m             \u001b[0mx\u001b[0m\u001b[1;33m,\u001b[0m \u001b[0my\u001b[0m \u001b[1;33m=\u001b[0m \u001b[0mindex_of\u001b[0m\u001b[1;33m(\u001b[0m\u001b[0mtup\u001b[0m\u001b[1;33m[\u001b[0m\u001b[1;33m-\u001b[0m\u001b[1;36m1\u001b[0m\u001b[1;33m]\u001b[0m\u001b[1;33m)\u001b[0m\u001b[1;33m\u001b[0m\u001b[1;33m\u001b[0m\u001b[0m\n\u001b[0;32m    369\u001b[0m \u001b[1;33m\u001b[0m\u001b[0m\n\u001b[1;32m--> 370\u001b[1;33m         \u001b[0mx\u001b[0m\u001b[1;33m,\u001b[0m \u001b[0my\u001b[0m \u001b[1;33m=\u001b[0m \u001b[0mself\u001b[0m\u001b[1;33m.\u001b[0m\u001b[0m_xy_from_xy\u001b[0m\u001b[1;33m(\u001b[0m\u001b[0mx\u001b[0m\u001b[1;33m,\u001b[0m \u001b[0my\u001b[0m\u001b[1;33m)\u001b[0m\u001b[1;33m\u001b[0m\u001b[1;33m\u001b[0m\u001b[0m\n\u001b[0m\u001b[0;32m    371\u001b[0m \u001b[1;33m\u001b[0m\u001b[0m\n\u001b[0;32m    372\u001b[0m         \u001b[1;32mif\u001b[0m \u001b[0mself\u001b[0m\u001b[1;33m.\u001b[0m\u001b[0mcommand\u001b[0m \u001b[1;33m==\u001b[0m \u001b[1;34m'plot'\u001b[0m\u001b[1;33m:\u001b[0m\u001b[1;33m\u001b[0m\u001b[1;33m\u001b[0m\u001b[0m\n",
      "\u001b[1;32m~\\AppData\\Roaming\\Python\\Python37\\site-packages\\matplotlib\\axes\\_base.py\u001b[0m in \u001b[0;36m_xy_from_xy\u001b[1;34m(self, x, y)\u001b[0m\n\u001b[0;32m    229\u001b[0m         \u001b[1;32mif\u001b[0m \u001b[0mx\u001b[0m\u001b[1;33m.\u001b[0m\u001b[0mshape\u001b[0m\u001b[1;33m[\u001b[0m\u001b[1;36m0\u001b[0m\u001b[1;33m]\u001b[0m \u001b[1;33m!=\u001b[0m \u001b[0my\u001b[0m\u001b[1;33m.\u001b[0m\u001b[0mshape\u001b[0m\u001b[1;33m[\u001b[0m\u001b[1;36m0\u001b[0m\u001b[1;33m]\u001b[0m\u001b[1;33m:\u001b[0m\u001b[1;33m\u001b[0m\u001b[1;33m\u001b[0m\u001b[0m\n\u001b[0;32m    230\u001b[0m             raise ValueError(\"x and y must have same first dimension, but \"\n\u001b[1;32m--> 231\u001b[1;33m                              \"have shapes {} and {}\".format(x.shape, y.shape))\n\u001b[0m\u001b[0;32m    232\u001b[0m         \u001b[1;32mif\u001b[0m \u001b[0mx\u001b[0m\u001b[1;33m.\u001b[0m\u001b[0mndim\u001b[0m \u001b[1;33m>\u001b[0m \u001b[1;36m2\u001b[0m \u001b[1;32mor\u001b[0m \u001b[0my\u001b[0m\u001b[1;33m.\u001b[0m\u001b[0mndim\u001b[0m \u001b[1;33m>\u001b[0m \u001b[1;36m2\u001b[0m\u001b[1;33m:\u001b[0m\u001b[1;33m\u001b[0m\u001b[1;33m\u001b[0m\u001b[0m\n\u001b[0;32m    233\u001b[0m             raise ValueError(\"x and y can be no greater than 2-D, but have \"\n",
      "\u001b[1;31mValueError\u001b[0m: x and y must have same first dimension, but have shapes (5,) and (10,)"
     ]
    },
    {
     "data": {
      "image/png": "[encoded data removed]",
      "text/plain": [
       "<Figure size 720x432 with 1 Axes>"
      ]
     },
     "metadata": {
      "needs_background": "light"
     },
     "output_type": "display_data"
    }
   ],
   "source": [
    "trainingscores_random_forest = list()\n",
    "testingscores_random_forest = list()\n",
    "\n",
    "number_of_trees = [1, 50, 100, 200, 300]\n",
    "depths = [5, 7, 10, 15, 20]\n",
    "for depth in depths:\n",
    "    for n_trees in number_of_trees:\n",
    "        print(\"Trying %d trees with depth %d\" % (n_trees, depth))\n",
    "        rfclf = RandomForestClassifier(n_estimators=n_trees, max_depth=depth, n_jobs=-1)\n",
    "        rfclf.fit(Xtrain_encoded, Ytrain)\n",
    "        YguessTrain_random_forest = clf.predict(Xtrain_encoded)\n",
    "        YguessTest_random_forest = clf.predict(Xtest_encoded)\n",
    "        trainingscores_random_forest.append(accuracy_score(Ytrain, YguessTrain_random_forest))\n",
    "        testingscores_random_forest.append(accuracy_score(Ytest, YguessTest_random_forest))\n",
    "    \n",
    "    pyplot.figure(figsize = (10,6))\n",
    "    pyplot.plot(range(len(depths)), trainingscores_random_forest)\n",
    "    pyplot.plot(range(len(depths)), testingscores_random_forest)        \n",
    "    pyplot.show()"
   ]
  },
  {
   "cell_type": "code",
   "execution_count": 71,
   "metadata": {
    "pycharm": {
     "is_executing": false,
     "name": "#%%\n"
    }
   },
   "outputs": [
    {
     "data": {
      "text/plain": [
       "(0.84, 0.9)"
      ]
     },
     "execution_count": 71,
     "metadata": {},
     "output_type": "execute_result"
    },
    {
     "data": {
      "image/png": "[encoded data removed]",
      "text/plain": [
       "<Figure size 432x288 with 1 Axes>"
      ]
     },
     "metadata": {
      "needs_background": "light"
     },
     "output_type": "display_data"
    }
   ],
   "source": [
    "x_axis = [x for x in range(25)]\n",
    "pyplot.title('Accuracy scores of RandomForestClassifier')\n",
    "pyplot.ylabel('Scores')\n",
    "pyplot.plot(x_axis, trainingscores_random_forest)\n",
    "pyplot.plot(x_axis, testingscores_random_forest)\n",
    "pyplot.legend(['Training scores', 'Test scores'])#, loc = 'upper left')\n",
    "pyplot.ylim(0.84, 0.90)"
   ]
  },
  {
   "cell_type": "markdown",
   "metadata": {},
   "source": [
    "###### What's the difference between the curve for a decision tree and for a random forest with an ensemble size of 1, and why do we see this difference?\n",
    "The difference between the curves is that the random forest with one tree suffers far less from overfitting the model.\n",
    "While overfitting still happens it is not as drastic and also the curve is a lot less smooth. This is because random forest \n",
    "trains the individual tree on a bootstrapped sample and also randomly picks features. \n",
    "\n",
    "###### What happens with the curve for random forests as the ensemble size grows?\n",
    "As the ensemble size grows the overfitting seems to lessen although this effect has diminishing returns.\n",
    "\n",
    "###### What happens with the best observed test set accuracy as the ensemble size grows?\n",
    "We were not sure what was meant by this but we logged the best test set accuracy for the different values of max_depth and\n",
    "found that after an initial uptick the value quickly reaches a ceiling.\n",
    "\n",
    "###### What happens with the training time as the ensemble size grows?\n",
    "The training time grows linearly, although it does this in chunks, since it uses all cores then adding \n",
    "one tree after all cores are used once doubles the time but adding one more barely changes things since cores will be free.\n",
    "So the training time is something like: some constant times the number of trees divided by the cores available rounded up."
   ]
  },
  {
   "cell_type": "markdown",
   "metadata": {
    "pycharm": {
     "name": "#%% md\n"
    }
   },
   "source": [
    "### Task 3: Feature importances in random forest classifiers"
   ]
  },
  {
   "cell_type": "code",
   "execution_count": 11,
   "metadata": {
    "pycharm": {
     "is_executing": false,
     "name": "#%%\n"
    }
   },
   "outputs": [],
   "source": [
    "importances = rfclf.feature_importances_\n",
    "std_dev = np.std([tree.feature_importances_ for tree in rfclf.estimators_], axis=0)\n",
    "indices = np.argsort(importances)[::-1]"
   ]
  },
  {
   "cell_type": "code",
   "execution_count": 12,
   "metadata": {
    "pycharm": {
     "is_executing": false,
     "name": "#%%\n"
    }
   },
   "outputs": [
    {
     "name": "stdout",
     "output_type": "stream",
     "text": [
      "Feauture importances: \n",
      "\n",
      "1. feature 1 (0.130117) \n",
      "2. feature 24 (0.103103) \n",
      "3. feature 0 (0.094440) \n",
      "4. feature 3 (0.092973) \n",
      "5. feature 20 (0.062752) \n",
      "6. feature 21 (0.062447) \n",
      "7. feature 91 (0.057786) \n",
      "8. feature 26 (0.035809) \n",
      "9. feature 2 (0.035657) \n",
      "10. feature 75 (0.025398) \n",
      "11. feature 81 (0.019100) \n",
      "12. feature 13 (0.017766) \n",
      "13. feature 92 (0.016192) \n",
      "14. feature 94 (0.015223) \n",
      "15. feature 97 (0.015134) \n",
      "16. feature 96 (0.013209) \n",
      "17. feature 98 (0.012774) \n",
      "18. feature 16 (0.011633) \n",
      "19. feature 15 (0.008548) \n",
      "20. feature 79 (0.008332) \n",
      "21. feature 105 (0.008126) \n",
      "22. feature 22 (0.008079) \n",
      "23. feature 103 (0.007917) \n",
      "24. feature 95 (0.006914) \n",
      "25. feature 18 (0.006883) \n",
      "26. feature 104 (0.006304) \n",
      "27. feature 14 (0.005792) \n",
      "28. feature 19 (0.005631) \n",
      "29. feature 90 (0.005377) \n",
      "30. feature 68 (0.005343) \n",
      "31. feature 83 (0.004768) \n",
      "32. feature 100 (0.004700) \n",
      "33. feature 101 (0.004353) \n",
      "34. feature 76 (0.004204) \n",
      "35. feature 74 (0.004046) \n",
      "36. feature 84 (0.003926) \n",
      "37. feature 72 (0.003925) \n",
      "38. feature 88 (0.003886) \n",
      "39. feature 106 (0.003560) \n",
      "40. feature 78 (0.002897) \n",
      "41. feature 85 (0.002701) \n",
      "42. feature 87 (0.002689) \n",
      "43. feature 77 (0.002598) \n",
      "44. feature 9 (0.002474) \n",
      "45. feature 12 (0.002417) \n",
      "46. feature 5 (0.002292) \n",
      "47. feature 29 (0.002253) \n",
      "48. feature 99 (0.002126) \n",
      "49. feature 11 (0.002101) \n",
      "50. feature 27 (0.002091) \n",
      "51. feature 55 (0.002045) \n",
      "52. feature 82 (0.002035) \n",
      "53. feature 71 (0.001973) \n",
      "54. feature 28 (0.001913) \n",
      "55. feature 93 (0.001836) \n",
      "56. feature 4 (0.001568) \n",
      "57. feature 10 (0.001453) \n",
      "58. feature 86 (0.001189) \n",
      "59. feature 25 (0.001000) \n",
      "60. feature 40 (0.000955) \n",
      "61. feature 59 (0.000929) \n",
      "62. feature 31 (0.000915) \n",
      "63. feature 8 (0.000878) \n",
      "64. feature 89 (0.000830) \n",
      "65. feature 38 (0.000807) \n",
      "66. feature 48 (0.000783) \n",
      "67. feature 64 (0.000706) \n",
      "68. feature 51 (0.000647) \n",
      "69. feature 6 (0.000633) \n",
      "70. feature 53 (0.000614) \n",
      "71. feature 34 (0.000548) \n",
      "72. feature 23 (0.000522) \n",
      "73. feature 32 (0.000494) \n",
      "74. feature 62 (0.000435) \n",
      "75. feature 60 (0.000434) \n",
      "76. feature 49 (0.000429) \n",
      "77. feature 52 (0.000375) \n",
      "78. feature 65 (0.000367) \n",
      "79. feature 39 (0.000352) \n",
      "80. feature 41 (0.000322) \n",
      "81. feature 69 (0.000276) \n",
      "82. feature 30 (0.000244) \n",
      "83. feature 70 (0.000225) \n",
      "84. feature 7 (0.000221) \n",
      "85. feature 33 (0.000180) \n",
      "86. feature 50 (0.000179) \n",
      "87. feature 61 (0.000170) \n",
      "88. feature 37 (0.000158) \n",
      "89. feature 43 (0.000154) \n",
      "90. feature 35 (0.000151) \n",
      "91. feature 46 (0.000147) \n",
      "92. feature 47 (0.000130) \n",
      "93. feature 67 (0.000117) \n",
      "94. feature 36 (0.000116) \n",
      "95. feature 80 (0.000113) \n",
      "96. feature 42 (0.000112) \n",
      "97. feature 56 (0.000097) \n",
      "98. feature 58 (0.000088) \n",
      "99. feature 54 (0.000084) \n",
      "100. feature 66 (0.000073) \n",
      "101. feature 63 (0.000067) \n",
      "102. feature 17 (0.000059) \n",
      "103. feature 107 (0.000042) \n",
      "104. feature 57 (0.000024) \n",
      "105. feature 45 (0.000010) \n",
      "106. feature 73 (0.000009) \n",
      "107. feature 102 (0.000002) \n",
      "108. feature 44 (0.000001) \n"
     ]
    }
   ],
   "source": [
    "print(\"Feauture importances: \\n\")\n",
    "for i in range(Xtrain_encoded.shape[1]):\n",
    "    print( \"%d. feature %d (%f) \" % (i+1, indices[i], importances[indices[i]]))"
   ]
  },
  {
   "cell_type": "code",
   "execution_count": 16,
   "metadata": {
    "pycharm": {
     "is_executing": false,
     "name": "#%%\n"
    }
   },
   "outputs": [
    {
     "data": {
      "text/plain": [
       "(-1, 108)"
      ]
     },
     "execution_count": 16,
     "metadata": {},
     "output_type": "execute_result"
    },
    {
     "data": {
      "image/png": "[encoded data removed]",
      "text/plain": [
       "<Figure size 1800x576 with 1 Axes>"
      ]
     },
     "metadata": {
      "needs_background": "light"
     },
     "output_type": "display_data"
    }
   ],
   "source": [
    "pyplot.figure(figsize=(25, 8))\n",
    "pyplot.title(\"Feature importances\")\n",
    "pyplot.bar(range(Xtrain_encoded.shape[1]), importances[indices], color=\"r\", yerr=std_dev[indices], align=\"center\")\n",
    "pyplot.xticks(range(Xtrain_encoded.shape[1]), indices)\n",
    "pyplot.xlim([-1, Xtrain_encoded.shape[1]])"
   ]
  },
  {
   "cell_type": "markdown",
   "metadata": {
    "pycharm": {
     "name": "#%%\n"
    }
   },
   "source": [
    "Sort the features by importance scores in reverse order (so that the most important feature comes first), inspect the first few of these features, and try to reason about why you got this result."
   ]
  },
  {
   "cell_type": "code",
   "execution_count": 34,
   "metadata": {},
   "outputs": [
    {
     "name": "stdout",
     "output_type": "stream",
     "text": [
      "1. feature 1 (0.130117) \n",
      "2. feature 24 (0.103103) \n",
      "3. feature 0 (0.094440) \n",
      "4. feature 3 (0.092973) \n",
      "5. feature 20 (0.062752) \n",
      "6. feature 21 (0.062447) \n",
      "7. feature 91 (0.057786) \n",
      "8. feature 26 (0.035809) \n",
      "9. feature 2 (0.035657) \n",
      "10. feature 75 (0.025398) \n"
     ]
    }
   ],
   "source": [
    "for i in range(Xtrain_encoded.shape[1])[:10]:\n",
    "    print( \"%d. feature %d (%f) \" % (i+1, indices[i], importances[indices[i]]))"
   ]
  },
  {
   "cell_type": "code",
   "execution_count": 79,
   "metadata": {},
   "outputs": [],
   "source": [
    "import heapq\n",
    "\n",
    "rfc = RandomForestClassifier(n_estimators=100, n_jobs=-1, min_samples_leaf=10)\n",
    "rfc.fit(Xtrain_encoded, Ytrain)\n",
    "Y_test_pred = rfc.predict(Xtest_encoded)\n",
    "Y_train_pred = rfc.predict(Xtrain_encoded)\n",
    "acc_train = accuracy_score(Ytrain, Y_train_pred)\n",
    "acc_test = accuracy_score(Ytest, Y_test_pred)\n",
    "feat_imp = rfc.feature_importances_\n",
    "feat_names = dict_vectorizer.feature_names_\n",
    "indexes = heapq.nlargest(5, range(len(feat_imp)), feat_imp.take)\n",
    "features = [feat_names[x] for x in indexes]"
   ]
  },
  {
   "cell_type": "code",
   "execution_count": null,
   "metadata": {},
   "outputs": [],
   "source": []
  }
 ],
 "metadata": {
  "kernelspec": {
   "display_name": "PyCharm (Assignment4)",
   "language": "python",
   "name": "pycharm-46474081"
  },
  "language_info": {
   "codemirror_mode": {
    "name": "ipython",
    "version": 3
   },
   "file_extension": ".py",
   "mimetype": "text/x-python",
   "name": "python",
   "nbconvert_exporter": "python",
   "pygments_lexer": "ipython3",
   "version": "3.7.1"
  },
  "pycharm": {
   "stem_cell": {
    "cell_type": "raw",
    "metadata": {
     "collapsed": false
    },
    "source": []
   }
  }
 },
 "nbformat": 4,
 "nbformat_minor": 1
}
