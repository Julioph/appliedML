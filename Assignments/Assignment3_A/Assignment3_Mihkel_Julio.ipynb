{
 "cells": [
  {
   "cell_type": "markdown",
   "metadata": {
    "pycharm": {
     "is_executing": true,
     "name": "#%% md \n"
    }
   },
   "source": [
    "## Assignment 3\n",
    "### Mihkel Sildnik & Julio Ponte"
   ]
  },
  {
   "cell_type": "code",
   "execution_count": 1,
   "metadata": {
    "pycharm": {
     "is_executing": false
    }
   },
   "outputs": [],
   "source": [
    "import numpy as np\n",
    "# If we initialize the random number generator before loading Keras, we'll get the same\n",
    "# result each time we run the notebook.\n",
    "np.random.seed(0)\n",
    "\n",
    "import tensorflow as tf\n",
    "import time\n",
    "\n",
    "import matplotlib.pyplot as plt\n",
    "%matplotlib inline\n",
    "plt.style.use('fivethirtyeight')"
   ]
  },
  {
   "cell_type": "code",
   "execution_count": 2,
   "metadata": {
    "pycharm": {
     "is_executing": false
    }
   },
   "outputs": [
    {
     "name": "stdout",
     "output_type": "stream",
     "text": [
      "Found 1600 images belonging to 2 classes.\n"
     ]
    }
   ],
   "source": [
    "data_gen = tf.keras.preprocessing.image.ImageDataGenerator(rescale=1.0/255)\n",
    "\n",
    "img_dir = 'pa3_images'\n",
    "img_size = 64\n",
    "batch_size = 32\n",
    "\n",
    "train_generator = data_gen.flow_from_directory(\n",
    "                    img_dir + '/train',\n",
    "                    target_size = (img_size, img_size),\n",
    "                    batch_size = batch_size,\n",
    "                    class_mode = 'binary',\n",
    "                    classes = ['other', 'car'],\n",
    "                    seed = 12345,\n",
    "                    shuffle = True\n",
    "                    )"
   ]
  },
  {
   "cell_type": "code",
   "execution_count": 3,
   "metadata": {
    "pycharm": {
     "name": "#%%\n"
    }
   },
   "outputs": [],
   "source": [
    "Xbatch, Ybatch = train_generator.next()"
   ]
  },
  {
   "cell_type": "code",
   "execution_count": 4,
   "metadata": {
    "pycharm": {
     "is_executing": false,
     "name": "#%%\n"
    }
   },
   "outputs": [
    {
     "data": {
      "text/plain": [
       "(32, 64, 64, 3)"
      ]
     },
     "execution_count": 4,
     "metadata": {},
     "output_type": "execute_result"
    }
   ],
   "source": [
    "Xbatch.shape"
   ]
  },
  {
   "cell_type": "code",
   "execution_count": 5,
   "metadata": {
    "pycharm": {
     "is_executing": false
    }
   },
   "outputs": [
    {
     "name": "stdout",
     "output_type": "stream",
     "text": [
      "Found 576 images belonging to 2 classes.\n"
     ]
    }
   ],
   "source": [
    "data_gen = tf.keras.preprocessing.image.ImageDataGenerator(rescale=1.0/255)\n",
    "\n",
    "img_dir = 'pa3_images'\n",
    "img_size = 64\n",
    "batch_size = 32\n",
    "\n",
    "validation_generator = data_gen.flow_from_directory(\n",
    "                    img_dir + '/validation',\n",
    "                    target_size = (img_size, img_size),\n",
    "                    batch_size = batch_size,\n",
    "                    class_mode = 'binary',\n",
    "                    classes = ['other', 'car'],\n",
    "                    seed = 12345,\n",
    "                    shuffle = True\n",
    "                    )"
   ]
  },
  {
   "cell_type": "code",
   "execution_count": 6,
   "metadata": {
    "pycharm": {
     "is_executing": false
    }
   },
   "outputs": [
    {
     "name": "stdout",
     "output_type": "stream",
     "text": [
      "is it a car? :  1.0\n"
     ]
    },
    {
     "data": {
      "image/png": "[encoded data removed]",
      "text/plain": [
       "<Figure size 432x288 with 1 Axes>"
      ]
     },
     "metadata": {
      "needs_background": "light"
     },
     "output_type": "display_data"
    }
   ],
   "source": [
    "plt.imshow(Xbatch[0])\n",
    "print(\"is it a car? : \", Ybatch[0])"
   ]
  },
  {
   "cell_type": "code",
   "execution_count": 7,
   "metadata": {
    "pycharm": {
     "is_executing": false
    }
   },
   "outputs": [],
   "source": [
    "def make_convnet():\n",
    "    #Build the keras convolutional NN\n",
    "    model = tf.keras.models.Sequential()\n",
    "    \n",
    "    model.add(tf.keras.layers.Conv2D(filters=2**7, kernel_size=(5,5), activation=\"relu\", strides=(2, 2), input_shape=(64,64,3)))\n",
    "    model.add(tf.keras.layers.MaxPooling2D(pool_size=(4,4), strides=(2,2)))\n",
    "    model.add(tf.keras.layers.Conv2D(filters=2**5, kernel_size=(3,3), activation=\"relu\", strides=(2, 2)))\n",
    "    model.add(tf.keras.layers.MaxPooling2D(pool_size=(3,3), strides=(2,2)))\n",
    "    model.add(tf.keras.layers.Conv2D(filters=2**4, kernel_size=(1,1), activation=\"relu\", strides=(1, 1)))\n",
    "    model.add(tf.keras.layers.MaxPooling2D(pool_size=(2,2), strides=(2,2)))\n",
    "    \n",
    "    model.add(tf.keras.layers.Flatten())\n",
    "    \n",
    "    model.add(tf.keras.layers.Dense(64, activation=\"relu\"))\n",
    "    model.add(tf.keras.layers.Dense(1   , activation=\"sigmoid\"))\n",
    "    model.compile(loss='binary_crossentropy',\n",
    "                  optimizer = 'adam',\n",
    "                  metrics = ['accuracy'])\n",
    "    return model"
   ]
  },
  {
   "cell_type": "code",
   "execution_count": 9,
   "metadata": {
    "pycharm": {
     "is_executing": false
    },
    "scrolled": true
   },
   "outputs": [
    {
     "name": "stdout",
     "output_type": "stream",
     "text": [
      "WARNING:tensorflow:sample_weight modes were coerced from\n",
      "  ...\n",
      "    to  \n",
      "  ['...']\n",
      "WARNING:tensorflow:sample_weight modes were coerced from\n",
      "  ...\n",
      "    to  \n",
      "  ['...']\n",
      "Train for 50 steps, validate for 18 steps\n",
      "Epoch 1/50\n",
      "50/50 [==============================] - 8s 150ms/step - loss: 0.6943 - accuracy: 0.4938 - val_loss: 0.6917 - val_accuracy: 0.5000\n",
      "Epoch 2/50\n",
      "50/50 [==============================] - 6s 121ms/step - loss: 0.6930 - accuracy: 0.4975 - val_loss: 0.6917 - val_accuracy: 0.5087\n",
      "Epoch 3/50\n",
      "50/50 [==============================] - 6s 126ms/step - loss: 0.6841 - accuracy: 0.5719 - val_loss: 0.6854 - val_accuracy: 0.5660\n",
      "Epoch 4/50\n",
      "50/50 [==============================] - 6s 128ms/step - loss: 0.6621 - accuracy: 0.6094 - val_loss: 0.6515 - val_accuracy: 0.6545\n",
      "Epoch 5/50\n",
      "50/50 [==============================] - 7s 133ms/step - loss: 0.6230 - accuracy: 0.6525 - val_loss: 0.6294 - val_accuracy: 0.6667\n",
      "Epoch 6/50\n",
      "50/50 [==============================] - 7s 135ms/step - loss: 0.5928 - accuracy: 0.6831 - val_loss: 0.6205 - val_accuracy: 0.6719\n",
      "Epoch 7/50\n",
      "50/50 [==============================] - 6s 128ms/step - loss: 0.5818 - accuracy: 0.6950 - val_loss: 0.7131 - val_accuracy: 0.5816\n",
      "Epoch 8/50\n",
      "50/50 [==============================] - 7s 131ms/step - loss: 0.5844 - accuracy: 0.7013 - val_loss: 0.6064 - val_accuracy: 0.6875\n",
      "Epoch 9/50\n",
      "50/50 [==============================] - 6s 126ms/step - loss: 0.5598 - accuracy: 0.7094 - val_loss: 0.6273 - val_accuracy: 0.6962\n",
      "Epoch 10/50\n",
      "50/50 [==============================] - 6s 130ms/step - loss: 0.5721 - accuracy: 0.7106 - val_loss: 0.6015 - val_accuracy: 0.6997\n",
      "Epoch 11/50\n",
      "50/50 [==============================] - 7s 143ms/step - loss: 0.5241 - accuracy: 0.7394 - val_loss: 0.6493 - val_accuracy: 0.6441\n",
      "Epoch 12/50\n",
      "50/50 [==============================] - 7s 149ms/step - loss: 0.5078 - accuracy: 0.7569 - val_loss: 0.5923 - val_accuracy: 0.6997\n",
      "Epoch 13/50\n",
      "50/50 [==============================] - 7s 135ms/step - loss: 0.4683 - accuracy: 0.7800 - val_loss: 0.5978 - val_accuracy: 0.7257\n",
      "Epoch 14/50\n",
      "50/50 [==============================] - 7s 133ms/step - loss: 0.4585 - accuracy: 0.7937 - val_loss: 0.5703 - val_accuracy: 0.7361\n",
      "Epoch 15/50\n",
      "50/50 [==============================] - 8s 158ms/step - loss: 0.4530 - accuracy: 0.7944 - val_loss: 0.6824 - val_accuracy: 0.6736\n",
      "Epoch 16/50\n",
      "50/50 [==============================] - 7s 143ms/step - loss: 0.4492 - accuracy: 0.7931 - val_loss: 0.5728 - val_accuracy: 0.7396\n",
      "Epoch 17/50\n",
      "50/50 [==============================] - 6s 126ms/step - loss: 0.4208 - accuracy: 0.8062 - val_loss: 0.5925 - val_accuracy: 0.7135\n",
      "Epoch 18/50\n",
      "50/50 [==============================] - 6s 128ms/step - loss: 0.3763 - accuracy: 0.8381 - val_loss: 0.5656 - val_accuracy: 0.7309\n",
      "Epoch 19/50\n",
      "50/50 [==============================] - 6s 128ms/step - loss: 0.3504 - accuracy: 0.8519 - val_loss: 0.5643 - val_accuracy: 0.7309\n",
      "Epoch 20/50\n",
      "50/50 [==============================] - 6s 126ms/step - loss: 0.3456 - accuracy: 0.8612 - val_loss: 0.5730 - val_accuracy: 0.7361\n",
      "Epoch 21/50\n",
      "50/50 [==============================] - 6s 130ms/step - loss: 0.3077 - accuracy: 0.8794 - val_loss: 0.5690 - val_accuracy: 0.7292\n",
      "Epoch 22/50\n",
      "50/50 [==============================] - 6s 126ms/step - loss: 0.3238 - accuracy: 0.8700 - val_loss: 0.6388 - val_accuracy: 0.7274\n",
      "Epoch 23/50\n",
      "50/50 [==============================] - 6s 130ms/step - loss: 0.2667 - accuracy: 0.8988 - val_loss: 0.6399 - val_accuracy: 0.7396\n",
      "Epoch 24/50\n",
      "50/50 [==============================] - 7s 130ms/step - loss: 0.2503 - accuracy: 0.9075 - val_loss: 0.6408 - val_accuracy: 0.7378\n",
      "Epoch 25/50\n",
      "50/50 [==============================] - 6s 128ms/step - loss: 0.2391 - accuracy: 0.9081 - val_loss: 0.6829 - val_accuracy: 0.7274\n",
      "Epoch 26/50\n",
      "50/50 [==============================] - 6s 129ms/step - loss: 0.2367 - accuracy: 0.9125 - val_loss: 0.6523 - val_accuracy: 0.7326\n",
      "Epoch 27/50\n",
      "50/50 [==============================] - 6s 126ms/step - loss: 0.1922 - accuracy: 0.9294 - val_loss: 0.7203 - val_accuracy: 0.7309\n",
      "Epoch 28/50\n",
      "50/50 [==============================] - 6s 130ms/step - loss: 0.1762 - accuracy: 0.9337 - val_loss: 0.6948 - val_accuracy: 0.7483\n",
      "Epoch 29/50\n",
      "50/50 [==============================] - 7s 141ms/step - loss: 0.1490 - accuracy: 0.9456 - val_loss: 0.7455 - val_accuracy: 0.7344\n",
      "Epoch 30/50\n",
      "50/50 [==============================] - 8s 153ms/step - loss: 0.1878 - accuracy: 0.9181 - val_loss: 0.8650 - val_accuracy: 0.7170\n",
      "Epoch 31/50\n",
      "50/50 [==============================] - 7s 132ms/step - loss: 0.1580 - accuracy: 0.9431 - val_loss: 0.7776 - val_accuracy: 0.7188\n",
      "Epoch 32/50\n",
      "50/50 [==============================] - 7s 139ms/step - loss: 0.1068 - accuracy: 0.9700 - val_loss: 0.8273 - val_accuracy: 0.7483\n",
      "Epoch 33/50\n",
      "50/50 [==============================] - 7s 133ms/step - loss: 0.1028 - accuracy: 0.9606 - val_loss: 0.8596 - val_accuracy: 0.7500\n",
      "Epoch 34/50\n",
      "50/50 [==============================] - 6s 128ms/step - loss: 0.1013 - accuracy: 0.9681 - val_loss: 0.9351 - val_accuracy: 0.7083\n",
      "Epoch 35/50\n",
      "50/50 [==============================] - 7s 131ms/step - loss: 0.0865 - accuracy: 0.9744 - val_loss: 0.8839 - val_accuracy: 0.7483\n",
      "Epoch 36/50\n",
      "50/50 [==============================] - 7s 130ms/step - loss: 0.0734 - accuracy: 0.9769 - val_loss: 0.9514 - val_accuracy: 0.7483\n",
      "Epoch 37/50\n",
      "50/50 [==============================] - 6s 128ms/step - loss: 0.0622 - accuracy: 0.9850 - val_loss: 0.9086 - val_accuracy: 0.7535\n",
      "Epoch 38/50\n",
      "50/50 [==============================] - 6s 126ms/step - loss: 0.0671 - accuracy: 0.9800 - val_loss: 1.0775 - val_accuracy: 0.7309\n",
      "Epoch 39/50\n",
      "50/50 [==============================] - 7s 132ms/step - loss: 0.0522 - accuracy: 0.9887 - val_loss: 0.9601 - val_accuracy: 0.7240\n",
      "Epoch 40/50\n",
      "50/50 [==============================] - 8s 163ms/step - loss: 0.0443 - accuracy: 0.9887 - val_loss: 0.9945 - val_accuracy: 0.7465\n",
      "Epoch 41/50\n",
      "50/50 [==============================] - 8s 158ms/step - loss: 0.0375 - accuracy: 0.9906 - val_loss: 1.1302 - val_accuracy: 0.7083\n",
      "Epoch 42/50\n",
      "50/50 [==============================] - 7s 134ms/step - loss: 0.0612 - accuracy: 0.9794 - val_loss: 1.4072 - val_accuracy: 0.7222\n",
      "Epoch 43/50\n",
      "50/50 [==============================] - 7s 136ms/step - loss: 0.1106 - accuracy: 0.9556 - val_loss: 1.1429 - val_accuracy: 0.7344\n",
      "Epoch 44/50\n",
      "50/50 [==============================] - 7s 140ms/step - loss: 0.0611 - accuracy: 0.9812 - val_loss: 1.1452 - val_accuracy: 0.7326\n",
      "Epoch 45/50\n",
      "50/50 [==============================] - 7s 130ms/step - loss: 0.0393 - accuracy: 0.9906 - val_loss: 1.3070 - val_accuracy: 0.7431\n",
      "Epoch 46/50\n",
      "50/50 [==============================] - 7s 135ms/step - loss: 0.0434 - accuracy: 0.9881 - val_loss: 1.1661 - val_accuracy: 0.7361\n",
      "Epoch 47/50\n",
      "50/50 [==============================] - 7s 138ms/step - loss: 0.0253 - accuracy: 0.9950 - val_loss: 1.2829 - val_accuracy: 0.7396\n",
      "Epoch 48/50\n",
      "50/50 [==============================] - 7s 140ms/step - loss: 0.0223 - accuracy: 0.9956 - val_loss: 1.2263 - val_accuracy: 0.7500\n",
      "Epoch 49/50\n",
      "50/50 [==============================] - 6s 128ms/step - loss: 0.0186 - accuracy: 0.9962 - val_loss: 1.3247 - val_accuracy: 0.7396\n",
      "Epoch 50/50\n",
      "50/50 [==============================] - 7s 143ms/step - loss: 0.0151 - accuracy: 0.9969 - val_loss: 1.3346 - val_accuracy: 0.7552\n",
      "Total training time elapsed (minutes):  5.609539214769999\n"
     ]
    }
   ],
   "source": [
    "#Train it and time it\n",
    "model = make_convnet()\n",
    "start_time = time.time()\n",
    "history = model.fit(train_generator, epochs = 50, verbose = 1, validation_data=validation_generator)\n",
    "end_time = time.time()\n",
    "minutes = (end_time - start_time)/60\n",
    "print(\"Total training time elapsed (minutes): \", minutes)"
   ]
  },
  {
   "cell_type": "code",
   "execution_count": 10,
   "metadata": {
    "pycharm": {
     "is_executing": false
    }
   },
   "outputs": [
    {
     "data": {
      "text/plain": [
       "Text(0.5, 1.0, 'Loss')"
      ]
     },
     "execution_count": 10,
     "metadata": {},
     "output_type": "execute_result"
    },
    {
     "data": {
      "image/png": "[encoded data removed]",
      "text/plain": [
       "<Figure size 432x288 with 1 Axes>"
      ]
     },
     "metadata": {
      "needs_background": "light"
     },
     "output_type": "display_data"
    }
   ],
   "source": [
    "#Plot the losses\n",
    "training_loss = history.history.get('loss')\n",
    "validation_loss = history.history.get('val_loss')\n",
    "\n",
    "plt.plot(history.epoch, training_loss, linewidth=2, linestyle=':', label = 'Training Loss')\n",
    "plt.plot(history.epoch, validation_loss, linewidth=2, label = 'Validation Loss')\n",
    "plt.legend()\n",
    "plt.title(\"Loss\")"
   ]
  },
  {
   "cell_type": "code",
   "execution_count": 11,
   "metadata": {
    "pycharm": {
     "is_executing": false
    }
   },
   "outputs": [
    {
     "data": {
      "text/plain": [
       "Text(0.5, 1.0, 'Accuracy')"
      ]
     },
     "execution_count": 11,
     "metadata": {},
     "output_type": "execute_result"
    },
    {
     "data": {
      "image/png": "[encoded data removed]",
      "text/plain": [
       "<Figure size 432x288 with 1 Axes>"
      ]
     },
     "metadata": {
      "needs_background": "light"
     },
     "output_type": "display_data"
    }
   ],
   "source": [
    "#Plot the accuracies\n",
    "training_acc = history.history.get('accuracy')\n",
    "validation_acc = history.history.get('val_accuracy')\n",
    "\n",
    "plt.plot(history.epoch, training_acc, linewidth=2, linestyle=':', label = 'Training Accuracy')\n",
    "plt.plot(history.epoch, validation_acc, linewidth=2, label = 'Validation Accuracy')\n",
    "plt.legend()\n",
    "plt.title(\"Accuracy\")"
   ]
  },
  {
   "cell_type": "code",
   "execution_count": 12,
   "metadata": {
    "pycharm": {
     "is_executing": false
    },
    "scrolled": false
   },
   "outputs": [
    {
     "name": "stdout",
     "output_type": "stream",
     "text": [
      "WARNING:tensorflow:sample_weight modes were coerced from\n",
      "  ...\n",
      "    to  \n",
      "  ['...']\n",
      "Test loss: 1.3345765786038504\n",
      "Test accuracy: 0.7552083\n"
     ]
    }
   ],
   "source": [
    "#Evaluate the model with the the validation data\n",
    "score = model.evaluate(validation_generator, verbose=0)\n",
    "print('Test loss:', score[0])\n",
    "print('Test accuracy:', score[1])"
   ]
  },
  {
   "cell_type": "markdown",
   "metadata": {},
   "source": [
    "From this graph, the effect of overfitting is clear, training accuracy keeps going up while the validation accuracy at first climbs slightly, and stabilizes at around 70% with noticeable variation between epochs."
   ]
  },
  {
   "cell_type": "code",
   "execution_count": 13,
   "metadata": {
    "pycharm": {
     "is_executing": false
    }
   },
   "outputs": [],
   "source": [
    "# Optionally save weights learnt by the CNN\n",
    "# model.save_weights('50_epochs')"
   ]
  },
  {
   "cell_type": "markdown",
   "metadata": {},
   "source": [
    "### Part 2\n",
    "\n",
    "Using an image data generator with data augmentation. Augmentation helps with overfitting."
   ]
  },
  {
   "cell_type": "code",
   "execution_count": 14,
   "metadata": {
    "pycharm": {
     "is_executing": false
    }
   },
   "outputs": [
    {
     "name": "stdout",
     "output_type": "stream",
     "text": [
      "Found 1600 images belonging to 2 classes.\n"
     ]
    }
   ],
   "source": [
    "img_data_gen = tf.keras.preprocessing.image.ImageDataGenerator(\n",
    "                    rotation_range=90, \n",
    "                    width_shift_range=0.3, \n",
    "                    height_shift_range=0.3, \n",
    "                    brightness_range=[0.1, 0.9],\n",
    "                    shear_range=20.0, \n",
    "                    rescale=1.0/255)\n",
    "\n",
    "aug_training_generator = img_data_gen.flow_from_directory(\n",
    "                    img_dir + \"/train\",\n",
    "                    target_size = (img_size, img_size),\n",
    "                    batch_size = batch_size,\n",
    "                    class_mode = 'binary',\n",
    "                    classes = ['other', 'car'],\n",
    "                    seed = 12345,\n",
    "                    shuffle = True)"
   ]
  },
  {
   "cell_type": "code",
   "execution_count": 15,
   "metadata": {
    "pycharm": {
     "is_executing": false
    },
    "scrolled": true
   },
   "outputs": [
    {
     "name": "stdout",
     "output_type": "stream",
     "text": [
      "WARNING:tensorflow:sample_weight modes were coerced from\n",
      "  ...\n",
      "    to  \n",
      "  ['...']\n",
      "WARNING:tensorflow:sample_weight modes were coerced from\n",
      "  ...\n",
      "    to  \n",
      "  ['...']\n",
      "Train for 50 steps, validate for 18 steps\n",
      "Epoch 1/50\n",
      "50/50 [==============================] - 9s 183ms/step - loss: 0.8494 - accuracy: 0.5944 - val_loss: 0.7557 - val_accuracy: 0.6319\n",
      "Epoch 2/50\n",
      "50/50 [==============================] - 9s 180ms/step - loss: 0.6368 - accuracy: 0.6425 - val_loss: 0.8780 - val_accuracy: 0.6215\n",
      "Epoch 3/50\n",
      "50/50 [==============================] - 10s 197ms/step - loss: 0.6264 - accuracy: 0.6444 - val_loss: 0.6507 - val_accuracy: 0.7031\n",
      "Epoch 4/50\n",
      "50/50 [==============================] - 11s 212ms/step - loss: 0.6127 - accuracy: 0.6681 - val_loss: 0.7459 - val_accuracy: 0.6667\n",
      "Epoch 5/50\n",
      "50/50 [==============================] - 9s 177ms/step - loss: 0.6142 - accuracy: 0.6631 - val_loss: 0.6117 - val_accuracy: 0.7135\n",
      "Epoch 6/50\n",
      "50/50 [==============================] - 9s 182ms/step - loss: 0.5956 - accuracy: 0.6787 - val_loss: 0.6099 - val_accuracy: 0.6997\n",
      "Epoch 7/50\n",
      "50/50 [==============================] - 9s 183ms/step - loss: 0.5867 - accuracy: 0.6775 - val_loss: 0.5883 - val_accuracy: 0.7222\n",
      "Epoch 8/50\n",
      "50/50 [==============================] - 9s 181ms/step - loss: 0.5952 - accuracy: 0.6856 - val_loss: 0.5749 - val_accuracy: 0.7257\n",
      "Epoch 9/50\n",
      "50/50 [==============================] - 9s 179ms/step - loss: 0.5817 - accuracy: 0.6925 - val_loss: 0.5645 - val_accuracy: 0.7153\n",
      "Epoch 10/50\n",
      "50/50 [==============================] - 9s 175ms/step - loss: 0.5933 - accuracy: 0.6756 - val_loss: 0.6421 - val_accuracy: 0.7083\n",
      "Epoch 11/50\n",
      "50/50 [==============================] - 9s 188ms/step - loss: 0.5748 - accuracy: 0.7019 - val_loss: 0.6474 - val_accuracy: 0.7066\n",
      "Epoch 12/50\n",
      "50/50 [==============================] - 10s 207ms/step - loss: 0.5904 - accuracy: 0.6869 - val_loss: 0.5849 - val_accuracy: 0.7240\n",
      "Epoch 13/50\n",
      "50/50 [==============================] - 10s 201ms/step - loss: 0.5832 - accuracy: 0.6862 - val_loss: 0.5443 - val_accuracy: 0.7483\n",
      "Epoch 14/50\n",
      "50/50 [==============================] - 9s 189ms/step - loss: 0.5724 - accuracy: 0.6969 - val_loss: 0.5770 - val_accuracy: 0.7361\n",
      "Epoch 15/50\n",
      "50/50 [==============================] - 10s 191ms/step - loss: 0.5777 - accuracy: 0.6900 - val_loss: 0.5427 - val_accuracy: 0.7517\n",
      "Epoch 16/50\n",
      "50/50 [==============================] - 10s 193ms/step - loss: 0.5676 - accuracy: 0.7038 - val_loss: 0.5577 - val_accuracy: 0.7378\n",
      "Epoch 17/50\n",
      "50/50 [==============================] - 11s 212ms/step - loss: 0.5786 - accuracy: 0.7031 - val_loss: 0.5929 - val_accuracy: 0.7083\n",
      "Epoch 18/50\n",
      "50/50 [==============================] - 9s 188ms/step - loss: 0.5591 - accuracy: 0.7125 - val_loss: 0.5517 - val_accuracy: 0.7396\n",
      "Epoch 19/50\n",
      "50/50 [==============================] - 10s 195ms/step - loss: 0.5804 - accuracy: 0.6950 - val_loss: 0.6967 - val_accuracy: 0.6736\n",
      "Epoch 20/50\n",
      "50/50 [==============================] - 10s 191ms/step - loss: 0.5836 - accuracy: 0.6762 - val_loss: 0.5565 - val_accuracy: 0.7274\n",
      "Epoch 21/50\n",
      "50/50 [==============================] - 10s 193ms/step - loss: 0.5683 - accuracy: 0.7044 - val_loss: 0.5474 - val_accuracy: 0.7378\n",
      "Epoch 22/50\n",
      "50/50 [==============================] - 9s 187ms/step - loss: 0.5654 - accuracy: 0.7044 - val_loss: 0.5295 - val_accuracy: 0.7569\n",
      "Epoch 23/50\n",
      "50/50 [==============================] - 9s 187ms/step - loss: 0.5783 - accuracy: 0.6981 - val_loss: 0.6463 - val_accuracy: 0.6719\n",
      "Epoch 24/50\n",
      "50/50 [==============================] - 9s 189ms/step - loss: 0.5767 - accuracy: 0.6950 - val_loss: 0.5349 - val_accuracy: 0.7309\n",
      "Epoch 25/50\n",
      "50/50 [==============================] - 11s 213ms/step - loss: 0.5715 - accuracy: 0.7025 - val_loss: 0.6385 - val_accuracy: 0.6823\n",
      "Epoch 26/50\n",
      "50/50 [==============================] - 10s 195ms/step - loss: 0.5616 - accuracy: 0.7175 - val_loss: 0.5705 - val_accuracy: 0.7413\n",
      "Epoch 27/50\n",
      "50/50 [==============================] - 9s 188ms/step - loss: 0.5650 - accuracy: 0.7056 - val_loss: 0.5924 - val_accuracy: 0.7049\n",
      "Epoch 28/50\n",
      "50/50 [==============================] - 9s 173ms/step - loss: 0.5521 - accuracy: 0.7181 - val_loss: 0.6559 - val_accuracy: 0.7066\n",
      "Epoch 29/50\n",
      "50/50 [==============================] - 10s 208ms/step - loss: 0.5482 - accuracy: 0.7081 - val_loss: 0.6337 - val_accuracy: 0.7257\n",
      "Epoch 30/50\n",
      "50/50 [==============================] - 10s 198ms/step - loss: 0.5603 - accuracy: 0.7081 - val_loss: 0.5637 - val_accuracy: 0.7448\n",
      "Epoch 31/50\n",
      "50/50 [==============================] - 9s 183ms/step - loss: 0.5473 - accuracy: 0.7044 - val_loss: 0.5662 - val_accuracy: 0.7222\n",
      "Epoch 32/50\n",
      "50/50 [==============================] - 10s 193ms/step - loss: 0.5454 - accuracy: 0.7163 - val_loss: 0.5967 - val_accuracy: 0.7344\n",
      "Epoch 33/50\n",
      "50/50 [==============================] - 10s 198ms/step - loss: 0.5608 - accuracy: 0.7038 - val_loss: 0.5350 - val_accuracy: 0.7431\n",
      "Epoch 34/50\n",
      "50/50 [==============================] - 10s 198ms/step - loss: 0.5606 - accuracy: 0.7063 - val_loss: 0.5616 - val_accuracy: 0.7361\n",
      "Epoch 35/50\n",
      "50/50 [==============================] - 9s 186ms/step - loss: 0.5484 - accuracy: 0.7231 - val_loss: 0.5713 - val_accuracy: 0.7240\n",
      "Epoch 36/50\n",
      "50/50 [==============================] - 10s 196ms/step - loss: 0.5438 - accuracy: 0.7169 - val_loss: 0.5799 - val_accuracy: 0.7344\n",
      "Epoch 37/50\n",
      "50/50 [==============================] - 12s 232ms/step - loss: 0.5635 - accuracy: 0.7044 - val_loss: 0.6230 - val_accuracy: 0.7101\n",
      "Epoch 38/50\n",
      "50/50 [==============================] - 9s 177ms/step - loss: 0.5588 - accuracy: 0.7113 - val_loss: 0.6710 - val_accuracy: 0.7118\n",
      "Epoch 39/50\n",
      "50/50 [==============================] - 10s 191ms/step - loss: 0.5612 - accuracy: 0.7156 - val_loss: 0.5515 - val_accuracy: 0.7448\n",
      "Epoch 40/50\n",
      "50/50 [==============================] - 9s 174ms/step - loss: 0.5608 - accuracy: 0.6894 - val_loss: 0.5760 - val_accuracy: 0.7240\n",
      "Epoch 41/50\n",
      "50/50 [==============================] - 9s 177ms/step - loss: 0.5396 - accuracy: 0.7163 - val_loss: 0.5578 - val_accuracy: 0.7396\n",
      "Epoch 42/50\n",
      "50/50 [==============================] - 9s 172ms/step - loss: 0.5322 - accuracy: 0.7312 - val_loss: 0.5968 - val_accuracy: 0.7292\n",
      "Epoch 43/50\n",
      "50/50 [==============================] - 8s 169ms/step - loss: 0.5520 - accuracy: 0.7188 - val_loss: 0.6413 - val_accuracy: 0.7153\n",
      "Epoch 44/50\n",
      "50/50 [==============================] - 9s 181ms/step - loss: 0.5462 - accuracy: 0.7275 - val_loss: 0.5400 - val_accuracy: 0.7500\n",
      "Epoch 45/50\n",
      "50/50 [==============================] - 11s 212ms/step - loss: 0.5672 - accuracy: 0.6913 - val_loss: 0.5856 - val_accuracy: 0.7170\n",
      "Epoch 46/50\n",
      "50/50 [==============================] - 9s 185ms/step - loss: 0.5378 - accuracy: 0.7225 - val_loss: 0.6136 - val_accuracy: 0.7188\n",
      "Epoch 47/50\n",
      "50/50 [==============================] - 9s 175ms/step - loss: 0.5386 - accuracy: 0.7306 - val_loss: 0.5862 - val_accuracy: 0.7344\n",
      "Epoch 48/50\n",
      "50/50 [==============================] - 8s 163ms/step - loss: 0.5482 - accuracy: 0.7181 - val_loss: 0.7026 - val_accuracy: 0.6944\n",
      "Epoch 49/50\n",
      "50/50 [==============================] - 8s 165ms/step - loss: 0.5378 - accuracy: 0.7381 - val_loss: 0.5648 - val_accuracy: 0.7257\n",
      "Epoch 50/50\n",
      "50/50 [==============================] - 8s 162ms/step - loss: 0.5442 - accuracy: 0.7219 - val_loss: 0.5984 - val_accuracy: 0.7274\n",
      "Total training time elapsed (minutes):  5.609539214769999\n"
     ]
    }
   ],
   "source": [
    "#Train and time the model once again, using augmented data\n",
    "start_time1 = time.time()\n",
    "history = model.fit(aug_training_generator, epochs = 50, verbose = 1, validation_data=validation_generator)\n",
    "end_time1 = time.time()\n",
    "minutes1 = (end_time1 - start_time1)/60\n",
    "print(\"Total training time elapsed (minutes): \", minutes1)"
   ]
  },
  {
   "cell_type": "code",
   "execution_count": 16,
   "metadata": {
    "pycharm": {
     "is_executing": false
    }
   },
   "outputs": [
    {
     "data": {
      "text/plain": [
       "Text(0.5, 1.0, 'Loss')"
      ]
     },
     "execution_count": 16,
     "metadata": {},
     "output_type": "execute_result"
    },
    {
     "data": {
      "image/png": "[encoded data removed]",
      "text/plain": [
       "<Figure size 432x288 with 1 Axes>"
      ]
     },
     "metadata": {
      "needs_background": "light"
     },
     "output_type": "display_data"
    }
   ],
   "source": [
    "#Plot losses\n",
    "training_loss_aug = history.history.get('loss')\n",
    "validation_loss_aug = history.history.get('val_loss')\n",
    "\n",
    "plt.plot(history.epoch, training_loss_aug, linewidth=2, linestyle=':', label = 'Training Loss')\n",
    "plt.plot(history.epoch, validation_loss_aug, linewidth=2, label = 'Validation Loss')\n",
    "plt.legend()\n",
    "plt.title(\"Loss\")"
   ]
  },
  {
   "cell_type": "code",
   "execution_count": 17,
   "metadata": {
    "pycharm": {
     "is_executing": false
    }
   },
   "outputs": [
    {
     "data": {
      "text/plain": [
       "Text(0.5, 1.0, 'Accuracy')"
      ]
     },
     "execution_count": 17,
     "metadata": {},
     "output_type": "execute_result"
    },
    {
     "data": {
      "image/png": "[encoded data removed]",
      "text/plain": [
       "<Figure size 432x288 with 1 Axes>"
      ]
     },
     "metadata": {
      "needs_background": "light"
     },
     "output_type": "display_data"
    }
   ],
   "source": [
    "#Plot accuracies\n",
    "training_acc_aug = history.history.get('accuracy')\n",
    "validation_acc_aug = history.history.get('val_accuracy')\n",
    "\n",
    "plt.plot(history.epoch, training_acc_aug, linewidth=2, linestyle=':', label = 'Training Accuracy')\n",
    "plt.plot(history.epoch, validation_acc_aug, linewidth=2, label = 'Validation Accuracy')\n",
    "plt.legend()\n",
    "plt.title(\"Accuracy\")"
   ]
  },
  {
   "cell_type": "code",
   "execution_count": 18,
   "metadata": {
    "pycharm": {
     "is_executing": false
    }
   },
   "outputs": [
    {
     "name": "stdout",
     "output_type": "stream",
     "text": [
      "WARNING:tensorflow:sample_weight modes were coerced from\n",
      "  ...\n",
      "    to  \n",
      "  ['...']\n",
      "Test loss: 0.5984493907954958\n",
      "Test accuracy: 0.7274306\n"
     ]
    }
   ],
   "source": [
    "#Evaluate the model\n",
    "score = model.evaluate(validation_generator, verbose=0)\n",
    "print('Test loss:', score[0])\n",
    "print('Test accuracy:', score[1])"
   ]
  },
  {
   "cell_type": "markdown",
   "metadata": {},
   "source": [
    "In this graph the results from data augmentations are immediately visible, the validation accuracy is still at around 70% \n",
    "accuracy, but overfitting of the training set is nowhere neas as strong as when using the image data generator without data augmentation.\n",
    "We can also see that the validation accuracy is actually higher for most epochs."
   ]
  },
  {
   "cell_type": "markdown",
   "metadata": {},
   "source": [
    "### Interlude"
   ]
  },
  {
   "cell_type": "code",
   "execution_count": 19,
   "metadata": {
    "pycharm": {
     "is_executing": false
    }
   },
   "outputs": [],
   "source": [
    "#Load the VGG-16 layer CNN model from keras\n",
    "vggmodel = tf.keras.applications.VGG16(weights='imagenet', include_top=True)"
   ]
  },
  {
   "cell_type": "code",
   "execution_count": 20,
   "metadata": {
    "pycharm": {
     "is_executing": false
    }
   },
   "outputs": [],
   "source": [
    "#Show an image, and process the image in order to show predictions from VGG\n",
    "image_location = \"pa3_images/train/car/0177.jpg\"\n",
    "ImageVGG = tf.keras.preprocessing.image.load_img(image_location, target_size=(224,224))\n",
    "array_Image = tf.keras.preprocessing.image.img_to_array(ImageVGG)\n",
    "array_Image = tf.keras.applications.vgg16.preprocess_input(array_Image)\n",
    "array_Image = array_Image.reshape(1, 224, 224, 3)"
   ]
  },
  {
   "cell_type": "code",
   "execution_count": 21,
   "metadata": {
    "pycharm": {
     "is_executing": false
    }
   },
   "outputs": [
    {
     "data": {
      "text/plain": [
       "[[('n04037443', 'racer', 0.7865822),\n",
       "  ('n04285008', 'sports_car', 0.13090539),\n",
       "  ('n04461696', 'tow_truck', 0.02391978),\n",
       "  ('n03895866', 'passenger_car', 0.021518473),\n",
       "  ('n02974003', 'car_wheel', 0.016144866)]]"
      ]
     },
     "execution_count": 21,
     "metadata": {},
     "output_type": "execute_result"
    }
   ],
   "source": [
    "#Show predictions\n",
    "prediction = vggmodel.predict(array_Image)\n",
    "tf.keras.applications.vgg16.decode_predictions(prediction)"
   ]
  },
  {
   "cell_type": "markdown",
   "metadata": {},
   "source": [
    "We can clearly see that the top prediction (the one with the most probability) is correct in labeling the image as a 'racer' car. \n",
    "The model's following predictions are also all vehicles or a car wheel which shows that the model is working great."
   ]
  },
  {
   "cell_type": "markdown",
   "metadata": {},
   "source": [
    "### Part 3"
   ]
  },
  {
   "cell_type": "markdown",
   "metadata": {},
   "source": [
    "Transfer learning, which means that we leverage the knowledge stored in a pre-trained model and apply it to our specific task.\n",
    "\n",
    "To get started, we load the VGG-16 model once more."
   ]
  },
  {
   "cell_type": "code",
   "execution_count": 22,
   "metadata": {
    "pycharm": {
     "is_executing": false
    }
   },
   "outputs": [],
   "source": [
    "feature_extractor = tf.keras.applications.VGG16(include_top = False, weights = \"imagenet\", input_shape=(img_size, img_size, 3))"
   ]
  },
  {
   "cell_type": "markdown",
   "metadata": {},
   "source": [
    "Before reading the images, we need to create a new ImageDataGenerator that applies preprocess_input (the preprocessing required for VGG-16) to the images that it processes."
   ]
  },
  {
   "cell_type": "code",
   "execution_count": 23,
   "metadata": {
    "pycharm": {
     "is_executing": false
    }
   },
   "outputs": [],
   "source": [
    "vgg_data_gen = tf.keras.preprocessing.image.ImageDataGenerator(preprocessing_function=tf.keras.applications.vgg16.preprocess_input)"
   ]
  },
  {
   "cell_type": "code",
   "execution_count": 24,
   "metadata": {
    "pycharm": {
     "is_executing": false
    }
   },
   "outputs": [],
   "source": [
    "#Save the features that were learned by VGG 16. Save them as np array \n",
    "def create_vgg_features(from_directory, mode):\n",
    "    generator = vgg_data_gen.flow_from_directory(\n",
    "                    from_directory,\n",
    "                    target_size = (img_size, img_size),\n",
    "                    batch_size = batch_size,\n",
    "                    class_mode = 'binary',\n",
    "                    classes = ['other', 'car'],\n",
    "                    seed = 12345,\n",
    "                    shuffle = False\n",
    "                    )\n",
    "    \n",
    "    assert(mode=='training' or mode=='validation')\n",
    "    \n",
    "    cnn_features = feature_extractor.predict(generator)\n",
    "        \n",
    "    with open(\"vgg_features_\"+mode, 'wb') as file:\n",
    "        np.save(file, cnn_features)\n",
    "        "
   ]
  },
  {
   "cell_type": "code",
   "execution_count": 25,
   "metadata": {
    "pycharm": {
     "is_executing": false
    }
   },
   "outputs": [
    {
     "name": "stdout",
     "output_type": "stream",
     "text": [
      "Found 1600 images belonging to 2 classes.\n"
     ]
    }
   ],
   "source": [
    "img_dir = 'pa3_images'\n",
    "img_size = 64\n",
    "batch_size = 32\n",
    "\n",
    "\n",
    "create_vgg_features(img_dir+\"/train\", \"training\")"
   ]
  },
  {
   "cell_type": "code",
   "execution_count": 26,
   "metadata": {
    "pycharm": {
     "is_executing": false
    }
   },
   "outputs": [
    {
     "name": "stdout",
     "output_type": "stream",
     "text": [
      "Found 576 images belonging to 2 classes.\n"
     ]
    }
   ],
   "source": [
    "create_vgg_features(img_dir+\"/validation\", \"validation\")"
   ]
  },
  {
   "cell_type": "code",
   "execution_count": 27,
   "metadata": {
    "pycharm": {
     "is_executing": false,
     "name": "#%%\n"
    }
   },
   "outputs": [
    {
     "name": "stderr",
     "output_type": "stream",
     "text": [
      "Using TensorFlow backend.\n"
     ]
    }
   ],
   "source": [
    "from sklearn.metrics import accuracy_score\n",
    "from keras.wrappers.scikit_learn import KerasClassifier"
   ]
  },
  {
   "cell_type": "code",
   "execution_count": 28,
   "metadata": {
    "pycharm": {
     "is_executing": false
    }
   },
   "outputs": [],
   "source": [
    "#Helper function\n",
    "def create_base_model():\n",
    "    model = tf.keras.models.Sequential()\n",
    "    model.add(tf.keras.layers.Flatten())\n",
    "    model.add(tf.keras.layers.Dense(img_size, activation= \"relu\"))\n",
    "    model.add(tf.keras.layers.Dense(1, activation = \"sigmoid\"))\n",
    "    model.compile(loss='binary_crossentropy',\n",
    "              optimizer = 'adam',\n",
    "              metrics = ['accuracy'])\n",
    "    return model"
   ]
  },
  {
   "cell_type": "code",
   "execution_count": 29,
   "metadata": {
    "pycharm": {
     "is_executing": false,
     "name": "#%%\n"
    }
   },
   "outputs": [],
   "source": [
    "def get_labels(n):\n",
    "    return np.array([0]*(n//2) + [1]*(n//2))"
   ]
  },
  {
   "cell_type": "code",
   "execution_count": 30,
   "metadata": {
    "pycharm": {
     "is_executing": false,
     "name": "#%%\n"
    }
   },
   "outputs": [
    {
     "name": "stdout",
     "output_type": "stream",
     "text": [
      "Train on 1600 samples\n",
      "Epoch 1/50\n",
      "1600/1600 [==============================] - 1s 542us/sample - loss: 1.0564 - accuracy: 0.8512\n",
      "Epoch 2/50\n",
      "1600/1600 [==============================] - 1s 347us/sample - loss: 0.1397 - accuracy: 0.9475\n",
      "Epoch 3/50\n",
      "1600/1600 [==============================] - 1s 337us/sample - loss: 0.0442 - accuracy: 0.9831\n",
      "Epoch 4/50\n",
      "1600/1600 [==============================] - 1s 339us/sample - loss: 0.0128 - accuracy: 0.9956\n",
      "Epoch 5/50\n",
      "1600/1600 [==============================] - 1s 340us/sample - loss: 0.0135 - accuracy: 0.9969\n",
      "Epoch 6/50\n",
      "1600/1600 [==============================] - 1s 337us/sample - loss: 0.0054 - accuracy: 0.9981\n",
      "Epoch 7/50\n",
      "1600/1600 [==============================] - 1s 394us/sample - loss: 8.9665e-04 - accuracy: 1.0000\n",
      "Epoch 8/50\n",
      "1600/1600 [==============================] - 1s 393us/sample - loss: 2.9979e-04 - accuracy: 1.0000\n",
      "Epoch 9/50\n",
      "1600/1600 [==============================] - 1s 353us/sample - loss: 2.1529e-04 - accuracy: 1.0000\n",
      "Epoch 10/50\n",
      "1600/1600 [==============================] - 1s 352us/sample - loss: 1.6099e-04 - accuracy: 1.0000\n",
      "Epoch 11/50\n",
      "1600/1600 [==============================] - 1s 353us/sample - loss: 1.2554e-04 - accuracy: 1.0000\n",
      "Epoch 12/50\n",
      "1600/1600 [==============================] - 1s 344us/sample - loss: 1.0096e-04 - accuracy: 1.0000\n",
      "Epoch 13/50\n",
      "1600/1600 [==============================] - 1s 419us/sample - loss: 8.0903e-05 - accuracy: 1.0000\n",
      "Epoch 14/50\n",
      "1600/1600 [==============================] - 1s 383us/sample - loss: 6.6195e-05 - accuracy: 1.0000\n",
      "Epoch 15/50\n",
      "1600/1600 [==============================] - 1s 340us/sample - loss: 5.4069e-05 - accuracy: 1.0000\n",
      "Epoch 16/50\n",
      "1600/1600 [==============================] - 1s 350us/sample - loss: 4.4716e-05 - accuracy: 1.0000\n",
      "Epoch 17/50\n",
      "1600/1600 [==============================] - 1s 346us/sample - loss: 3.6902e-05 - accuracy: 1.0000\n",
      "Epoch 18/50\n",
      "1600/1600 [==============================] - 1s 343us/sample - loss: 3.0509e-05 - accuracy: 1.0000\n",
      "Epoch 19/50\n",
      "1600/1600 [==============================] - 1s 345us/sample - loss: 2.5355e-05 - accuracy: 1.0000\n",
      "Epoch 20/50\n",
      "1600/1600 [==============================] - 1s 362us/sample - loss: 2.1200e-05 - accuracy: 1.0000\n",
      "Epoch 21/50\n",
      "1600/1600 [==============================] - 1s 408us/sample - loss: 1.7654e-05 - accuracy: 1.0000\n",
      "Epoch 22/50\n",
      "1600/1600 [==============================] - 1s 347us/sample - loss: 1.4644e-05 - accuracy: 1.0000\n",
      "Epoch 23/50\n",
      "1600/1600 [==============================] - 1s 343us/sample - loss: 1.2071e-05 - accuracy: 1.0000\n",
      "Epoch 24/50\n",
      "1600/1600 [==============================] - 1s 346us/sample - loss: 1.0075e-05 - accuracy: 1.0000\n",
      "Epoch 25/50\n",
      "1600/1600 [==============================] - 1s 343us/sample - loss: 8.3861e-06 - accuracy: 1.0000\n",
      "Epoch 26/50\n",
      "1600/1600 [==============================] - 1s 341us/sample - loss: 7.0312e-06 - accuracy: 1.0000\n",
      "Epoch 27/50\n",
      "1600/1600 [==============================] - 1s 342us/sample - loss: 5.8566e-06 - accuracy: 1.0000\n",
      "Epoch 28/50\n",
      "1600/1600 [==============================] - 1s 344us/sample - loss: 4.9064e-06 - accuracy: 1.0000\n",
      "Epoch 29/50\n",
      "1600/1600 [==============================] - 1s 342us/sample - loss: 4.1097e-06 - accuracy: 1.0000\n",
      "Epoch 30/50\n",
      "1600/1600 [==============================] - 1s 346us/sample - loss: 3.4268e-06 - accuracy: 1.0000\n",
      "Epoch 31/50\n",
      "1600/1600 [==============================] - 1s 347us/sample - loss: 2.9162e-06 - accuracy: 1.0000\n",
      "Epoch 32/50\n",
      "1600/1600 [==============================] - 1s 343us/sample - loss: 2.4429e-06 - accuracy: 1.0000\n",
      "Epoch 33/50\n",
      "1600/1600 [==============================] - 1s 349us/sample - loss: 2.0448e-06 - accuracy: 1.0000\n",
      "Epoch 34/50\n",
      "1600/1600 [==============================] - 1s 342us/sample - loss: 1.7092e-06 - accuracy: 1.0000\n",
      "Epoch 35/50\n",
      "1600/1600 [==============================] - 1s 351us/sample - loss: 1.4421e-06 - accuracy: 1.0000\n",
      "Epoch 36/50\n",
      "1600/1600 [==============================] - 1s 360us/sample - loss: 1.2170e-06 - accuracy: 1.0000\n",
      "Epoch 37/50\n",
      "1600/1600 [==============================] - 1s 350us/sample - loss: 1.0248e-06 - accuracy: 1.0000\n",
      "Epoch 38/50\n",
      "1600/1600 [==============================] - 1s 376us/sample - loss: 8.6255e-07 - accuracy: 1.0000\n",
      "Epoch 39/50\n",
      "1600/1600 [==============================] - 1s 367us/sample - loss: 7.1294e-07 - accuracy: 1.0000\n",
      "Epoch 40/50\n",
      "1600/1600 [==============================] - 1s 386us/sample - loss: 6.1333e-07 - accuracy: 1.0000\n",
      "Epoch 41/50\n",
      "1600/1600 [==============================] - 1s 395us/sample - loss: 5.0592e-07 - accuracy: 1.0000\n",
      "Epoch 42/50\n",
      "1600/1600 [==============================] - 1s 413us/sample - loss: 4.2815e-07 - accuracy: 1.0000\n",
      "Epoch 43/50\n",
      "1600/1600 [==============================] - 1s 352us/sample - loss: 3.5795e-07 - accuracy: 1.0000\n",
      "Epoch 44/50\n",
      "1600/1600 [==============================] - 1s 342us/sample - loss: 3.0254e-07 - accuracy: 1.0000\n",
      "Epoch 45/50\n",
      "1600/1600 [==============================] - 1s 362us/sample - loss: 2.5110e-07 - accuracy: 1.0000\n",
      "Epoch 46/50\n",
      "1600/1600 [==============================] - 1s 410us/sample - loss: 2.1236e-07 - accuracy: 1.0000\n",
      "Epoch 47/50\n",
      "1600/1600 [==============================] - 1s 395us/sample - loss: 1.7682e-07 - accuracy: 1.0000\n",
      "Epoch 48/50\n",
      "1600/1600 [==============================] - 1s 583us/sample - loss: 1.4978e-07 - accuracy: 1.0000\n",
      "Epoch 49/50\n",
      "1600/1600 [==============================] - 1s 361us/sample - loss: 1.2721e-07 - accuracy: 1.0000\n",
      "Epoch 50/50\n",
      "1600/1600 [==============================] - 1s 339us/sample - loss: 1.0651e-07 - accuracy: 1.0000\n",
      "576/576 [==============================] - 0s 268us/sample\n",
      "0.90625\n"
     ]
    }
   ],
   "source": [
    "#Load the learnt features and train a model that \"piggy backs\" on these.\n",
    "def train_on_cnnfeatures(train_data, val_data):\n",
    "    \n",
    "    with open(train_data, 'rb') as file_train:\n",
    "        training_data = np.load(file_train)\n",
    "        \n",
    "    with open(val_data, 'rb') as file_val:\n",
    "        validation_data = np.load(file_val)\n",
    "    \n",
    "    Y_train = get_labels(len(training_data))\n",
    "    Y_val = get_labels(len(validation_data))\n",
    "    trained_model = KerasClassifier(build_fn=create_base_model, epochs=50, batch_size=5, verbose=1)\n",
    "    trained_model.fit(training_data, Y_train)\n",
    "    print(\"\\n Trained model accuracy: \", accuracy_score(Y_val, trained_model.predict(validation_data)))\n",
    "\n",
    "train_on_cnnfeatures(\"vgg_features_training\", \"vgg_features_validation\")\n"
   ]
  },
  {
   "cell_type": "markdown",
   "metadata": {
    "pycharm": {
     "name": "#%% md\n"
    }
   },
   "source": [
    "The accuracy this time is around 90%, this is a lot better than the results we got from our CNN previously. \n",
    "This is almost certainly because our CNN was unable to extract the features from the images. We used the same neural network on the \n",
    "features as we used in our model previously after convolution and pooling. This shows that the CNN part of our previous model\n",
    "was the weak link.  "
   ]
  },
  {
   "cell_type": "markdown",
   "metadata": {
    "pycharm": {
     "name": "#%% md\n"
    }
   },
   "source": [
    "### Part 4"
   ]
  },
  {
   "cell_type": "code",
   "execution_count": 31,
   "metadata": {
    "pycharm": {
     "is_executing": false,
     "name": "#%%\n"
    }
   },
   "outputs": [
    {
     "name": "stdout",
     "output_type": "stream",
     "text": [
      "(3, 3, 3, 64)\n"
     ]
    }
   ],
   "source": [
    "#Get patterns learnt by the first convolutional layer of the feature extractor\n",
    "first_layer_weights = vggmodel.get_weights()[0]\n",
    "print(first_layer_weights.shape)\n",
    "\n",
    "def kernel_image(weights, i, positive):\n",
    "    \n",
    "    # extract the convolutional kernel at position i\n",
    "    k = weights[:,:,:,i].copy()\n",
    "    if not positive:\n",
    "        k = -k\n",
    "    \n",
    "    # clip the values: if we're looking for positive\n",
    "    # values, just keep the positive part; vice versa\n",
    "    # for the negative values.\n",
    "    k *= k > 0\n",
    "\n",
    "    # rescale the colors, to make the images less dark\n",
    "    m = k.max()\n",
    "    if m > 1e-3:\n",
    "        k /= m \n",
    "\n",
    "    return k"
   ]
  },
  {
   "cell_type": "code",
   "execution_count": 32,
   "metadata": {
    "pycharm": {
     "is_executing": false,
     "name": "#%%\n"
    }
   },
   "outputs": [],
   "source": [
    "positive_images = [kernel_image(first_layer_weights, x, True) for x in range(64)]\n",
    "negative_images = [kernel_image(first_layer_weights, x, False) for x in range(64)]"
   ]
  },
  {
   "cell_type": "code",
   "execution_count": 33,
   "metadata": {
    "pycharm": {
     "is_executing": false
    }
   },
   "outputs": [
    {
     "name": "stdout",
     "output_type": "stream",
     "text": [
      "FILTER No.0 \n",
      " POSITIVE                                           NEGATIVE\n"
     ]
    },
    {
     "data": {
      "image/png": "[encoded data removed]",
      "text/plain": [
       "<Figure size 720x720 with 2 Axes>"
      ]
     },
     "metadata": {
      "needs_background": "light"
     },
     "output_type": "display_data"
    },
    {
     "name": "stdout",
     "output_type": "stream",
     "text": [
      "FILTER No.8 \n",
      " POSITIVE                                           NEGATIVE\n"
     ]
    },
    {
     "data": {
      "image/png": "[encoded data removed]",
      "text/plain": [
       "<Figure size 720x720 with 2 Axes>"
      ]
     },
     "metadata": {
      "needs_background": "light"
     },
     "output_type": "display_data"
    },
    {
     "name": "stdout",
     "output_type": "stream",
     "text": [
      "FILTER No.16 \n",
      " POSITIVE                                           NEGATIVE\n"
     ]
    },
    {
     "data": {
      "image/png": "[encoded data removed]",
      "text/plain": [
       "<Figure size 720x720 with 2 Axes>"
      ]
     },
     "metadata": {
      "needs_background": "light"
     },
     "output_type": "display_data"
    },
    {
     "name": "stdout",
     "output_type": "stream",
     "text": [
      "FILTER No.24 \n",
      " POSITIVE                                           NEGATIVE\n"
     ]
    },
    {
     "data": {
      "image/png": "[encoded data removed]",
      "text/plain": [
       "<Figure size 720x720 with 2 Axes>"
      ]
     },
     "metadata": {
      "needs_background": "light"
     },
     "output_type": "display_data"
    },
    {
     "name": "stdout",
     "output_type": "stream",
     "text": [
      "FILTER No.32 \n",
      " POSITIVE                                           NEGATIVE\n"
     ]
    },
    {
     "data": {
      "image/png": "[encoded data removed]",
      "text/plain": [
       "<Figure size 720x720 with 2 Axes>"
      ]
     },
     "metadata": {
      "needs_background": "light"
     },
     "output_type": "display_data"
    },
    {
     "name": "stdout",
     "output_type": "stream",
     "text": [
      "FILTER No.40 \n",
      " POSITIVE                                           NEGATIVE\n"
     ]
    },
    {
     "data": {
      "image/png": "[encoded data removed]",
      "text/plain": [
       "<Figure size 720x720 with 2 Axes>"
      ]
     },
     "metadata": {
      "needs_background": "light"
     },
     "output_type": "display_data"
    },
    {
     "name": "stdout",
     "output_type": "stream",
     "text": [
      "FILTER No.48 \n",
      " POSITIVE                                           NEGATIVE\n"
     ]
    },
    {
     "data": {
      "image/png": "[encoded data removed]",
      "text/plain": [
       "<Figure size 720x720 with 2 Axes>"
      ]
     },
     "metadata": {
      "needs_background": "light"
     },
     "output_type": "display_data"
    },
    {
     "name": "stdout",
     "output_type": "stream",
     "text": [
      "FILTER No.56 \n",
      " POSITIVE                                           NEGATIVE\n"
     ]
    },
    {
     "data": {
      "image/png": "[encoded data removed]",
      "text/plain": [
       "<Figure size 720x720 with 2 Axes>"
      ]
     },
     "metadata": {
      "needs_background": "light"
     },
     "output_type": "display_data"
    }
   ],
   "source": [
    "plt.style.use('seaborn-bright')\n",
    "for index in range(0, len(positive_images), 8):\n",
    "    print(\"FILTER No.\"+str(index), '\\n', f'{\"POSITIVE\": <50} NEGATIVE')\n",
    "    figu = plt.figure(figsize = (10,10))\n",
    "    figu.add_subplot(1,2,1)\n",
    "    plt.imshow(positive_images[index])\n",
    "    figu.add_subplot(1,2,2)\n",
    "    plt.imshow(negative_images[index])\n",
    "    plt.show()"
   ]
  },
  {
   "cell_type": "markdown",
   "metadata": {
    "pycharm": {
     "name": "#%% md\n"
    }
   },
   "source": [
    "These images show some (8 pairs, adjustable with the last parameter in the loop in the previous cell) of the patterns \n",
    "learnt by the convolutional neural network. This works by loading the weights of a pre-trained model that was exposed\n",
    "to a lot more data than we have available; with these weights, we feed the pre-trained model our images and extract \n",
    "the features that this pre-trained convolutional neural network (VGG16) can identify. We trust that VGG16, due to it \n",
    "being trained on a larger dataset, can identify features from our images much better than a model that we build from \n",
    "scratch and train on our own data.\n",
    "\n",
    "The images show the learnt patterns from the first convolutional layer which shows the most basic patterns it identifies\n",
    "(before going through the pooling layers). It is easy to see especially from filters No.0, 24, 32 some of the patterns\n",
    "that it looks at. It should be noted that because the kernel is only 3x3 it is hard to get any insight into the filters.\n",
    " Nonetheless, the difference between positive and negative \n",
    "\"sides\" of the patterns is indeed noticeable.  "
   ]
  }
 ],
 "metadata": {
  "kernelspec": {
   "display_name": "PyCharm (Assignment4)",
   "language": "python",
   "name": "pycharm-46474081"
  },
  "language_info": {
   "codemirror_mode": {
    "name": "ipython",
    "version": 3
   },
   "file_extension": ".py",
   "mimetype": "text/x-python",
   "name": "python",
   "nbconvert_exporter": "python",
   "pygments_lexer": "ipython3",
   "version": "3.7.1"
  },
  "pycharm": {
   "stem_cell": {
    "cell_type": "raw",
    "source": [],
    "metadata": {
     "collapsed": false
    }
   }
  }
 },
 "nbformat": 4,
 "nbformat_minor": 2
}